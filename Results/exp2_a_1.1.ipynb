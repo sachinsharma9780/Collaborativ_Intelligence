{
 "cells": [
  {
   "cell_type": "code",
   "execution_count": 7,
   "metadata": {},
   "outputs": [],
   "source": [
    "#Importing necessary libraries \n",
    "import keras\n",
    "import numpy as np\n",
    "import pandas as pd\n",
    "from keras.applications import vgg16, inception_v3, resnet50, mobilenet\n",
    "from keras import models\n",
    "from keras import layers\n",
    "from keras import optimizers\n",
    "import cv2\n",
    "from sklearn.metrics import classification_report, confusion_matrix\n",
    "import matplotlib.pyplot as plt\n",
    "import os"
   ]
  },
  {
   "cell_type": "code",
   "execution_count": 8,
   "metadata": {},
   "outputs": [],
   "source": [
    "#Load the ResNet50 model\n",
    "resnet_model = resnet50.ResNet50(weights=None, include_top=False, input_shape=(64, 64, 3))"
   ]
  },
  {
   "cell_type": "code",
   "execution_count": 9,
   "metadata": {},
   "outputs": [
    {
     "name": "stdout",
     "output_type": "stream",
     "text": [
      "<keras.engine.input_layer.InputLayer object at 0x7fe00b6ead30> False\n",
      "<keras.layers.convolutional.ZeroPadding2D object at 0x7fe00b6954e0> True\n",
      "<keras.layers.convolutional.Conv2D object at 0x7fe00b695278> True\n",
      "<keras.layers.normalization.BatchNormalization object at 0x7fe0080daef0> True\n",
      "<keras.layers.core.Activation object at 0x7fdff2458518> True\n",
      "<keras.layers.convolutional.ZeroPadding2D object at 0x7fdffb56e898> True\n",
      "<keras.layers.pooling.MaxPooling2D object at 0x7fdff243c588> True\n",
      "<keras.layers.convolutional.Conv2D object at 0x7fdff2460fd0> True\n",
      "<keras.layers.normalization.BatchNormalization object at 0x7fe0116e9da0> True\n",
      "<keras.layers.core.Activation object at 0x7fe0116e9f60> True\n",
      "<keras.layers.convolutional.Conv2D object at 0x7fe01170b6a0> True\n",
      "<keras.layers.normalization.BatchNormalization object at 0x7fe011668198> True\n",
      "<keras.layers.core.Activation object at 0x7fe0116685f8> True\n",
      "<keras.layers.convolutional.Conv2D object at 0x7fe011609c50> True\n",
      "<keras.layers.convolutional.Conv2D object at 0x7fe011565a20> True\n",
      "<keras.layers.normalization.BatchNormalization object at 0x7fe011565550> True\n",
      "<keras.layers.normalization.BatchNormalization object at 0x7fe01146f5f8> True\n",
      "<keras.layers.merge.Add object at 0x7fe0114d8c88> True\n",
      "<keras.layers.core.Activation object at 0x7fe0113ee908> True\n",
      "<keras.layers.convolutional.Conv2D object at 0x7fe0113eef60> True\n",
      "<keras.layers.normalization.BatchNormalization object at 0x7fe01135ebe0> True\n",
      "<keras.layers.core.Activation object at 0x7fe01133b7b8> True\n",
      "<keras.layers.convolutional.Conv2D object at 0x7fe01130bf60> True\n",
      "<keras.layers.normalization.BatchNormalization object at 0x7fe011266710> True\n",
      "<keras.layers.core.Activation object at 0x7fe011266ba8> True\n",
      "<keras.layers.convolutional.Conv2D object at 0x7fe0112144a8> True\n",
      "<keras.layers.normalization.BatchNormalization object at 0x7fe0111d4cc0> True\n",
      "<keras.layers.merge.Add object at 0x7fe011171710> True\n",
      "<keras.layers.core.Activation object at 0x7fe011102be0> True\n",
      "<keras.layers.convolutional.Conv2D object at 0x7fe011102cf8> True\n",
      "<keras.layers.normalization.BatchNormalization object at 0x7fe0110699e8> True\n",
      "<keras.layers.core.Activation object at 0x7fe011030e80> True\n",
      "<keras.layers.convolutional.Conv2D object at 0x7fe010f9f940> True\n",
      "<keras.layers.normalization.BatchNormalization object at 0x7fe010f62b00> True\n",
      "<keras.layers.core.Activation object at 0x7fe010f795f8> True\n",
      "<keras.layers.convolutional.Conv2D object at 0x7fe003ffe7f0> True\n",
      "<keras.layers.normalization.BatchNormalization object at 0x7fe003f5b048> True\n",
      "<keras.layers.merge.Add object at 0x7fe003f5b748> True\n",
      "<keras.layers.core.Activation object at 0x7fe003ee8cf8> True\n",
      "<keras.layers.convolutional.Conv2D object at 0x7fe003ee8e10> True\n",
      "<keras.layers.normalization.BatchNormalization object at 0x7fe003e56ac8> True\n",
      "<keras.layers.core.Activation object at 0x7fe003e33710> True\n",
      "<keras.layers.convolutional.Conv2D object at 0x7fe003d85630> True\n",
      "<keras.layers.normalization.BatchNormalization object at 0x7fe003d44f60> True\n",
      "<keras.layers.core.Activation object at 0x7fe003d64588> True\n",
      "<keras.layers.convolutional.Conv2D object at 0x7fe003c86be0> True\n",
      "<keras.layers.convolutional.Conv2D object at 0x7fe003c60dd8> True\n",
      "<keras.layers.normalization.BatchNormalization object at 0x7fe003c604e0> True\n",
      "<keras.layers.normalization.BatchNormalization object at 0x7fe003b69588> True\n",
      "<keras.layers.merge.Add object at 0x7fe003b51f28> True\n",
      "<keras.layers.core.Activation object at 0x7fe003ae8898> True\n",
      "<keras.layers.convolutional.Conv2D object at 0x7fe003ae8ef0> True\n",
      "<keras.layers.normalization.BatchNormalization object at 0x7fe003a5ab70> True\n",
      "<keras.layers.core.Activation object at 0x7fe003a38748> True\n",
      "<keras.layers.convolutional.Conv2D object at 0x7fe003984518> True\n",
      "<keras.layers.normalization.BatchNormalization object at 0x7fe0039606a0> True\n",
      "<keras.layers.core.Activation object at 0x7fe003960fd0> True\n",
      "<keras.layers.convolutional.Conv2D object at 0x7fe0038feac8> True\n",
      "<keras.layers.normalization.BatchNormalization object at 0x7fe003855c50> True\n",
      "<keras.layers.merge.Add object at 0x7fe00386e6a0> True\n",
      "<keras.layers.core.Activation object at 0x7fe002f80b70> True\n",
      "<keras.layers.convolutional.Conv2D object at 0x7fe002f80c88> True\n",
      "<keras.layers.normalization.BatchNormalization object at 0x7fe002f6a978> True\n",
      "<keras.layers.core.Activation object at 0x7fe002f32e10> True\n",
      "<keras.layers.convolutional.Conv2D object at 0x7fe002ea48d0> True\n",
      "<keras.layers.normalization.BatchNormalization object at 0x7fe002e64a90> True\n",
      "<keras.layers.core.Activation object at 0x7fe002e00588> True\n",
      "<keras.layers.convolutional.Conv2D object at 0x7fe002da1780> True\n",
      "<keras.layers.normalization.BatchNormalization object at 0x7fe002d741d0> True\n",
      "<keras.layers.merge.Add object at 0x7fe002d746d8> True\n",
      "<keras.layers.core.Activation object at 0x7fe002c89dd8> True\n",
      "<keras.layers.convolutional.Conv2D object at 0x7fe002c89e10> True\n",
      "<keras.layers.normalization.BatchNormalization object at 0x7fe002bfff60> True\n",
      "<keras.layers.core.Activation object at 0x7fe002be06a0> True\n",
      "<keras.layers.convolutional.Conv2D object at 0x7fe002bb25c0> True\n",
      "<keras.layers.normalization.BatchNormalization object at 0x7fe002b75eb8> True\n",
      "<keras.layers.core.Activation object at 0x7fe002b11518> True\n",
      "<keras.layers.convolutional.Conv2D object at 0x7fe002ab5b70> True\n",
      "<keras.layers.normalization.BatchNormalization object at 0x7fe002a11470> True\n",
      "<keras.layers.merge.Add object at 0x7fe002a11d68> True\n",
      "<keras.layers.core.Activation object at 0x7fe0029640b8> True\n",
      "<keras.layers.convolutional.Conv2D object at 0x7fe0029b46a0> True\n",
      "<keras.layers.normalization.BatchNormalization object at 0x7fe0029234e0> True\n",
      "<keras.layers.core.Activation object at 0x7fe0028eaa90> True\n",
      "<keras.layers.convolutional.Conv2D object at 0x7fe0028479b0> True\n",
      "<keras.layers.normalization.BatchNormalization object at 0x7fe0028221d0> True\n",
      "<keras.layers.core.Activation object at 0x7fe002822908> True\n",
      "<keras.layers.convolutional.Conv2D object at 0x7fe001746978> True\n",
      "<keras.layers.convolutional.Conv2D object at 0x7fe001722cf8> True\n",
      "<keras.layers.normalization.BatchNormalization object at 0x7fe001722780> True\n",
      "<keras.layers.normalization.BatchNormalization object at 0x7fe001616f60> True\n",
      "<keras.layers.merge.Add object at 0x7fe0016367b8> True\n",
      "<keras.layers.core.Activation object at 0x7fe0015467b8> True\n",
      "<keras.layers.convolutional.Conv2D object at 0x7fe001522eb8> True\n",
      "<keras.layers.normalization.BatchNormalization object at 0x7fe0014c25c0> True\n",
      "<keras.layers.core.Activation object at 0x7fe00148ae48> True\n",
      "<keras.layers.convolutional.Conv2D object at 0x7fe001472940> True\n",
      "<keras.layers.normalization.BatchNormalization object at 0x7fe0013c0160> True\n",
      "<keras.layers.core.Activation object at 0x7fe0013c0898> True\n",
      "<keras.layers.convolutional.Conv2D object at 0x7fe001372908> True\n",
      "<keras.layers.normalization.BatchNormalization object at 0x7fe0012ce710> True\n",
      "<keras.layers.merge.Add object at 0x7fe0012cec88> True\n",
      "<keras.layers.core.Activation object at 0x7fe001273e48> True\n",
      "<keras.layers.convolutional.Conv2D object at 0x7fe0011c5cc0> True\n",
      "<keras.layers.normalization.BatchNormalization object at 0x7fe0011e3518> True\n",
      "<keras.layers.core.Activation object at 0x7fe0011aeda0> True\n",
      "<keras.layers.convolutional.Conv2D object at 0x7fe00111ce48> True\n",
      "<keras.layers.normalization.BatchNormalization object at 0x7fe0010e0a20> True\n",
      "<keras.layers.core.Activation object at 0x7fe0010f9278> True\n",
      "<keras.layers.convolutional.Conv2D object at 0x7fe001019710> True\n",
      "<keras.layers.normalization.BatchNormalization object at 0x7fdffb53f1d0> True\n",
      "<keras.layers.merge.Add object at 0x7fdff2461f60> True\n",
      "<keras.layers.core.Activation object at 0x7fdff245a860> True\n",
      "<keras.layers.convolutional.Conv2D object at 0x7fdff245a8d0> True\n",
      "<keras.layers.normalization.BatchNormalization object at 0x7fdff24ad2e8> True\n",
      "<keras.layers.core.Activation object at 0x7fdff248c908> True\n",
      "<keras.layers.convolutional.Conv2D object at 0x7fdff24ec4a8> True\n",
      "<keras.layers.normalization.BatchNormalization object at 0x7fdff24cf860> True\n",
      "<keras.layers.core.Activation object at 0x7fdff24c1ef0> True\n",
      "<keras.layers.convolutional.Conv2D object at 0x7fdff250d668> True\n",
      "<keras.layers.normalization.BatchNormalization object at 0x7fdff256fb38> True\n",
      "<keras.layers.merge.Add object at 0x7fdff256f518> True\n",
      "<keras.layers.core.Activation object at 0x7fdff25bc668> True\n",
      "<keras.layers.convolutional.Conv2D object at 0x7fdff25bc550> True\n",
      "<keras.layers.normalization.BatchNormalization object at 0x7fdff25922b0> True\n",
      "<keras.layers.core.Activation object at 0x7fdff25f28d0> True\n",
      "<keras.layers.convolutional.Conv2D object at 0x7fdff25d3b00> True\n",
      "<keras.layers.normalization.BatchNormalization object at 0x7fdff2634dd8> True\n",
      "<keras.layers.core.Activation object at 0x7fdff2629e10> True\n",
      "<keras.layers.convolutional.Conv2D object at 0x7fdff2675588> True\n",
      "<keras.layers.normalization.BatchNormalization object at 0x7fdff2640780> True\n",
      "<keras.layers.merge.Add object at 0x7fdff2657470> True\n",
      "<keras.layers.core.Activation object at 0x7fdff26a2518> True\n",
      "<keras.layers.convolutional.Conv2D object at 0x7fdff26a2400> True\n",
      "<keras.layers.normalization.BatchNormalization object at 0x7fdff26f9550> True\n",
      "<keras.layers.core.Activation object at 0x7fdff26da320> True\n",
      "<keras.layers.convolutional.Conv2D object at 0x7fdff27387b8> True\n",
      "<keras.layers.normalization.BatchNormalization object at 0x7fdff271c978> True\n",
      "<keras.layers.core.Activation object at 0x7fdff2711ba8> True\n",
      "<keras.layers.convolutional.Conv2D object at 0x7fdff275bb70> True\n",
      "<keras.layers.normalization.BatchNormalization object at 0x7fdff27bd780> True\n",
      "<keras.layers.merge.Add object at 0x7fdff27b4e80> True\n",
      "<keras.layers.core.Activation object at 0x7fdff278ba90> True\n",
      "<keras.layers.convolutional.Conv2D object at 0x7fdff278b8d0> True\n",
      "<keras.layers.normalization.BatchNormalization object at 0x7fdff27d6e80> True\n",
      "<keras.layers.core.Activation object at 0x7fdff283f630> True\n",
      "<keras.layers.convolutional.Conv2D object at 0x7fdff28236d8> True\n",
      "<keras.layers.normalization.BatchNormalization object at 0x7fdff28037f0> True\n",
      "<keras.layers.core.Activation object at 0x7fdff287a8d0> True\n",
      "<keras.layers.convolutional.Conv2D object at 0x7fdff2842128> True\n",
      "<keras.layers.convolutional.Conv2D object at 0x7fdff2898cc0> True\n",
      "<keras.layers.normalization.BatchNormalization object at 0x7fdff28a5588> True\n",
      "<keras.layers.normalization.BatchNormalization object at 0x7fdff293cdd8> True\n",
      "<keras.layers.merge.Add object at 0x7fdff28c6940> True\n",
      "<keras.layers.core.Activation object at 0x7fdff29124a8> True\n",
      "<keras.layers.convolutional.Conv2D object at 0x7fdff2952c18> True\n",
      "<keras.layers.normalization.BatchNormalization object at 0x7fdff29684a8> True\n",
      "<keras.layers.core.Activation object at 0x7fdff2949898> True\n",
      "<keras.layers.convolutional.Conv2D object at 0x7fdff29b4c88> True\n",
      "<keras.layers.normalization.BatchNormalization object at 0x7fdff298b6d8> True\n",
      "<keras.layers.core.Activation object at 0x7fdff29829b0> True\n",
      "<keras.layers.convolutional.Conv2D object at 0x7fdff29cc710> True\n",
      "<keras.layers.normalization.BatchNormalization object at 0x7fdff2a2d470> True\n",
      "<keras.layers.merge.Add object at 0x7fdff2a25c18> True\n",
      "<keras.layers.core.Activation object at 0x7fdff2a7a2b0> True\n",
      "<keras.layers.convolutional.Conv2D object at 0x7fdff2a51908> True\n",
      "<keras.layers.normalization.BatchNormalization object at 0x7fdff2a45fd0> True\n",
      "<keras.layers.core.Activation object at 0x7fdff2ab00f0> True\n",
      "<keras.layers.convolutional.Conv2D object at 0x7fdff2a85a58> True\n",
      "<keras.layers.normalization.BatchNormalization object at 0x7fdff2af20f0> True\n",
      "<keras.layers.core.Activation object at 0x7fdff2ae86a0> True\n",
      "<keras.layers.convolutional.Conv2D object at 0x7fdff2b29828> True\n",
      "<keras.layers.normalization.BatchNormalization object at 0x7fdff2b14588> True\n",
      "<keras.layers.merge.Add object at 0x7fdff2b0cf60> True\n",
      "<keras.layers.core.Activation object at 0x7fdff2b5f550> True\n"
     ]
    }
   ],
   "source": [
    "# Checking the trainable status of the individual layers\n",
    "for layer in resnet_model.layers:\n",
    "    print(layer, layer.trainable)"
   ]
  },
  {
   "cell_type": "code",
   "execution_count": 13,
   "metadata": {},
   "outputs": [
    {
     "name": "stdout",
     "output_type": "stream",
     "text": [
      "_________________________________________________________________\n",
      "Layer (type)                 Output Shape              Param #   \n",
      "=================================================================\n",
      "resnet50 (Model)             (None, 2, 2, 2048)        23587712  \n",
      "_________________________________________________________________\n",
      "flatten_4 (Flatten)          (None, 8192)              0         \n",
      "_________________________________________________________________\n",
      "dense_7 (Dense)              (None, 1024)              8389632   \n",
      "_________________________________________________________________\n",
      "dropout_4 (Dropout)          (None, 1024)              0         \n",
      "_________________________________________________________________\n",
      "dense_8 (Dense)              (None, 3)                 3075      \n",
      "=================================================================\n",
      "Total params: 31,980,419\n",
      "Trainable params: 31,927,299\n",
      "Non-trainable params: 53,120\n",
      "_________________________________________________________________\n"
     ]
    }
   ],
   "source": [
    "# Adding classifier on top of Convolutional base\n",
    "# create the model\n",
    "model = models.Sequential()\n",
    "\n",
    "# Add the resnet50 convolutional model\n",
    "model.add(resnet_model)\n",
    "\n",
    "# Adding new Layers\n",
    "model.add(layers.Flatten())\n",
    "model.add(layers.Dense(1024, activation='relu'))\n",
    "model.add(layers.Dropout(0.5))\n",
    "model.add(layers.Dense(3, activation='softmax'))\n",
    "\n",
    "# Showing summary of model\n",
    "model.summary()"
   ]
  },
  {
   "cell_type": "code",
   "execution_count": 14,
   "metadata": {},
   "outputs": [
    {
     "name": "stdout",
     "output_type": "stream",
     "text": [
      "Found 22528 images belonging to 3 classes.\n",
      "Found 6460 images belonging to 3 classes.\n"
     ]
    }
   ],
   "source": [
    "# Fitting the CNN to the images(Image Augmentation, Image Preprocessing)\n",
    "from keras.preprocessing.image import ImageDataGenerator\n",
    "train_datagen = ImageDataGenerator(  \n",
    "        rescale=1./255,\n",
    "        shear_range=0.2,             \n",
    "        zoom_range=0.2,              \n",
    "        horizontal_flip=True)\n",
    "\n",
    "\n",
    "# Normalizing the test set\n",
    "test_datagen = ImageDataGenerator(rescale=1./255)\n",
    "\n",
    "# path to dataset\n",
    "os.chdir('/home/sachin_sharma/Desktop/exp_2_jpg')\n",
    "\n",
    "# This will create 80:20 split of training and test set \n",
    "training_set = train_datagen.flow_from_directory(\n",
    "        'TrainingSet',\n",
    "         target_size=(64,64),\n",
    "         batch_size=32,\n",
    "         class_mode='categorical')\n",
    "\n",
    "# This will create the Test set\n",
    "test_set = test_datagen.flow_from_directory(\n",
    "        'TestSet',\n",
    "        target_size=(64,64),\n",
    "        batch_size=32,\n",
    "        class_mode='categorical', \n",
    "        shuffle=False)"
   ]
  },
  {
   "cell_type": "code",
   "execution_count": 15,
   "metadata": {},
   "outputs": [
    {
     "name": "stdout",
     "output_type": "stream",
     "text": [
      "Epoch 1/10\n",
      "704/704 [==============================] - 56s 79ms/step - loss: 1.0128 - acc: 0.8219 - val_loss: 0.5899 - val_acc: 0.8604\n",
      "Epoch 2/10\n",
      "704/704 [==============================] - 45s 64ms/step - loss: 0.4079 - acc: 0.8765 - val_loss: 0.3344 - val_acc: 0.8850\n",
      "Epoch 3/10\n",
      "704/704 [==============================] - 45s 65ms/step - loss: 0.3750 - acc: 0.8903 - val_loss: 0.6412 - val_acc: 0.8255\n",
      "Epoch 4/10\n",
      "704/704 [==============================] - 46s 65ms/step - loss: 0.3740 - acc: 0.9007 - val_loss: 0.2498 - val_acc: 0.8935\n",
      "Epoch 5/10\n",
      "704/704 [==============================] - 46s 65ms/step - loss: 0.3809 - acc: 0.9014 - val_loss: 0.4355 - val_acc: 0.8406\n",
      "Epoch 6/10\n",
      "704/704 [==============================] - 46s 65ms/step - loss: 0.1961 - acc: 0.9098 - val_loss: 0.2062 - val_acc: 0.8964\n",
      "Epoch 7/10\n",
      "704/704 [==============================] - 47s 66ms/step - loss: 0.1947 - acc: 0.9138 - val_loss: 0.2454 - val_acc: 0.8896\n",
      "Epoch 8/10\n",
      "704/704 [==============================] - 46s 65ms/step - loss: 0.1809 - acc: 0.9185 - val_loss: 0.1698 - val_acc: 0.9158\n",
      "Epoch 9/10\n",
      "704/704 [==============================] - 47s 67ms/step - loss: 0.1761 - acc: 0.9193 - val_loss: 0.3881 - val_acc: 0.8427\n",
      "Epoch 10/10\n",
      "704/704 [==============================] - 46s 65ms/step - loss: 0.1829 - acc: 0.9201 - val_loss: 0.2496 - val_acc: 0.8851\n"
     ]
    }
   ],
   "source": [
    "# Compile the model\n",
    "model.compile(loss='categorical_crossentropy',\n",
    "              optimizer=optimizers.RMSprop(lr=1e-4),\n",
    "              metrics=['acc'])\n",
    "# Train the model\n",
    "history = model.fit_generator(\n",
    "          training_set, \n",
    "          steps_per_epoch=(training_set.samples/32),\n",
    "          epochs=10,\n",
    "          validation_data=test_set,\n",
    "          validation_steps=(test_set.samples/32))"
   ]
  },
  {
   "cell_type": "code",
   "execution_count": 16,
   "metadata": {},
   "outputs": [],
   "source": [
    "model.save('exp2_a1.1.h5')"
   ]
  },
  {
   "cell_type": "code",
   "execution_count": 17,
   "metadata": {},
   "outputs": [
    {
     "data": {
      "text/plain": [
       "{'Else': 0, 'Industrial': 1, 'Residential': 2}"
      ]
     },
     "execution_count": 17,
     "metadata": {},
     "output_type": "execute_result"
    }
   ],
   "source": [
    "# Visualizing the mapping between labels\n",
    "training_set.class_indices\n"
   ]
  },
  {
   "cell_type": "code",
   "execution_count": 18,
   "metadata": {},
   "outputs": [
    {
     "name": "stdout",
     "output_type": "stream",
     "text": [
      "Confusion Matrix\n",
      "             Else  Industrial  Residential\n",
      "Else         4496          59          245\n",
      "Industrial      2         372          386\n",
      "Residential     6          44          850\n"
     ]
    }
   ],
   "source": [
    "# Confusion Matrix \n",
    "Y_pred = model.predict_generator(test_set, test_set.samples//32 +1 )\n",
    "y_pred = np.argmax(Y_pred, axis=1) # predictions\n",
    "print('Confusion Matrix')\n",
    "cm = confusion_matrix(test_set.classes, y_pred)\n",
    "#print(cm)\n",
    "# visualizing results in table\n",
    "def cm2df(cm, labels):\n",
    "    df = pd.DataFrame()\n",
    "    # rows\n",
    "    for i, row_label in enumerate(labels):\n",
    "        rowdata={}\n",
    "        # columns\n",
    "        for j, col_label in enumerate(labels): \n",
    "            rowdata[col_label]=cm[i,j]\n",
    "        df = df.append(pd.DataFrame.from_dict({row_label:rowdata}, orient='index'))\n",
    "    return df[labels]\n",
    "\n",
    "df = cm2df(cm, [\"Else\", \"Industrial\", \"Residential\"])\n",
    "print(df)"
   ]
  },
  {
   "cell_type": "code",
   "execution_count": 19,
   "metadata": {},
   "outputs": [
    {
     "name": "stdout",
     "output_type": "stream",
     "text": [
      "Classification Report\n",
      "              precision    recall  f1-score   support\n",
      "\n",
      "        Else       1.00      0.94      0.97      4800\n",
      "  Industrial       0.78      0.49      0.60       760\n",
      " Residential       0.57      0.94      0.71       900\n",
      "\n",
      "   micro avg       0.89      0.89      0.89      6460\n",
      "   macro avg       0.79      0.79      0.76      6460\n",
      "weighted avg       0.91      0.89      0.89      6460\n",
      "\n"
     ]
    }
   ],
   "source": [
    "# Classification report\n",
    "print('Classification Report')\n",
    "target_names = ['Else','Industrial','Residential']\n",
    "classificn_report = classification_report(test_set.classes, y_pred, target_names=target_names)\n",
    "print(classificn_report)"
   ]
  },
  {
   "cell_type": "code",
   "execution_count": 20,
   "metadata": {},
   "outputs": [
    {
     "name": "stdout",
     "output_type": "stream",
     "text": [
      "dict_keys(['val_loss', 'val_acc', 'loss', 'acc'])\n"
     ]
    },
    {
     "data": {
      "image/png": "[encoded data removed]",
      "text/plain": [
       "<Figure size 432x288 with 1 Axes>"
      ]
     },
     "metadata": {
      "needs_background": "light"
     },
     "output_type": "display_data"
    },
    {
     "data": {
      "image/png": "[encoded data removed]",
      "text/plain": [
       "<Figure size 432x288 with 1 Axes>"
      ]
     },
     "metadata": {
      "needs_background": "light"
     },
     "output_type": "display_data"
    }
   ],
   "source": [
    "# Plotting the Loss and Classification Accuracy\n",
    "model.metrics_names\n",
    "print(history.history.keys())\n",
    "#  \"Accuracy\"\n",
    "plt.plot(history.history['acc'])\n",
    "plt.plot(history.history['val_acc'])\n",
    "plt.title('Model Accuracy')\n",
    "plt.ylabel('Accuracy')\n",
    "plt.xlabel('Epoch')\n",
    "plt.legend(['train', 'test'], loc='upper left')\n",
    "plt.show()\n",
    "\n",
    "# \"Loss\"\n",
    "plt.plot(history.history['loss'])\n",
    "plt.plot(history.history['val_loss'])\n",
    "plt.title('Model loss')\n",
    "plt.ylabel('Loss')\n",
    "plt.xlabel('Epoch')\n",
    "plt.legend(['train', 'test'], loc='upper left')\n",
    "plt.show()\n"
   ]
  }
 ],
 "metadata": {
  "kernelspec": {
   "display_name": "tf",
   "language": "python",
   "name": "tf"
  },
  "language_info": {
   "codemirror_mode": {
    "name": "ipython",
    "version": 3
   },
   "file_extension": ".py",
   "mimetype": "text/x-python",
   "name": "python",
   "nbconvert_exporter": "python",
   "pygments_lexer": "ipython3",
   "version": "3.6.6"
  }
 },
 "nbformat": 4,
 "nbformat_minor": 2
}
