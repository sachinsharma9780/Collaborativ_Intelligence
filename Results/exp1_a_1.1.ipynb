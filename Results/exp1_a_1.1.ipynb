{
 "cells": [
  {
   "cell_type": "code",
   "execution_count": 1,
   "metadata": {},
   "outputs": [
    {
     "name": "stderr",
     "output_type": "stream",
     "text": [
      "Using TensorFlow backend.\n"
     ]
    }
   ],
   "source": [
    "#Importing necessary libraries \n",
    "import keras\n",
    "import numpy as np\n",
    "import pandas as pd\n",
    "from keras.applications import vgg16, inception_v3, resnet50, mobilenet\n",
    "from keras import models\n",
    "from keras import layers\n",
    "from keras import optimizers\n",
    "import cv2\n",
    "from sklearn.metrics import classification_report, confusion_matrix\n",
    "import matplotlib.pyplot as plt\n",
    "import os"
   ]
  },
  {
   "cell_type": "code",
   "execution_count": 2,
   "metadata": {},
   "outputs": [
    {
     "name": "stderr",
     "output_type": "stream",
     "text": [
      "/home/sachin_sharma/.conda/envs/tf18/lib/python3.6/site-packages/keras_applications/resnet50.py:265: UserWarning: The output shape of `ResNet50(include_top=False)` has been changed since Keras 2.2.0.\n",
      "  warnings.warn('The output shape of `ResNet50(include_top=False)` '\n"
     ]
    }
   ],
   "source": [
    "#Load the ResNet50 model\n",
    "resnet_model = resnet50.ResNet50(weights=None, include_top=False, input_shape=(64, 64, 3))"
   ]
  },
  {
   "cell_type": "code",
   "execution_count": 3,
   "metadata": {},
   "outputs": [
    {
     "name": "stdout",
     "output_type": "stream",
     "text": [
      "<keras.engine.input_layer.InputLayer object at 0x7fbe32bedcf8> False\n",
      "<keras.layers.convolutional.ZeroPadding2D object at 0x7fbe31067710> True\n",
      "<keras.layers.convolutional.Conv2D object at 0x7fbe310674e0> True\n",
      "<keras.layers.normalization.BatchNormalization object at 0x7fbe31067be0> True\n",
      "<keras.layers.core.Activation object at 0x7fbe31067a20> True\n",
      "<keras.layers.convolutional.ZeroPadding2D object at 0x7fbe30734860> True\n",
      "<keras.layers.pooling.MaxPooling2D object at 0x7fbe306ec8d0> True\n",
      "<keras.layers.convolutional.Conv2D object at 0x7fbe30fceba8> True\n",
      "<keras.layers.normalization.BatchNormalization object at 0x7fbe30688630> True\n",
      "<keras.layers.core.Activation object at 0x7fbe30688f98> True\n",
      "<keras.layers.convolutional.Conv2D object at 0x7fbe30629e48> True\n",
      "<keras.layers.normalization.BatchNormalization object at 0x7fbe305ee898> True\n",
      "<keras.layers.core.Activation object at 0x7fbe30605390> True\n",
      "<keras.layers.convolutional.Conv2D object at 0x7fbe3073c6d8> True\n",
      "<keras.layers.convolutional.Conv2D object at 0x7fbe305062b0> True\n",
      "<keras.layers.normalization.BatchNormalization object at 0x7fbe304ef898> True\n",
      "<keras.layers.normalization.BatchNormalization object at 0x7fbe303e2f98> True\n",
      "<keras.layers.merge.Add object at 0x7fbe30400908> True\n",
      "<keras.layers.core.Activation object at 0x7fbe30341588> True\n",
      "<keras.layers.convolutional.Conv2D object at 0x7fbe302e3c18> True\n",
      "<keras.layers.normalization.BatchNormalization object at 0x7fbe30302908> True\n",
      "<keras.layers.core.Activation object at 0x7fbe302c7ac8> True\n",
      "<keras.layers.convolutional.Conv2D object at 0x7fbe3022b470> True\n",
      "<keras.layers.normalization.BatchNormalization object at 0x7fbe301eacf8> True\n",
      "<keras.layers.core.Activation object at 0x7fbe30209630> True\n",
      "<keras.layers.convolutional.Conv2D object at 0x7fbe3012cb38> True\n",
      "<keras.layers.normalization.BatchNormalization object at 0x7fbe301094e0> True\n",
      "<keras.layers.merge.Add object at 0x7fbe30109dd8> True\n",
      "<keras.layers.core.Activation object at 0x7fbe30058400> True\n",
      "<keras.layers.convolutional.Conv2D object at 0x7fbe287dbac8> True\n",
      "<keras.layers.normalization.BatchNormalization object at 0x7fbe287f3668> True\n",
      "<keras.layers.core.Activation object at 0x7fbe2873b978> True\n",
      "<keras.layers.convolutional.Conv2D object at 0x7fbe2871cba8> True\n",
      "<keras.layers.normalization.BatchNormalization object at 0x7fbe286f7550> True\n",
      "<keras.layers.core.Activation object at 0x7fbe286f7a20> True\n",
      "<keras.layers.convolutional.Conv2D object at 0x7fbe28614e80> True\n",
      "<keras.layers.normalization.BatchNormalization object at 0x7fbe285f1c50> True\n",
      "<keras.layers.merge.Add object at 0x7fbe28587908> True\n",
      "<keras.layers.core.Activation object at 0x7fbe2851aba8> True\n",
      "<keras.layers.convolutional.Conv2D object at 0x7fbe2851acc0> True\n",
      "<keras.layers.normalization.BatchNormalization object at 0x7fbe28485d30> True\n",
      "<keras.layers.core.Activation object at 0x7fbe284783c8> True\n",
      "<keras.layers.convolutional.Conv2D object at 0x7fbe28426a58> True\n",
      "<keras.layers.normalization.BatchNormalization object at 0x7fbe283f8cc0> True\n",
      "<keras.layers.core.Activation object at 0x7fbe28395978> True\n",
      "<keras.layers.convolutional.Conv2D object at 0x7fbe283389e8> True\n",
      "<keras.layers.convolutional.Conv2D object at 0x7fbe2828fc18> True\n",
      "<keras.layers.normalization.BatchNormalization object at 0x7fbe2828f390> True\n",
      "<keras.layers.normalization.BatchNormalization object at 0x7fbe281a7470> True\n",
      "<keras.layers.merge.Add object at 0x7fbe281cbfd0> True\n",
      "<keras.layers.core.Activation object at 0x7fbe28127dd8> True\n",
      "<keras.layers.convolutional.Conv2D object at 0x7fbe280986a0> True\n",
      "<keras.layers.normalization.BatchNormalization object at 0x7fbe280b2128> True\n",
      "<keras.layers.core.Activation object at 0x7fbe207ba630> True\n",
      "<keras.layers.convolutional.Conv2D object at 0x7fbe20787908> True\n",
      "<keras.layers.normalization.BatchNormalization object at 0x7fbe20767898> True\n",
      "<keras.layers.core.Activation object at 0x7fbe206fe2b0> True\n",
      "<keras.layers.convolutional.Conv2D object at 0x7fbe206995f8> True\n",
      "<keras.layers.normalization.BatchNormalization object at 0x7fbe205f9198> True\n",
      "<keras.layers.merge.Add object at 0x7fbe205f97b8> True\n",
      "<keras.layers.core.Activation object at 0x7fbe20585d68> True\n",
      "<keras.layers.convolutional.Conv2D object at 0x7fbe20585da0> True\n",
      "<keras.layers.normalization.BatchNormalization object at 0x7fbe20577710> True\n",
      "<keras.layers.core.Activation object at 0x7fbe204d7438> True\n",
      "<keras.layers.convolutional.Conv2D object at 0x7fbe204a8668> True\n",
      "<keras.layers.normalization.BatchNormalization object at 0x7fbe204071d0> True\n",
      "<keras.layers.core.Activation object at 0x7fbe20407828> True\n",
      "<keras.layers.convolutional.Conv2D object at 0x7fbe203aad30> True\n",
      "<keras.layers.normalization.BatchNormalization object at 0x7fbe203076d8> True\n",
      "<keras.layers.merge.Add object at 0x7fbe20307780> True\n",
      "<keras.layers.core.Activation object at 0x7fbe202abb70> True\n",
      "<keras.layers.convolutional.Conv2D object at 0x7fbe201facc0> True\n",
      "<keras.layers.normalization.BatchNormalization object at 0x7fbe202189b0> True\n",
      "<keras.layers.core.Activation object at 0x7fbe201e2b70> True\n",
      "<keras.layers.convolutional.Conv2D object at 0x7fbe20139518> True\n",
      "<keras.layers.normalization.BatchNormalization object at 0x7fbe20116668> True\n",
      "<keras.layers.core.Activation object at 0x7fbe20116c18> True\n",
      "<keras.layers.convolutional.Conv2D object at 0x7fbe200484a8> True\n",
      "<keras.layers.normalization.BatchNormalization object at 0x7fbe107ccef0> True\n",
      "<keras.layers.merge.Add object at 0x7fbe107ea668> True\n",
      "<keras.layers.core.Activation object at 0x7fbe106feba8> True\n",
      "<keras.layers.convolutional.Conv2D object at 0x7fbe106feeb8> True\n",
      "<keras.layers.normalization.BatchNormalization object at 0x7fbe106ee5c0> True\n",
      "<keras.layers.core.Activation object at 0x7fbe1065d2e8> True\n",
      "<keras.layers.convolutional.Conv2D object at 0x7fbe1061e518> True\n",
      "<keras.layers.normalization.BatchNormalization object at 0x7fbe105ddeb8> True\n",
      "<keras.layers.core.Activation object at 0x7fbe1057d6d8> True\n",
      "<keras.layers.convolutional.Conv2D object at 0x7fbe10522be0> True\n",
      "<keras.layers.convolutional.Conv2D object at 0x7fbe105389b0> True\n",
      "<keras.layers.normalization.BatchNormalization object at 0x7fbe1047d588> True\n",
      "<keras.layers.normalization.BatchNormalization object at 0x7fbe1038f668> True\n",
      "<keras.layers.merge.Add object at 0x7fbe103f5f60> True\n",
      "<keras.layers.core.Activation object at 0x7fbe10321ba8> True\n",
      "<keras.layers.convolutional.Conv2D object at 0x7fbe102fae48> True\n",
      "<keras.layers.normalization.BatchNormalization object at 0x7fbe10299588> True\n",
      "<keras.layers.core.Activation object at 0x7fbe10262e10> True\n",
      "<keras.layers.convolutional.Conv2D object at 0x7fbe101c9940> True\n",
      "<keras.layers.normalization.BatchNormalization object at 0x7fbe1019f208> True\n",
      "<keras.layers.core.Activation object at 0x7fbe1019fb00> True\n",
      "<keras.layers.convolutional.Conv2D object at 0x7fbe101385c0> True\n",
      "<keras.layers.normalization.BatchNormalization object at 0x7fbe100a09b0> True\n",
      "<keras.layers.merge.Add object at 0x7fbe1003d668> True\n",
      "<keras.layers.core.Activation object at 0x7fbe0878b940> True\n",
      "<keras.layers.convolutional.Conv2D object at 0x7fbe0878ba58> True\n",
      "<keras.layers.normalization.BatchNormalization object at 0x7fbe0877b160> True\n",
      "<keras.layers.core.Activation object at 0x7fbe086ed278> True\n",
      "<keras.layers.convolutional.Conv2D object at 0x7fbe086af4a8> True\n",
      "<keras.layers.normalization.BatchNormalization object at 0x7fbe0866cef0> True\n",
      "<keras.layers.core.Activation object at 0x7fbe0860c668> True\n",
      "<keras.layers.convolutional.Conv2D object at 0x7fbe085b4b70> True\n",
      "<keras.layers.normalization.BatchNormalization object at 0x7fbe0850e518> True\n",
      "<keras.layers.merge.Add object at 0x7fbe0850e9e8> True\n",
      "<keras.layers.core.Activation object at 0x7fbe0845f438> True\n",
      "<keras.layers.convolutional.Conv2D object at 0x7fbe08405b00> True\n",
      "<keras.layers.normalization.BatchNormalization object at 0x7fbe0841c7f0> True\n",
      "<keras.layers.core.Activation object at 0x7fbe083e9f60> True\n",
      "<keras.layers.convolutional.Conv2D object at 0x7fbe083576d8> True\n",
      "<keras.layers.normalization.BatchNormalization object at 0x7fbe08319978> True\n",
      "<keras.layers.core.Activation object at 0x7fbe0833b630> True\n",
      "<keras.layers.convolutional.Conv2D object at 0x7fbe082526d8> True\n",
      "<keras.layers.normalization.BatchNormalization object at 0x7fbe082321d0> True\n",
      "<keras.layers.merge.Add object at 0x7fbe08232898> True\n",
      "<keras.layers.core.Activation object at 0x7fbe08141cf8> True\n",
      "<keras.layers.convolutional.Conv2D object at 0x7fbe08141e10> True\n",
      "<keras.layers.normalization.BatchNormalization object at 0x7fbe080c7240> True\n",
      "<keras.layers.core.Activation object at 0x7fbe0808a908> True\n",
      "<keras.layers.convolutional.Conv2D object at 0x7fbe0806bb38> True\n",
      "<keras.layers.normalization.BatchNormalization object at 0x7fbdf47874e0> True\n",
      "<keras.layers.core.Activation object at 0x7fbdf4787dd8> True\n",
      "<keras.layers.convolutional.Conv2D object at 0x7fbdf473c940> True\n",
      "<keras.layers.normalization.BatchNormalization object at 0x7fbdf467fba8> True\n",
      "<keras.layers.merge.Add object at 0x7fbdf469b5c0> True\n",
      "<keras.layers.core.Activation object at 0x7fbdf462ab38> True\n",
      "<keras.layers.convolutional.Conv2D object at 0x7fbdf462ac50> True\n",
      "<keras.layers.normalization.BatchNormalization object at 0x7fbdf45972e8> True\n",
      "<keras.layers.core.Activation object at 0x7fbdf457b470> True\n",
      "<keras.layers.convolutional.Conv2D object at 0x7fbdf44cd6a0> True\n",
      "<keras.layers.normalization.BatchNormalization object at 0x7fbdf44ad208> True\n",
      "<keras.layers.core.Activation object at 0x7fbdf44ad860> True\n",
      "<keras.layers.convolutional.Conv2D object at 0x7fbdf43cce48> True\n",
      "<keras.layers.normalization.BatchNormalization object at 0x7fbdf43ae6d8> True\n",
      "<keras.layers.merge.Add object at 0x7fbdf43ae780> True\n",
      "<keras.layers.core.Activation object at 0x7fbdf42cfba8> True\n",
      "<keras.layers.convolutional.Conv2D object at 0x7fbdf42a1cc0> True\n",
      "<keras.layers.normalization.BatchNormalization object at 0x7fbdf423e2b0> True\n",
      "<keras.layers.core.Activation object at 0x7fbdf4236da0> True\n",
      "<keras.layers.convolutional.Conv2D object at 0x7fbdf41f6908> True\n",
      "<keras.layers.normalization.BatchNormalization object at 0x7fbdf41b8ba8> True\n",
      "<keras.layers.core.Activation object at 0x7fbdf4153128> True\n",
      "<keras.layers.convolutional.Conv2D object at 0x7fbdf40f48d0> True\n",
      "<keras.layers.convolutional.Conv2D object at 0x7fbdf4050a90> True\n",
      "<keras.layers.normalization.BatchNormalization object at 0x7fbdf4050198> True\n",
      "<keras.layers.normalization.BatchNormalization object at 0x7fbdf3f6a358> True\n",
      "<keras.layers.merge.Add object at 0x7fbdf3f51dd8> True\n",
      "<keras.layers.core.Activation object at 0x7fbdf3ef8be0> True\n",
      "<keras.layers.convolutional.Conv2D object at 0x7fbdf3eba9b0> True\n",
      "<keras.layers.normalization.BatchNormalization object at 0x7fbdf3e6f6a0> True\n",
      "<keras.layers.core.Activation object at 0x7fbdf3e3ac50> True\n",
      "<keras.layers.convolutional.Conv2D object at 0x7fbe48240f60> True\n",
      "<keras.layers.normalization.BatchNormalization object at 0x7fbdf3d5ef60> True\n",
      "<keras.layers.core.Activation object at 0x7fbdf3cfd8d0> True\n",
      "<keras.layers.convolutional.Conv2D object at 0x7fbdf3c98c18> True\n",
      "<keras.layers.normalization.BatchNormalization object at 0x7fbdf3c73588> True\n",
      "<keras.layers.merge.Add object at 0x7fbdf3c73a58> True\n",
      "<keras.layers.core.Activation object at 0x7fbdf3b3e4e0> True\n",
      "<keras.layers.convolutional.Conv2D object at 0x7fbdf3b6ab70> True\n",
      "<keras.layers.normalization.BatchNormalization object at 0x7fbdf3b013c8> True\n",
      "<keras.layers.core.Activation object at 0x7fbdf3acaef0> True\n",
      "<keras.layers.convolutional.Conv2D object at 0x7fbdf3abc550> True\n",
      "<keras.layers.normalization.BatchNormalization object at 0x7fbdf3a7ca58> True\n",
      "<keras.layers.core.Activation object at 0x7fbdf3a152b0> True\n",
      "<keras.layers.convolutional.Conv2D object at 0x7fbdf39b4780> True\n",
      "<keras.layers.normalization.BatchNormalization object at 0x7fbdf3916048> True\n",
      "<keras.layers.merge.Add object at 0x7fbdf3916940> True\n",
      "<keras.layers.core.Activation object at 0x7fbdf38a0e10> True\n"
     ]
    }
   ],
   "source": [
    "# Checking the trainable status of the individual layers\n",
    "for layer in resnet_model.layers:\n",
    "    print(layer, layer.trainable)\n",
    "    "
   ]
  },
  {
   "cell_type": "code",
   "execution_count": 4,
   "metadata": {},
   "outputs": [],
   "source": [
    "# Adding classifier on top of Convolutional base\n",
    "# create the model\n",
    "model = models.Sequential()"
   ]
  },
  {
   "cell_type": "code",
   "execution_count": 5,
   "metadata": {},
   "outputs": [],
   "source": [
    "# Add the resnet50 convolutional model\n",
    "model.add(resnet_model)"
   ]
  },
  {
   "cell_type": "code",
   "execution_count": 6,
   "metadata": {},
   "outputs": [],
   "source": [
    "# Adding new Layers\n",
    "model.add(layers.Flatten())\n",
    "model.add(layers.Dense(1024, activation='relu'))\n",
    "model.add(layers.Dropout(0.5))\n",
    "model.add(layers.Dense(9, activation='softmax'))"
   ]
  },
  {
   "cell_type": "code",
   "execution_count": 7,
   "metadata": {},
   "outputs": [
    {
     "name": "stdout",
     "output_type": "stream",
     "text": [
      "_________________________________________________________________\n",
      "Layer (type)                 Output Shape              Param #   \n",
      "=================================================================\n",
      "resnet50 (Model)             (None, 2, 2, 2048)        23587712  \n",
      "_________________________________________________________________\n",
      "flatten_1 (Flatten)          (None, 8192)              0         \n",
      "_________________________________________________________________\n",
      "dense_1 (Dense)              (None, 1024)              8389632   \n",
      "_________________________________________________________________\n",
      "dropout_1 (Dropout)          (None, 1024)              0         \n",
      "_________________________________________________________________\n",
      "dense_2 (Dense)              (None, 9)                 9225      \n",
      "=================================================================\n",
      "Total params: 31,986,569\n",
      "Trainable params: 31,933,449\n",
      "Non-trainable params: 53,120\n",
      "_________________________________________________________________\n"
     ]
    }
   ],
   "source": [
    "# Showing summary of model\n",
    "model.summary()"
   ]
  },
  {
   "cell_type": "code",
   "execution_count": 8,
   "metadata": {},
   "outputs": [],
   "source": [
    "# Fitting the CNN to the images(Image Augmentation, Image Preprocessing)\n",
    "from keras.preprocessing.image import ImageDataGenerator\n",
    "train_datagen = ImageDataGenerator(  \n",
    "        rescale=1./255,\n",
    "        shear_range=0.2,             \n",
    "        zoom_range=0.2,              \n",
    "        horizontal_flip=True)"
   ]
  },
  {
   "cell_type": "code",
   "execution_count": 9,
   "metadata": {},
   "outputs": [],
   "source": [
    "# Normalizing the test set\n",
    "test_datagen = ImageDataGenerator(rescale=1./255)"
   ]
  },
  {
   "cell_type": "code",
   "execution_count": 10,
   "metadata": {},
   "outputs": [],
   "source": [
    "# path to your experimental data\n",
    "os.chdir('/home/sachin_sharma/Desktop/jpg_data')"
   ]
  },
  {
   "cell_type": "code",
   "execution_count": 11,
   "metadata": {},
   "outputs": [
    {
     "name": "stdout",
     "output_type": "stream",
     "text": [
      "Found 20140 images belonging to 9 classes.\n"
     ]
    }
   ],
   "source": [
    "# This will create 80:20 split of training and test set \n",
    "training_set = train_datagen.flow_from_directory(\n",
    "        'TrainingSet',\n",
    "         target_size=(64,64),\n",
    "         batch_size=32,\n",
    "         class_mode='categorical')"
   ]
  },
  {
   "cell_type": "code",
   "execution_count": 12,
   "metadata": {},
   "outputs": [
    {
     "name": "stdout",
     "output_type": "stream",
     "text": [
      "Found 5660 images belonging to 9 classes.\n"
     ]
    }
   ],
   "source": [
    "# This will create the Test set\n",
    "test_set = test_datagen.flow_from_directory(\n",
    "        'TestSet',\n",
    "        target_size=(64,64),\n",
    "        batch_size=32,\n",
    "        class_mode='categorical', \n",
    "        shuffle=False)\n"
   ]
  },
  {
   "cell_type": "code",
   "execution_count": 13,
   "metadata": {},
   "outputs": [],
   "source": [
    "# Compile the model\n",
    "model.compile(loss='categorical_crossentropy',\n",
    "              optimizer=optimizers.RMSprop(lr=1e-4),\n",
    "              metrics=['acc'])"
   ]
  },
  {
   "cell_type": "code",
   "execution_count": 14,
   "metadata": {},
   "outputs": [
    {
     "name": "stdout",
     "output_type": "stream",
     "text": [
      "Epoch 1/30\n",
      "630/629 [==============================] - 48s 76ms/step - loss: 1.6508 - acc: 0.5024 - val_loss: 1.1164 - val_acc: 0.6512\n",
      "Epoch 2/30\n",
      "630/629 [==============================] - 39s 61ms/step - loss: 0.9225 - acc: 0.6775 - val_loss: 0.7530 - val_acc: 0.7210\n",
      "Epoch 3/30\n",
      "630/629 [==============================] - 39s 62ms/step - loss: 0.7574 - acc: 0.7322 - val_loss: 0.7023 - val_acc: 0.7470\n",
      "Epoch 4/30\n",
      "630/629 [==============================] - 40s 63ms/step - loss: 0.6737 - acc: 0.7609 - val_loss: 0.8904 - val_acc: 0.7011\n",
      "Epoch 5/30\n",
      "630/629 [==============================] - 39s 62ms/step - loss: 0.6358 - acc: 0.7829 - val_loss: 0.6465 - val_acc: 0.7678\n",
      "Epoch 6/30\n",
      "630/629 [==============================] - 39s 62ms/step - loss: 0.5801 - acc: 0.7992 - val_loss: 0.5384 - val_acc: 0.8041\n",
      "Epoch 7/30\n",
      "630/629 [==============================] - 39s 62ms/step - loss: 0.5608 - acc: 0.8115 - val_loss: 0.4764 - val_acc: 0.8332\n",
      "Epoch 8/30\n",
      "630/629 [==============================] - 41s 65ms/step - loss: 0.5248 - acc: 0.8198 - val_loss: 0.5026 - val_acc: 0.8147\n",
      "Epoch 9/30\n",
      "630/629 [==============================] - 45s 72ms/step - loss: 0.4848 - acc: 0.8327 - val_loss: 0.4647 - val_acc: 0.8367\n",
      "Epoch 10/30\n",
      "630/629 [==============================] - 45s 72ms/step - loss: 0.4655 - acc: 0.8389 - val_loss: 0.6103 - val_acc: 0.7901\n",
      "Epoch 11/30\n",
      "630/629 [==============================] - 45s 72ms/step - loss: 0.4349 - acc: 0.8502 - val_loss: 0.4354 - val_acc: 0.8468\n",
      "Epoch 12/30\n",
      "630/629 [==============================] - 44s 69ms/step - loss: 0.4138 - acc: 0.8597 - val_loss: 0.7182 - val_acc: 0.7784\n",
      "Epoch 13/30\n",
      "630/629 [==============================] - 44s 69ms/step - loss: 0.3999 - acc: 0.8641 - val_loss: 0.5070 - val_acc: 0.8265\n",
      "Epoch 14/30\n",
      "630/629 [==============================] - 44s 69ms/step - loss: 0.3880 - acc: 0.8684 - val_loss: 0.5514 - val_acc: 0.8088\n",
      "Epoch 15/30\n",
      "630/629 [==============================] - 44s 70ms/step - loss: 0.3712 - acc: 0.8793 - val_loss: 0.5596 - val_acc: 0.8240\n",
      "Epoch 16/30\n",
      "630/629 [==============================] - 44s 70ms/step - loss: 0.3406 - acc: 0.8844 - val_loss: 0.6918 - val_acc: 0.7848\n",
      "Epoch 17/30\n",
      "630/629 [==============================] - 44s 70ms/step - loss: 0.3365 - acc: 0.8898 - val_loss: 0.4622 - val_acc: 0.8470\n",
      "Epoch 18/30\n",
      "630/629 [==============================] - 44s 70ms/step - loss: 0.3171 - acc: 0.8953 - val_loss: 0.5627 - val_acc: 0.8118\n",
      "Epoch 19/30\n",
      "630/629 [==============================] - 44s 70ms/step - loss: 0.3136 - acc: 0.9014 - val_loss: 0.6352 - val_acc: 0.8131\n",
      "Epoch 20/30\n",
      "630/629 [==============================] - 44s 69ms/step - loss: 0.3144 - acc: 0.9011 - val_loss: 0.4080 - val_acc: 0.8802\n",
      "Epoch 21/30\n",
      "630/629 [==============================] - 44s 69ms/step - loss: 0.3090 - acc: 0.9019 - val_loss: 0.5422 - val_acc: 0.8500\n",
      "Epoch 22/30\n",
      "630/629 [==============================] - 44s 69ms/step - loss: 0.2843 - acc: 0.9066 - val_loss: 0.3549 - val_acc: 0.8832\n",
      "Epoch 23/30\n",
      "630/629 [==============================] - 44s 70ms/step - loss: 0.2996 - acc: 0.9084 - val_loss: 0.6992 - val_acc: 0.7876\n",
      "Epoch 24/30\n",
      "630/629 [==============================] - 44s 70ms/step - loss: 0.2662 - acc: 0.9166 - val_loss: 0.4794 - val_acc: 0.8576\n",
      "Epoch 25/30\n",
      "630/629 [==============================] - 44s 70ms/step - loss: 0.2691 - acc: 0.9156 - val_loss: 1.5662 - val_acc: 0.6887\n",
      "Epoch 26/30\n",
      "630/629 [==============================] - 44s 70ms/step - loss: 0.2487 - acc: 0.9205 - val_loss: 0.4206 - val_acc: 0.8698\n",
      "Epoch 27/30\n",
      "630/629 [==============================] - 44s 70ms/step - loss: 0.2284 - acc: 0.9262 - val_loss: 0.3704 - val_acc: 0.8880\n",
      "Epoch 28/30\n",
      "630/629 [==============================] - 44s 69ms/step - loss: 0.2406 - acc: 0.9246 - val_loss: 0.6541 - val_acc: 0.8295\n",
      "Epoch 29/30\n",
      "630/629 [==============================] - 44s 69ms/step - loss: 0.2310 - acc: 0.9253 - val_loss: 0.7059 - val_acc: 0.8159\n",
      "Epoch 30/30\n",
      "630/629 [==============================] - 44s 69ms/step - loss: 0.2344 - acc: 0.9311 - val_loss: 0.6668 - val_acc: 0.8145\n"
     ]
    }
   ],
   "source": [
    "# Train the model\n",
    "history = model.fit_generator(\n",
    "          training_set, \n",
    "          steps_per_epoch=(training_set.samples/32),\n",
    "          epochs=30,\n",
    "          validation_data=test_set,\n",
    "          validation_steps=(test_set.samples/32))"
   ]
  },
  {
   "cell_type": "code",
   "execution_count": 19,
   "metadata": {},
   "outputs": [],
   "source": [
    "model.save('exp_a_1.1.h5')\n"
   ]
  },
  {
   "cell_type": "code",
   "execution_count": 15,
   "metadata": {},
   "outputs": [
    {
     "data": {
      "text/plain": [
       "{'AnnualCrop': 0,\n",
       " 'Buildup': 1,\n",
       " 'Forest': 2,\n",
       " 'HerbaceousVegetation': 3,\n",
       " 'Highway': 4,\n",
       " 'Pasture': 5,\n",
       " 'PermanentCrop': 6,\n",
       " 'River': 7,\n",
       " 'SeaLake': 8}"
      ]
     },
     "execution_count": 15,
     "metadata": {},
     "output_type": "execute_result"
    }
   ],
   "source": [
    "# Visualizing the mapping between labels\n",
    "training_set.class_indices"
   ]
  },
  {
   "cell_type": "code",
   "execution_count": 16,
   "metadata": {},
   "outputs": [
    {
     "name": "stdout",
     "output_type": "stream",
     "text": [
      "Confusion Matrix\n",
      "                      AnnualCrop  Buildup  Forest  HerbaceousVegetation  \\\n",
      "AnnualCrop                   387        0       3                    45   \n",
      "Buildup                        0      848       0                     3   \n",
      "Forest                         0        0     504                    76   \n",
      "HerbaceousVegetation           0        6       0                   557   \n",
      "Highway                        2       31       0                    26   \n",
      "Pasture                        6        7      10                    41   \n",
      "PermanentCrop                  2        5       0                    67   \n",
      "River                          8        7       3                    31   \n",
      "SeaLake                       11        0      73                    65   \n",
      "\n",
      "                      Highway  Pasture  PermanentCrop  River  SeaLake  \n",
      "AnnualCrop                 13       10            121     21        0  \n",
      "Buildup                     8        0              1      0        0  \n",
      "Forest                      0       10              9      1        0  \n",
      "HerbaceousVegetation        0        3             34      0        0  \n",
      "Highway                   501        1             31      8        0  \n",
      "Pasture                    11      414            105      6        0  \n",
      "PermanentCrop              15        0            509      2        0  \n",
      "River                      35       11             34    470        1  \n",
      "SeaLake                     1       13              0     17      420  \n"
     ]
    }
   ],
   "source": [
    "# Confusion Matrix \n",
    "Y_pred = model.predict_generator(test_set, test_set.samples//32 +1 )\n",
    "y_pred = np.argmax(Y_pred, axis=1) # predictions\n",
    "print('Confusion Matrix')\n",
    "cm = confusion_matrix(test_set.classes, y_pred)\n",
    "#print(cm)\n",
    "# visualizing results in table\n",
    "def cm2df(cm, labels):\n",
    "    df = pd.DataFrame()\n",
    "    # rows\n",
    "    for i, row_label in enumerate(labels):\n",
    "        rowdata={}\n",
    "        # columns\n",
    "        for j, col_label in enumerate(labels): \n",
    "            rowdata[col_label]=cm[i,j]\n",
    "        df = df.append(pd.DataFrame.from_dict({row_label:rowdata}, orient='index'))\n",
    "    return df[labels]\n",
    "\n",
    "df = cm2df(cm, [\"AnnualCrop\", \"Buildup\", \"Forest\", \"HerbaceousVegetation\", \"Highway\", \"Pasture\", \"PermanentCrop\", \"River\", \"SeaLake\"])\n",
    "print(df)"
   ]
  },
  {
   "cell_type": "code",
   "execution_count": 17,
   "metadata": {},
   "outputs": [
    {
     "name": "stdout",
     "output_type": "stream",
     "text": [
      "Classification Report\n",
      "                      precision    recall  f1-score   support\n",
      "\n",
      "          AnnualCrop       0.93      0.65      0.76       600\n",
      "             Buildup       0.94      0.99      0.96       860\n",
      "              Forest       0.85      0.84      0.84       600\n",
      "HerbaceousVegetation       0.61      0.93      0.74       600\n",
      "             Highway       0.86      0.83      0.85       600\n",
      "             Pasture       0.90      0.69      0.78       600\n",
      "       PermanentCrop       0.60      0.85      0.70       600\n",
      "               River       0.90      0.78      0.84       600\n",
      "             SeaLake       1.00      0.70      0.82       600\n",
      "\n",
      "           micro avg       0.81      0.81      0.81      5660\n",
      "           macro avg       0.84      0.81      0.81      5660\n",
      "        weighted avg       0.85      0.81      0.82      5660\n",
      "\n"
     ]
    }
   ],
   "source": [
    "# Classification report\n",
    "print('Classification Report')\n",
    "target_names = ['AnnualCrop','Buildup','Forest', 'HerbaceousVegetation', 'Highway', 'Pasture', 'PermanentCrop', 'River', 'SeaLake']\n",
    "classificn_report = classification_report(test_set.classes, y_pred, target_names=target_names)\n",
    "print(classificn_report)"
   ]
  },
  {
   "cell_type": "code",
   "execution_count": 18,
   "metadata": {},
   "outputs": [
    {
     "name": "stdout",
     "output_type": "stream",
     "text": [
      "dict_keys(['val_loss', 'val_acc', 'loss', 'acc'])\n"
     ]
    },
    {
     "data": {
      "image/png": "[encoded data removed]",
      "text/plain": [
       "<Figure size 432x288 with 1 Axes>"
      ]
     },
     "metadata": {
      "needs_background": "light"
     },
     "output_type": "display_data"
    },
    {
     "data": {
      "image/png": "[encoded data removed]",
      "text/plain": [
       "<Figure size 432x288 with 1 Axes>"
      ]
     },
     "metadata": {
      "needs_background": "light"
     },
     "output_type": "display_data"
    }
   ],
   "source": [
    "# Plotting the Loss and Classification Accuracy\n",
    "model.metrics_names\n",
    "print(history.history.keys())\n",
    "#  \"Accuracy\"\n",
    "plt.plot(history.history['acc'])\n",
    "plt.plot(history.history['val_acc'])\n",
    "plt.title('Model Accuracy')\n",
    "plt.ylabel('Accuracy')\n",
    "plt.xlabel('Epoch')\n",
    "plt.legend(['train', 'test'], loc='upper left')\n",
    "plt.show()\n",
    "\n",
    "# \"Loss\"\n",
    "plt.plot(history.history['loss'])\n",
    "plt.plot(history.history['val_loss'])\n",
    "plt.title('Model loss')\n",
    "plt.ylabel('Loss')\n",
    "plt.xlabel('Epoch')\n",
    "plt.legend(['train', 'test'], loc='upper left')\n",
    "plt.show()\n"
   ]
  }
 ],
 "metadata": {
  "kernelspec": {
   "display_name": "tf",
   "language": "python",
   "name": "tf"
  },
  "language_info": {
   "codemirror_mode": {
    "name": "ipython",
    "version": 3
   },
   "file_extension": ".py",
   "mimetype": "text/x-python",
   "name": "python",
   "nbconvert_exporter": "python",
   "pygments_lexer": "ipython3",
   "version": "3.6.6"
  }
 },
 "nbformat": 4,
 "nbformat_minor": 2
}
