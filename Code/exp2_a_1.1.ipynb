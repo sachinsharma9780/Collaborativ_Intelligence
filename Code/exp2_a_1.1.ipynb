{
 "cells": [
  {
   "cell_type": "code",
   "execution_count": 3,
   "metadata": {},
   "outputs": [],
   "source": [
    "#Importing necessary libraries \n",
    "import keras\n",
    "import numpy as np\n",
    "import pandas as pd\n",
    "from keras.applications import vgg16, inception_v3, resnet50, mobilenet\n",
    "from keras import models\n",
    "from keras import layers\n",
    "from keras import optimizers\n",
    "import cv2\n",
    "from sklearn.metrics import classification_report, confusion_matrix\n",
    "import matplotlib.pyplot as plt\n",
    "import os"
   ]
  },
  {
   "cell_type": "code",
   "execution_count": 4,
   "metadata": {},
   "outputs": [
    {
     "name": "stderr",
     "output_type": "stream",
     "text": [
      "/home/sachin_sharma/.conda/envs/tf18/lib/python3.6/site-packages/keras_applications/resnet50.py:265: UserWarning: The output shape of `ResNet50(include_top=False)` has been changed since Keras 2.2.0.\n",
      "  warnings.warn('The output shape of `ResNet50(include_top=False)` '\n"
     ]
    }
   ],
   "source": [
    "#Load the ResNet50 model\n",
    "resnet_model = resnet50.ResNet50(weights=None, include_top=False, input_shape=(64, 64, 3))"
   ]
  },
  {
   "cell_type": "code",
   "execution_count": 5,
   "metadata": {},
   "outputs": [
    {
     "name": "stdout",
     "output_type": "stream",
     "text": [
      "<keras.engine.input_layer.InputLayer object at 0x7fa476055358> False\n",
      "<keras.layers.convolutional.ZeroPadding2D object at 0x7fa47605f9b0> True\n",
      "<keras.layers.convolutional.Conv2D object at 0x7fa47605f748> True\n",
      "<keras.layers.normalization.BatchNormalization object at 0x7fa47605feb8> True\n",
      "<keras.layers.core.Activation object at 0x7fa47605fcf8> True\n",
      "<keras.layers.convolutional.ZeroPadding2D object at 0x7fa47473e668> True\n",
      "<keras.layers.pooling.MaxPooling2D object at 0x7fa4757585f8> True\n",
      "<keras.layers.convolutional.Conv2D object at 0x7fa475fc3400> True\n",
      "<keras.layers.normalization.BatchNormalization object at 0x7fa474679898> True\n",
      "<keras.layers.core.Activation object at 0x7fa474679a58> True\n",
      "<keras.layers.convolutional.Conv2D object at 0x7fa47461e908> True\n",
      "<keras.layers.normalization.BatchNormalization object at 0x7fa4745e1ac8> True\n",
      "<keras.layers.core.Activation object at 0x7fa4745f86a0> True\n",
      "<keras.layers.convolutional.Conv2D object at 0x7fa47472bfd0> True\n",
      "<keras.layers.convolutional.Conv2D object at 0x7fa4744f9780> True\n",
      "<keras.layers.normalization.BatchNormalization object at 0x7fa4744dfac8> True\n",
      "<keras.layers.normalization.BatchNormalization object at 0x7fa4743d2c88> True\n",
      "<keras.layers.merge.Add object at 0x7fa4743f6b38> True\n",
      "<keras.layers.core.Activation object at 0x7fa4743837f0> True\n",
      "<keras.layers.convolutional.Conv2D object at 0x7fa474383908> True\n",
      "<keras.layers.normalization.BatchNormalization object at 0x7fa4742f8b38> True\n",
      "<keras.layers.core.Activation object at 0x7fa4742c3dd8> True\n",
      "<keras.layers.convolutional.Conv2D object at 0x7fa4742216a0> True\n",
      "<keras.layers.normalization.BatchNormalization object at 0x7fa474205208> True\n",
      "<keras.layers.core.Activation object at 0x7fa474205860> True\n",
      "<keras.layers.convolutional.Conv2D object at 0x7fa474120e48> True\n",
      "<keras.layers.normalization.BatchNormalization object at 0x7fa474100630> True\n",
      "<keras.layers.merge.Add object at 0x7fa474100be0> True\n",
      "<keras.layers.core.Activation object at 0x7fa47401fba8> True\n",
      "<keras.layers.convolutional.Conv2D object at 0x7fa46c7ddeb8> True\n",
      "<keras.layers.normalization.BatchNormalization object at 0x7fa46c77e9e8> True\n",
      "<keras.layers.core.Activation object at 0x7fa46c746ba8> True\n",
      "<keras.layers.convolutional.Conv2D object at 0x7fa46c71ff28> True\n",
      "<keras.layers.normalization.BatchNormalization object at 0x7fa46c6ae7f0> True\n",
      "<keras.layers.core.Activation object at 0x7fa46c67aba8> True\n",
      "<keras.layers.convolutional.Conv2D object at 0x7fa46c62e4e0> True\n",
      "<keras.layers.normalization.BatchNormalization object at 0x7fa46c5efeb8> True\n",
      "<keras.layers.merge.Add object at 0x7fa46c58f898> True\n",
      "<keras.layers.core.Activation object at 0x7fa46c51dbe0> True\n",
      "<keras.layers.convolutional.Conv2D object at 0x7fa46c51def0> True\n",
      "<keras.layers.normalization.BatchNormalization object at 0x7fa46c490fd0> True\n",
      "<keras.layers.core.Activation object at 0x7fa46c3fd5f8> True\n",
      "<keras.layers.convolutional.Conv2D object at 0x7fa46c3bd550> True\n",
      "<keras.layers.normalization.BatchNormalization object at 0x7fa46c380f60> True\n",
      "<keras.layers.core.Activation object at 0x7fa46c39d908> True\n",
      "<keras.layers.convolutional.Conv2D object at 0x7fa46c2c2c18> True\n",
      "<keras.layers.convolutional.Conv2D object at 0x7fa46c29fa90> True\n",
      "<keras.layers.normalization.BatchNormalization object at 0x7fa46c29f5c0> True\n",
      "<keras.layers.normalization.BatchNormalization object at 0x7fa46c196e80> True\n",
      "<keras.layers.merge.Add object at 0x7fa46c12fc88> True\n",
      "<keras.layers.core.Activation object at 0x7fa46c1b16d8> True\n",
      "<keras.layers.convolutional.Conv2D object at 0x7fa46c09e8d0> True\n",
      "<keras.layers.normalization.BatchNormalization object at 0x7fa46c03b048> True\n",
      "<keras.layers.core.Activation object at 0x7fa4647bb860> True\n",
      "<keras.layers.convolutional.Conv2D object at 0x7fa4647a6e48> True\n",
      "<keras.layers.normalization.BatchNormalization object at 0x7fa464765ac8> True\n",
      "<keras.layers.core.Activation object at 0x7fa4647014e0> True\n",
      "<keras.layers.convolutional.Conv2D object at 0x7fa4646a1828> True\n",
      "<keras.layers.normalization.BatchNormalization object at 0x7fa4646000f0> True\n",
      "<keras.layers.merge.Add object at 0x7fa4646009e8> True\n",
      "<keras.layers.core.Activation object at 0x7fa46458ef28> True\n",
      "<keras.layers.convolutional.Conv2D object at 0x7fa46458eef0> True\n",
      "<keras.layers.normalization.BatchNormalization object at 0x7fa4645162b0> True\n",
      "<keras.layers.core.Activation object at 0x7fa4644dd668> True\n",
      "<keras.layers.convolutional.Conv2D object at 0x7fa4644b3898> True\n",
      "<keras.layers.normalization.BatchNormalization object at 0x7fa46440f160> True\n",
      "<keras.layers.core.Activation object at 0x7fa46440fa58> True\n",
      "<keras.layers.convolutional.Conv2D object at 0x7fa4643b3978> True\n",
      "<keras.layers.normalization.BatchNormalization object at 0x7fa46430e908> True\n",
      "<keras.layers.merge.Add object at 0x7fa464326320> True\n",
      "<keras.layers.core.Activation object at 0x7fa4642b5898> True\n",
      "<keras.layers.convolutional.Conv2D object at 0x7fa4642b59b0> True\n",
      "<keras.layers.normalization.BatchNormalization object at 0x7fa464221be0> True\n",
      "<keras.layers.core.Activation object at 0x7fa4641ebf60> True\n",
      "<keras.layers.convolutional.Conv2D object at 0x7fa464157e80> True\n",
      "<keras.layers.normalization.BatchNormalization object at 0x7fa464118978> True\n",
      "<keras.layers.core.Activation object at 0x7fa4640b9630> True\n",
      "<keras.layers.convolutional.Conv2D object at 0x7fa4640516d8> True\n",
      "<keras.layers.normalization.BatchNormalization object at 0x7fa45c7f81d0> True\n",
      "<keras.layers.merge.Add object at 0x7fa45c7f8898> True\n",
      "<keras.layers.core.Activation object at 0x7fa45c705cf8> True\n",
      "<keras.layers.convolutional.Conv2D object at 0x7fa45c705e10> True\n",
      "<keras.layers.normalization.BatchNormalization object at 0x7fa45c6aa7b8> True\n",
      "<keras.layers.core.Activation object at 0x7fa45c655518> True\n",
      "<keras.layers.convolutional.Conv2D object at 0x7fa45c628748> True\n",
      "<keras.layers.normalization.BatchNormalization object at 0x7fa45c58a048> True\n",
      "<keras.layers.core.Activation object at 0x7fa45c58a908> True\n",
      "<keras.layers.convolutional.Conv2D object at 0x7fa45c528f60> True\n",
      "<keras.layers.convolutional.Conv2D object at 0x7fa45c485be0> True\n",
      "<keras.layers.normalization.BatchNormalization object at 0x7fa45c4b97f0> True\n",
      "<keras.layers.normalization.BatchNormalization object at 0x7fa45c3fafd0> True\n",
      "<keras.layers.merge.Add object at 0x7fa45c399828> True\n",
      "<keras.layers.core.Activation object at 0x7fa45c3308d0> True\n",
      "<keras.layers.convolutional.Conv2D object at 0x7fa45c269ef0> True\n",
      "<keras.layers.normalization.BatchNormalization object at 0x7fa45c2a2a58> True\n",
      "<keras.layers.core.Activation object at 0x7fa45c2174e0> True\n",
      "<keras.layers.convolutional.Conv2D object at 0x7fa45c1d6b70> True\n",
      "<keras.layers.normalization.BatchNormalization object at 0x7fa45c1b1518> True\n",
      "<keras.layers.core.Activation object at 0x7fa45c1b19e8> True\n",
      "<keras.layers.convolutional.Conv2D object at 0x7fa45c0e5978> True\n",
      "<keras.layers.normalization.BatchNormalization object at 0x7fa45c08fbe0> True\n",
      "<keras.layers.merge.Add object at 0x7fa45c0415f8> True\n",
      "<keras.layers.core.Activation object at 0x7fa454793b70> True\n",
      "<keras.layers.convolutional.Conv2D object at 0x7fa454793c88> True\n",
      "<keras.layers.normalization.BatchNormalization object at 0x7fa454700390> True\n",
      "<keras.layers.core.Activation object at 0x7fa4546e54a8> True\n",
      "<keras.layers.convolutional.Conv2D object at 0x7fa4546b76d8> True\n",
      "<keras.layers.normalization.BatchNormalization object at 0x7fa4546161d0> True\n",
      "<keras.layers.core.Activation object at 0x7fa454616898> True\n",
      "<keras.layers.convolutional.Conv2D object at 0x7fa4545b8518> True\n",
      "<keras.layers.normalization.BatchNormalization object at 0x7fa454512668> True\n",
      "<keras.layers.merge.Add object at 0x7fa454512c18> True\n",
      "<keras.layers.core.Activation object at 0x7fa4544bbbe0> True\n",
      "<keras.layers.convolutional.Conv2D object at 0x7fa454409e48> True\n",
      "<keras.layers.normalization.BatchNormalization object at 0x7fa454425a20> True\n",
      "<keras.layers.core.Activation object at 0x7fa4543a1dd8> True\n",
      "<keras.layers.convolutional.Conv2D object at 0x7fa454360940> True\n",
      "<keras.layers.normalization.BatchNormalization object at 0x7fa454323ba8> True\n",
      "<keras.layers.core.Activation object at 0x7fa45433c5c0> True\n",
      "<keras.layers.convolutional.Conv2D object at 0x7fa45425f908> True\n",
      "<keras.layers.normalization.BatchNormalization object at 0x7fa4542391d0> True\n",
      "<keras.layers.merge.Add object at 0x7fa454239ac8> True\n",
      "<keras.layers.core.Activation object at 0x7fa454149fd0> True\n",
      "<keras.layers.convolutional.Conv2D object at 0x7fa454133898> True\n",
      "<keras.layers.normalization.BatchNormalization object at 0x7fa4540d1438> True\n",
      "<keras.layers.core.Activation object at 0x7fa454095b38> True\n",
      "<keras.layers.convolutional.Conv2D object at 0x7fa454072e48> True\n",
      "<keras.layers.normalization.BatchNormalization object at 0x7fa439793630> True\n",
      "<keras.layers.core.Activation object at 0x7fa439793be0> True\n",
      "<keras.layers.convolutional.Conv2D object at 0x7fa4396c5470> True\n",
      "<keras.layers.normalization.BatchNormalization object at 0x7fa439684cf8> True\n",
      "<keras.layers.merge.Add object at 0x7fa4396a2630> True\n",
      "<keras.layers.core.Activation object at 0x7fa439638b70> True\n",
      "<keras.layers.convolutional.Conv2D object at 0x7fa439638e80> True\n",
      "<keras.layers.normalization.BatchNormalization object at 0x7fa43959fef0> True\n",
      "<keras.layers.core.Activation object at 0x7fa4395036a0> True\n",
      "<keras.layers.convolutional.Conv2D object at 0x7fa4394db8d0> True\n",
      "<keras.layers.normalization.BatchNormalization object at 0x7fa4394b6198> True\n",
      "<keras.layers.core.Activation object at 0x7fa4394b6a90> True\n",
      "<keras.layers.convolutional.Conv2D object at 0x7fa4393f0e80> True\n",
      "<keras.layers.normalization.BatchNormalization object at 0x7fa4393b4908> True\n",
      "<keras.layers.merge.Add object at 0x7fa43934e320> True\n",
      "<keras.layers.core.Activation object at 0x7fa4392d98d0> True\n",
      "<keras.layers.convolutional.Conv2D object at 0x7fa4392d99e8> True\n",
      "<keras.layers.normalization.BatchNormalization object at 0x7fa4392494e0> True\n",
      "<keras.layers.core.Activation object at 0x7fa43923d2b0> True\n",
      "<keras.layers.convolutional.Conv2D object at 0x7fa4391fc4e0> True\n",
      "<keras.layers.normalization.BatchNormalization object at 0x7fa4391bccf8> True\n",
      "<keras.layers.core.Activation object at 0x7fa43915b7f0> True\n",
      "<keras.layers.convolutional.Conv2D object at 0x7fa439083b00> True\n",
      "<keras.layers.convolutional.Conv2D object at 0x7fa43905fda0> True\n",
      "<keras.layers.normalization.BatchNormalization object at 0x7fa43905f4a8> True\n",
      "<keras.layers.normalization.BatchNormalization object at 0x7fa438f6d588> True\n",
      "<keras.layers.merge.Add object at 0x7fa438f52dd8> True\n",
      "<keras.layers.core.Activation object at 0x7fa438e99f98> True\n",
      "<keras.layers.convolutional.Conv2D object at 0x7fa438e99278> True\n",
      "<keras.layers.normalization.BatchNormalization object at 0x7fa438e78438> True\n",
      "<keras.layers.core.Activation object at 0x7fa438dc5dd8> True\n",
      "<keras.layers.convolutional.Conv2D object at 0x7fa438da1780> True\n",
      "<keras.layers.normalization.BatchNormalization object at 0x7fa438cff080> True\n",
      "<keras.layers.core.Activation object at 0x7fa438cff940> True\n",
      "<keras.layers.convolutional.Conv2D object at 0x7fa438c9bfd0> True\n",
      "<keras.layers.normalization.BatchNormalization object at 0x7fa438c787f0> True\n",
      "<keras.layers.merge.Add object at 0x7fa438c12208> True\n",
      "<keras.layers.core.Activation object at 0x7fa438b9b780> True\n",
      "<keras.layers.convolutional.Conv2D object at 0x7fa438b6bf60> True\n",
      "<keras.layers.normalization.BatchNormalization object at 0x7fa438b0c710> True\n",
      "<keras.layers.core.Activation object at 0x7fa438a82390> True\n",
      "<keras.layers.convolutional.Conv2D object at 0x7fa438aaef60> True\n",
      "<keras.layers.normalization.BatchNormalization object at 0x7fa438a07c50> True\n",
      "<keras.layers.core.Activation object at 0x7fa438a1f668> True\n",
      "<keras.layers.convolutional.Conv2D object at 0x7fa4389419b0> True\n",
      "<keras.layers.normalization.BatchNormalization object at 0x7fa43891d390> True\n",
      "<keras.layers.merge.Add object at 0x7fa43891de10> True\n",
      "<keras.layers.core.Activation object at 0x7fa4388415f8> True\n"
     ]
    }
   ],
   "source": [
    "# Checking the trainable status of the individual layers\n",
    "for layer in resnet_model.layers:\n",
    "    print(layer, layer.trainable)"
   ]
  },
  {
   "cell_type": "code",
   "execution_count": 6,
   "metadata": {},
   "outputs": [
    {
     "name": "stdout",
     "output_type": "stream",
     "text": [
      "_________________________________________________________________\n",
      "Layer (type)                 Output Shape              Param #   \n",
      "=================================================================\n",
      "resnet50 (Model)             (None, 2, 2, 2048)        23587712  \n",
      "_________________________________________________________________\n",
      "flatten_1 (Flatten)          (None, 8192)              0         \n",
      "_________________________________________________________________\n",
      "dense_1 (Dense)              (None, 1024)              8389632   \n",
      "_________________________________________________________________\n",
      "dropout_1 (Dropout)          (None, 1024)              0         \n",
      "_________________________________________________________________\n",
      "dense_2 (Dense)              (None, 3)                 3075      \n",
      "=================================================================\n",
      "Total params: 31,980,419\n",
      "Trainable params: 31,927,299\n",
      "Non-trainable params: 53,120\n",
      "_________________________________________________________________\n"
     ]
    }
   ],
   "source": [
    "# Adding classifier on top of Convolutional base\n",
    "# create the model\n",
    "model = models.Sequential()\n",
    "\n",
    "# Add the resnet50 convolutional model\n",
    "model.add(resnet_model)\n",
    "\n",
    "# Adding new Layers\n",
    "model.add(layers.Flatten())\n",
    "model.add(layers.Dense(1024, activation='relu'))\n",
    "model.add(layers.Dropout(0.5))\n",
    "model.add(layers.Dense(3, activation='softmax'))\n",
    "\n",
    "# Showing summary of model\n",
    "model.summary()"
   ]
  },
  {
   "cell_type": "code",
   "execution_count": 7,
   "metadata": {},
   "outputs": [
    {
     "name": "stdout",
     "output_type": "stream",
     "text": [
      "Found 22528 images belonging to 3 classes.\n",
      "Found 6460 images belonging to 3 classes.\n"
     ]
    }
   ],
   "source": [
    "# Fitting the CNN to the images(Image Augmentation, Image Preprocessing)\n",
    "from keras.preprocessing.image import ImageDataGenerator\n",
    "train_datagen = ImageDataGenerator(  \n",
    "        rescale=1./255,\n",
    "        shear_range=0.2,             \n",
    "        zoom_range=0.2,              \n",
    "        horizontal_flip=True)\n",
    "\n",
    "\n",
    "# Normalizing the test set\n",
    "test_datagen = ImageDataGenerator(rescale=1./255)\n",
    "\n",
    "# path to dataset\n",
    "os.chdir('/home/sachin_sharma/Desktop/exp_2_jpg')\n",
    "\n",
    "# This will create 80:20 split of training and test set \n",
    "training_set = train_datagen.flow_from_directory(\n",
    "        'TrainingSet',\n",
    "         target_size=(64,64),\n",
    "         batch_size=32,\n",
    "         class_mode='categorical')\n",
    "\n",
    "# This will create the Test set\n",
    "test_set = test_datagen.flow_from_directory(\n",
    "        'TestSet',\n",
    "        target_size=(64,64),\n",
    "        batch_size=32,\n",
    "        class_mode='categorical', \n",
    "        shuffle=False)"
   ]
  },
  {
   "cell_type": "code",
   "execution_count": 8,
   "metadata": {},
   "outputs": [
    {
     "name": "stdout",
     "output_type": "stream",
     "text": [
      "Epoch 1/10\n",
      "704/704 [==============================] - 52s 73ms/step - loss: 0.9090 - acc: 0.8195 - val_loss: 0.4784 - val_acc: 0.8486\n",
      "Epoch 2/10\n",
      "704/704 [==============================] - 44s 62ms/step - loss: 0.5068 - acc: 0.8705 - val_loss: 0.3611 - val_acc: 0.8754\n",
      "Epoch 3/10\n",
      "704/704 [==============================] - 44s 62ms/step - loss: 0.4179 - acc: 0.8895 - val_loss: 0.3594 - val_acc: 0.8759\n",
      "Epoch 4/10\n",
      "704/704 [==============================] - 44s 63ms/step - loss: 0.3571 - acc: 0.8982 - val_loss: 0.3249 - val_acc: 0.8858\n",
      "Epoch 5/10\n",
      "704/704 [==============================] - 44s 63ms/step - loss: 0.2194 - acc: 0.9043 - val_loss: 0.4566 - val_acc: 0.8706\n",
      "Epoch 6/10\n",
      "704/704 [==============================] - 44s 62ms/step - loss: 0.1962 - acc: 0.9091 - val_loss: 0.1967 - val_acc: 0.9071\n",
      "Epoch 7/10\n",
      "704/704 [==============================] - 43s 61ms/step - loss: 0.1914 - acc: 0.9122 - val_loss: 0.1721 - val_acc: 0.9082\n",
      "Epoch 8/10\n",
      "704/704 [==============================] - 44s 62ms/step - loss: 0.1844 - acc: 0.9148 - val_loss: 0.3094 - val_acc: 0.8556\n",
      "Epoch 9/10\n",
      "704/704 [==============================] - 44s 62ms/step - loss: 0.1750 - acc: 0.9181 - val_loss: 0.1599 - val_acc: 0.9085\n",
      "Epoch 10/10\n",
      "704/704 [==============================] - 44s 62ms/step - loss: 0.1706 - acc: 0.9189 - val_loss: 0.1882 - val_acc: 0.9119\n"
     ]
    }
   ],
   "source": [
    "# Compile the model\n",
    "model.compile(loss='categorical_crossentropy',\n",
    "              optimizer=optimizers.RMSprop(lr=1e-4),\n",
    "              metrics=['acc'])\n",
    "# Train the model\n",
    "history = model.fit_generator(\n",
    "          training_set, \n",
    "          steps_per_epoch=(training_set.samples/32),\n",
    "          epochs=10,\n",
    "          validation_data=test_set,\n",
    "          validation_steps=(test_set.samples/32))"
   ]
  },
  {
   "cell_type": "code",
   "execution_count": 9,
   "metadata": {},
   "outputs": [
    {
     "data": {
      "text/plain": [
       "{'Else': 0, 'Industrial': 1, 'Residential': 2}"
      ]
     },
     "execution_count": 9,
     "metadata": {},
     "output_type": "execute_result"
    }
   ],
   "source": [
    "# Visualizing the mapping between labels\n",
    "training_set.class_indices\n"
   ]
  },
  {
   "cell_type": "code",
   "execution_count": 10,
   "metadata": {},
   "outputs": [
    {
     "name": "stdout",
     "output_type": "stream",
     "text": [
      "Confusion Matrix\n",
      "             Else  Industrial  Residential\n",
      "Else         4775          10           15\n",
      "Industrial     62         294          404\n",
      "Residential    65          13          822\n"
     ]
    }
   ],
   "source": [
    "# Confusion Matrix \n",
    "Y_pred = model.predict_generator(test_set, test_set.samples//32 +1 )\n",
    "y_pred = np.argmax(Y_pred, axis=1) # predictions\n",
    "print('Confusion Matrix')\n",
    "cm = confusion_matrix(test_set.classes, y_pred)\n",
    "#print(cm)\n",
    "# visualizing results in table\n",
    "def cm2df(cm, labels):\n",
    "    df = pd.DataFrame()\n",
    "    # rows\n",
    "    for i, row_label in enumerate(labels):\n",
    "        rowdata={}\n",
    "        # columns\n",
    "        for j, col_label in enumerate(labels): \n",
    "            rowdata[col_label]=cm[i,j]\n",
    "        df = df.append(pd.DataFrame.from_dict({row_label:rowdata}, orient='index'))\n",
    "    return df[labels]\n",
    "\n",
    "df = cm2df(cm, [\"Else\", \"Industrial\", \"Residential\"])\n",
    "print(df)"
   ]
  },
  {
   "cell_type": "code",
   "execution_count": 11,
   "metadata": {},
   "outputs": [
    {
     "name": "stdout",
     "output_type": "stream",
     "text": [
      "Classification Report\n",
      "              precision    recall  f1-score   support\n",
      "\n",
      "        Else       0.97      0.99      0.98      4800\n",
      "  Industrial       0.93      0.39      0.55       760\n",
      " Residential       0.66      0.91      0.77       900\n",
      "\n",
      "   micro avg       0.91      0.91      0.91      6460\n",
      "   macro avg       0.85      0.76      0.77      6460\n",
      "weighted avg       0.93      0.91      0.90      6460\n",
      "\n"
     ]
    }
   ],
   "source": [
    "# Classification report\n",
    "print('Classification Report')\n",
    "target_names = ['Else','Industrial','Residential']\n",
    "classificn_report = classification_report(test_set.classes, y_pred, target_names=target_names)\n",
    "print(classificn_report)"
   ]
  },
  {
   "cell_type": "code",
   "execution_count": 12,
   "metadata": {},
   "outputs": [
    {
     "name": "stdout",
     "output_type": "stream",
     "text": [
      "dict_keys(['val_loss', 'val_acc', 'loss', 'acc'])\n"
     ]
    },
    {
     "data": {
      "image/png": "[encoded data removed]",
      "text/plain": [
       "<Figure size 432x288 with 1 Axes>"
      ]
     },
     "metadata": {
      "needs_background": "light"
     },
     "output_type": "display_data"
    },
    {
     "data": {
      "image/png": "[encoded data removed]",
      "text/plain": [
       "<Figure size 432x288 with 1 Axes>"
      ]
     },
     "metadata": {
      "needs_background": "light"
     },
     "output_type": "display_data"
    }
   ],
   "source": [
    "# Plotting the Loss and Classification Accuracy\n",
    "model.metrics_names\n",
    "print(history.history.keys())\n",
    "#  \"Accuracy\"\n",
    "plt.plot(history.history['acc'])\n",
    "plt.plot(history.history['val_acc'])\n",
    "plt.title('Model Accuracy')\n",
    "plt.ylabel('Accuracy')\n",
    "plt.xlabel('Epoch')\n",
    "plt.legend(['train', 'test'], loc='upper left')\n",
    "plt.show()\n",
    "\n",
    "# \"Loss\"\n",
    "plt.plot(history.history['loss'])\n",
    "plt.plot(history.history['val_loss'])\n",
    "plt.title('Model loss')\n",
    "plt.ylabel('Loss')\n",
    "plt.xlabel('Epoch')\n",
    "plt.legend(['train', 'test'], loc='upper left')\n",
    "plt.show()\n"
   ]
  }
 ],
 "metadata": {
  "kernelspec": {
   "display_name": "tf",
   "language": "python",
   "name": "tf"
  },
  "language_info": {
   "codemirror_mode": {
    "name": "ipython",
    "version": 3
   },
   "file_extension": ".py",
   "mimetype": "text/x-python",
   "name": "python",
   "nbconvert_exporter": "python",
   "pygments_lexer": "ipython3",
   "version": "3.6.8"
  }
 },
 "nbformat": 4,
 "nbformat_minor": 2
}
