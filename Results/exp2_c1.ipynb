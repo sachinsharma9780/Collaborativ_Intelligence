{
 "cells": [
  {
   "cell_type": "code",
   "execution_count": 3,
   "metadata": {},
   "outputs": [
    {
     "name": "stderr",
     "output_type": "stream",
     "text": [
      "Using TensorFlow backend.\n"
     ]
    }
   ],
   "source": [
    "#Importing necessary libraries \n",
    "import keras\n",
    "import numpy as np\n",
    "import pandas as pd\n",
    "from keras.applications import VGG16, inception_v3, resnet50, mobilenet\n",
    "from keras import models\n",
    "from keras import layers\n",
    "from keras import optimizers\n",
    "from sklearn.metrics import classification_report, confusion_matrix\n",
    "import matplotlib.pyplot as plt\n",
    "import os \n",
    "import glob\n",
    "import tifffile as tif\n",
    "from sklearn.preprocessing import OneHotEncoder, LabelEncoder\n",
    "from tempfile import TemporaryFile\n",
    "from sklearn import model_selection\n",
    "from keras.models import Sequential\n",
    "from keras.layers import Dense, Dropout, Flatten\n",
    "from keras.layers import Conv2D, MaxPooling2D\n",
    "from keras.layers.normalization import BatchNormalization\n",
    "from keras.preprocessing.image import ImageDataGenerator\n",
    "from keras.regularizers import l1"
   ]
  },
  {
   "cell_type": "code",
   "execution_count": 4,
   "metadata": {},
   "outputs": [],
   "source": [
    "# dataset\n",
    "dataset = []\n",
    "paths = []\n",
    "labels = []\n",
    "input_size = 64\n",
    "input_size = 64\n",
    "num_channel = 13\n",
    "# getting paths of stored images \n",
    "def read_files(path):\n",
    "    for dirpath, dirnames, filenames in os.walk(path):\n",
    "    #print('Current path: ', dirpath)\n",
    "    #print('Directories: ', dirnames)\n",
    "    #print('Files: ', filenames)\n",
    "    #print(dirpath)\n",
    "       #os.chdir(dirpath)\n",
    "       paths.append(dirpath)\n",
    "       \n",
    "     \n",
    "read_files('/home/sachin_sharma/Desktop/exp2_tif')\n",
    "paths.sort()\n",
    "paths = paths[1:]\n",
    "file_names = []"
   ]
  },
  {
   "cell_type": "code",
   "execution_count": 5,
   "metadata": {},
   "outputs": [
    {
     "name": "stdout",
     "output_type": "stream",
     "text": [
      "['/home/sachin_sharma/Desktop/exp2_tif/Else', '/home/sachin_sharma/Desktop/exp2_tif/Industrial', '/home/sachin_sharma/Desktop/exp2_tif/Residential']\n"
     ]
    }
   ],
   "source": [
    "print(paths)"
   ]
  },
  {
   "cell_type": "code",
   "execution_count": 6,
   "metadata": {},
   "outputs": [
    {
     "name": "stdout",
     "output_type": "stream",
     "text": [
      "/home/sachin_sharma/Desktop/exp2_tif/Else\n",
      "/home/sachin_sharma/Desktop/exp2_tif/Industrial\n",
      "/home/sachin_sharma/Desktop/exp2_tif/Residential\n"
     ]
    }
   ],
   "source": [
    "# Converting 13 channel images to np array\n",
    "def img_array(paths):\n",
    "    print('{}'.format(paths))\n",
    "    os.chdir('{}'.format(paths))\n",
    "    for file in glob.glob(\"*.tif\"):\n",
    "            #print('name of file: '+ file)\n",
    "            file_names.append(file)\n",
    "            x = tif.imread('{}'.format(file))\n",
    "            basename, ext = os.path.splitext(file)\n",
    "            labels.append(basename)\n",
    "            x = np.resize(x, (64, 64, 13))\n",
    "            dataset.append(x)\n",
    "\n",
    "#calling\n",
    "for pths in paths:\n",
    "    img_array(pths)\n"
   ]
  },
  {
   "cell_type": "code",
   "execution_count": 7,
   "metadata": {},
   "outputs": [
    {
     "name": "stdout",
     "output_type": "stream",
     "text": [
      "(64, 64, 13)\n"
     ]
    }
   ],
   "source": [
    "# lets see the shape of random element in a dataset\n",
    "print(dataset[400].shape)"
   ]
  },
  {
   "cell_type": "code",
   "execution_count": 7,
   "metadata": {},
   "outputs": [
    {
     "data": {
      "text/plain": [
       "'\"max_pixel_val = []\\ndef max_pixel(data):\\n    max_pixel_val.append(np.amax(data))\\n   \\n# calling \\nfor data in dataset:\\n    max_pixel(data)'"
      ]
     },
     "execution_count": 7,
     "metadata": {},
     "output_type": "execute_result"
    }
   ],
   "source": [
    "# Getting the list of max pixel value in each image\n",
    "\"\"\"\"max_pixel_val = []\n",
    "def max_pixel(data):\n",
    "    max_pixel_val.append(np.amax(data))\n",
    "   \n",
    "# calling \n",
    "for data in dataset:\n",
    "    max_pixel(data)\"\"\""
   ]
  },
  {
   "cell_type": "code",
   "execution_count": 9,
   "metadata": {},
   "outputs": [
    {
     "name": "stdout",
     "output_type": "stream",
     "text": [
      "max pixel value from all 13 band images:  28002\n"
     ]
    }
   ],
   "source": [
    "\"\"\"# max of all pixel values\n",
    "max_all_pixel_value = max(max_pixel_val) \n",
    "print('max pixel value from all 13 band images: ',max_all_pixel_value)\"\"\""
   ]
  },
  {
   "cell_type": "code",
   "execution_count": 8,
   "metadata": {},
   "outputs": [
    {
     "name": "stdout",
     "output_type": "stream",
     "text": [
      "(28988, 64, 64, 13)\n",
      "(13,)\n"
     ]
    }
   ],
   "source": [
    "# Normalizing\n",
    "\"\"\"X_nparray = np.array(dataset).astype(np.float64)\n",
    "X_mean = np.mean(X_nparray, axis=(0,1,2))\n",
    "X_std = np.std(X_nparray, axis=(0,1,2))\n",
    "\n",
    "X_nparray -= X_mean\n",
    "X_nparray /= X_std\n",
    "\n",
    "print(X_nparray.shape)\n",
    "print(X_mean.shape)\"\"\""
   ]
  },
  {
   "cell_type": "code",
   "execution_count": 8,
   "metadata": {},
   "outputs": [],
   "source": [
    "X_nparray = np.array(dataset)\n"
   ]
  },
  {
   "cell_type": "code",
   "execution_count": 9,
   "metadata": {},
   "outputs": [
    {
     "ename": "NameError",
     "evalue": "name 'X_mean' is not defined",
     "output_type": "error",
     "traceback": [
      "\u001b[0;31m---------------------------------------------------------------------------\u001b[0m",
      "\u001b[0;31mNameError\u001b[0m                                 Traceback (most recent call last)",
      "\u001b[0;32m<ipython-input-9-42f4f5f477ee>\u001b[0m in \u001b[0;36m<module>\u001b[0;34m\u001b[0m\n\u001b[1;32m      2\u001b[0m \u001b[0;34m\u001b[0m\u001b[0m\n\u001b[1;32m      3\u001b[0m \u001b[0;31m#print(type(X_mean))\u001b[0m\u001b[0;34m\u001b[0m\u001b[0;34m\u001b[0m\u001b[0m\n\u001b[0;32m----> 4\u001b[0;31m \u001b[0mprint\u001b[0m\u001b[0;34m(\u001b[0m\u001b[0mX_mean\u001b[0m\u001b[0;34m)\u001b[0m\u001b[0;34m\u001b[0m\u001b[0m\n\u001b[0m\u001b[1;32m      5\u001b[0m \u001b[0;31m#print(X_std)\u001b[0m\u001b[0;34m\u001b[0m\u001b[0;34m\u001b[0m\u001b[0m\n",
      "\u001b[0;31mNameError\u001b[0m: name 'X_mean' is not defined"
     ]
    }
   ],
   "source": [
    "\n",
    "\n",
    "#print(type(X_mean))\n",
    "print(X_mean)\n",
    "#print(X_std)"
   ]
  },
  {
   "cell_type": "code",
   "execution_count": 39,
   "metadata": {},
   "outputs": [
    {
     "name": "stdout",
     "output_type": "stream",
     "text": [
      "[-9.46398206e-13  7.74425898e-13  2.95134115e-14 -4.64246698e-13\n",
      " -3.94404213e-12 -6.04875067e-12 -2.91569061e-11  1.90276346e-11\n",
      "  7.92099959e-12 -3.30594483e-10  4.43646169e-12  7.26433773e-12\n",
      "  6.84944891e-12]\n"
     ]
    }
   ],
   "source": [
    "print(np.mean(X_nparray, axis=(0,1,2)))\n",
    "#print(np.std(X_nparray, axis=(0,1,2)))"
   ]
  },
  {
   "cell_type": "code",
   "execution_count": 10,
   "metadata": {},
   "outputs": [],
   "source": [
    "# label encoding\n",
    "lbl_encoder = LabelEncoder()\n",
    "ohe = OneHotEncoder()\n",
    "    "
   ]
  },
  {
   "cell_type": "code",
   "execution_count": 11,
   "metadata": {},
   "outputs": [
    {
     "name": "stderr",
     "output_type": "stream",
     "text": [
      "/home/sachin_sharma/.conda/envs/tf18/lib/python3.6/site-packages/sklearn/preprocessing/_encoders.py:368: FutureWarning: The handling of integer data will change in version 0.22. Currently, the categories are determined based on the range [0, max(values)], while in the future they will be determined based on the unique values.\n",
      "If you want the future behaviour and silence this warning, you can specify \"categories='auto'\".\n",
      "In case you used a LabelEncoder before this OneHotEncoder to convert the categories to integers, then you can now use the OneHotEncoder directly.\n",
      "  warnings.warn(msg, FutureWarning)\n"
     ]
    }
   ],
   "source": [
    "# assigning labels to each image\n",
    "labels_1 = []\n",
    "for l in labels:\n",
    "    labels_1.append(l.split(\"_\")[0])\n",
    "\n",
    "lbl_list = lbl_encoder.fit_transform(labels_1)\n",
    "Y = ohe.fit_transform(lbl_list.reshape(-1,1)).toarray().astype(int)\n"
   ]
  },
  {
   "cell_type": "code",
   "execution_count": 12,
   "metadata": {},
   "outputs": [
    {
     "name": "stdout",
     "output_type": "stream",
     "text": [
      "[0 1 0]\n"
     ]
    }
   ],
   "source": [
    "# labels\n",
    "print(Y[21500])"
   ]
  },
  {
   "cell_type": "code",
   "execution_count": 13,
   "metadata": {},
   "outputs": [],
   "source": [
    "# splitting the dataset into training set test set\n",
    "train_data, test_data, train_labels, test_labels = model_selection.train_test_split(X_nparray, Y, test_size = 0.4, random_state = 0)\n"
   ]
  },
  {
   "cell_type": "code",
   "execution_count": 14,
   "metadata": {},
   "outputs": [
    {
     "name": "stdout",
     "output_type": "stream",
     "text": [
      "(17392, 64, 64, 13)\n"
     ]
    }
   ],
   "source": [
    "# Trained data shape\n",
    "print(train_data.shape)\n"
   ]
  },
  {
   "cell_type": "code",
   "execution_count": 15,
   "metadata": {},
   "outputs": [
    {
     "name": "stdout",
     "output_type": "stream",
     "text": [
      "(11596, 64, 64, 13)\n"
     ]
    }
   ],
   "source": [
    "# test data shape\n",
    "print(test_data.shape)"
   ]
  },
  {
   "cell_type": "code",
   "execution_count": 16,
   "metadata": {},
   "outputs": [
    {
     "name": "stdout",
     "output_type": "stream",
     "text": [
      "(17392, 3)\n",
      "[[1 0 0]\n",
      " [1 0 0]\n",
      " [0 0 1]\n",
      " [1 0 0]\n",
      " [1 0 0]\n",
      " [1 0 0]\n",
      " [1 0 0]\n",
      " [1 0 0]\n",
      " [0 1 0]\n",
      " [1 0 0]]\n"
     ]
    }
   ],
   "source": [
    "# train labels shape\n",
    "print(train_labels.shape)\n",
    "# some first 10 hot encodings\n",
    "print(train_labels[:10])"
   ]
  },
  {
   "cell_type": "code",
   "execution_count": 17,
   "metadata": {},
   "outputs": [
    {
     "name": "stdout",
     "output_type": "stream",
     "text": [
      "(11596, 3)\n"
     ]
    }
   ],
   "source": [
    "# test label shape\n",
    "print(test_labels.shape)"
   ]
  },
  {
   "cell_type": "code",
   "execution_count": 18,
   "metadata": {},
   "outputs": [],
   "source": [
    "# hyperparameters\n",
    "batch_size = 50\n",
    "num_classes = 3\n",
    "epochs = 20\n",
    "input_shape = (input_size, input_size, num_channel)\n",
    "l1_lambda = 0.00003"
   ]
  },
  {
   "cell_type": "code",
   "execution_count": 19,
   "metadata": {},
   "outputs": [
    {
     "name": "stderr",
     "output_type": "stream",
     "text": [
      "/home/sachin_sharma/.conda/envs/tf18/lib/python3.6/site-packages/ipykernel_launcher.py:4: UserWarning: Update your `Conv2D` call to the Keras 2 API: `Conv2D(64, (2, 2), activation=\"relu\", kernel_regularizer=<keras.reg...)`\n",
      "  after removing the cwd from sys.path.\n",
      "/home/sachin_sharma/.conda/envs/tf18/lib/python3.6/site-packages/ipykernel_launcher.py:5: UserWarning: Update your `Conv2D` call to the Keras 2 API: `Conv2D(64, (2, 2), activation=\"relu\", kernel_regularizer=<keras.reg...)`\n",
      "  \"\"\"\n"
     ]
    },
    {
     "name": "stdout",
     "output_type": "stream",
     "text": [
      "_________________________________________________________________\n",
      "Layer (type)                 Output Shape              Param #   \n",
      "=================================================================\n",
      "batch_normalization_1 (Batch (None, 64, 64, 13)        52        \n",
      "_________________________________________________________________\n",
      "conv2d_1 (Conv2D)            (None, 63, 63, 64)        3392      \n",
      "_________________________________________________________________\n",
      "conv2d_2 (Conv2D)            (None, 62, 62, 64)        16448     \n",
      "_________________________________________________________________\n",
      "max_pooling2d_1 (MaxPooling2 (None, 31, 31, 64)        0         \n",
      "_________________________________________________________________\n",
      "dropout_1 (Dropout)          (None, 31, 31, 64)        0         \n",
      "_________________________________________________________________\n",
      "flatten_1 (Flatten)          (None, 61504)             0         \n",
      "_________________________________________________________________\n",
      "dense_1 (Dense)              (None, 512)               31490560  \n",
      "_________________________________________________________________\n",
      "dropout_2 (Dropout)          (None, 512)               0         \n",
      "_________________________________________________________________\n",
      "dense_2 (Dense)              (None, 3)                 1539      \n",
      "=================================================================\n",
      "Total params: 31,511,991\n",
      "Trainable params: 31,511,965\n",
      "Non-trainable params: 26\n",
      "_________________________________________________________________\n"
     ]
    }
   ],
   "source": [
    "# model\n",
    "model = Sequential()\n",
    "model.add(BatchNormalization(input_shape=input_shape))         \n",
    "model.add(Conv2D(64, (2,2), W_regularizer=l1(l1_lambda), activation='relu'))    \n",
    "model.add(Conv2D(64, (2,2), W_regularizer=l1(l1_lambda), activation='relu'))\n",
    "model.add(MaxPooling2D(pool_size=(2,2)))\n",
    "model.add(Dropout(0.3))\n",
    "model.add(Flatten())\n",
    "model.add(Dense(512, activation='relu'))\n",
    "model.add(Dropout(0.5))\n",
    "model.add(Dense(num_classes, activation='softmax'))\n",
    "model.summary()\n",
    "\n",
    "opt = keras.optimizers.Adam()\n",
    "model.compile(loss='categorical_crossentropy', optimizer=opt, metrics=['accuracy'])"
   ]
  },
  {
   "cell_type": "code",
   "execution_count": 20,
   "metadata": {},
   "outputs": [
    {
     "name": "stdout",
     "output_type": "stream",
     "text": [
      "Train on 17392 samples, validate on 11596 samples\n",
      "Epoch 1/20\n",
      "  350/17392 [..............................] - ETA: 17:25 - loss: 3.6945 - acc: 0.6686"
     ]
    },
    {
     "name": "stderr",
     "output_type": "stream",
     "text": [
      "/home/sachin_sharma/.conda/envs/tf18/lib/python3.6/site-packages/keras/callbacks.py:122: UserWarning: Method on_batch_end() is slow compared to the batch update (0.190480). Check your callbacks.\n",
      "  % delta_t_median)\n"
     ]
    },
    {
     "name": "stdout",
     "output_type": "stream",
     "text": [
      "17392/17392 [==============================] - 35s 2ms/step - loss: 4.1422 - acc: 0.7424 - val_loss: 4.2383 - val_acc: 0.7381\n",
      "Epoch 2/20\n",
      "17392/17392 [==============================] - 13s 741us/step - loss: 4.1378 - acc: 0.7441 - val_loss: 4.2307 - val_acc: 0.7381\n",
      "Epoch 3/20\n",
      "17392/17392 [==============================] - 13s 755us/step - loss: 4.1321 - acc: 0.7441 - val_loss: 4.2266 - val_acc: 0.7381\n",
      "Epoch 4/20\n",
      "17392/17392 [==============================] - 13s 754us/step - loss: 4.1289 - acc: 0.7441 - val_loss: 4.2242 - val_acc: 0.7381\n",
      "Epoch 5/20\n",
      "17392/17392 [==============================] - 13s 755us/step - loss: 2.0120 - acc: 0.7692 - val_loss: 0.3888 - val_acc: 0.7905\n",
      "Epoch 6/20\n",
      "17392/17392 [==============================] - 13s 757us/step - loss: 0.3811 - acc: 0.7953 - val_loss: 0.3829 - val_acc: 0.7942\n",
      "Epoch 7/20\n",
      "17392/17392 [==============================] - 13s 732us/step - loss: 0.7027 - acc: 0.8056 - val_loss: 1.6895 - val_acc: 0.8236\n",
      "Epoch 8/20\n",
      "17392/17392 [==============================] - 13s 725us/step - loss: 0.7466 - acc: 0.8010 - val_loss: 0.3786 - val_acc: 0.7962\n",
      "Epoch 9/20\n",
      "17392/17392 [==============================] - 13s 744us/step - loss: 0.5091 - acc: 0.8046 - val_loss: 0.3797 - val_acc: 0.7945\n",
      "Epoch 10/20\n",
      "17392/17392 [==============================] - 13s 751us/step - loss: 0.3742 - acc: 0.7975 - val_loss: 0.3753 - val_acc: 0.7975\n",
      "Epoch 11/20\n",
      "17392/17392 [==============================] - 14s 790us/step - loss: 0.7730 - acc: 0.8065 - val_loss: 0.3768 - val_acc: 0.7968\n",
      "Epoch 12/20\n",
      "17392/17392 [==============================] - 13s 775us/step - loss: 0.3687 - acc: 0.8022 - val_loss: 0.3644 - val_acc: 0.8061\n",
      "Epoch 13/20\n",
      "17392/17392 [==============================] - 13s 760us/step - loss: 0.3397 - acc: 0.8272 - val_loss: 0.3927 - val_acc: 0.8032\n",
      "Epoch 14/20\n",
      "17392/17392 [==============================] - 13s 758us/step - loss: 0.3614 - acc: 0.8094 - val_loss: 0.3454 - val_acc: 0.8167\n",
      "Epoch 15/20\n",
      "17392/17392 [==============================] - 13s 762us/step - loss: 0.3412 - acc: 0.8220 - val_loss: 0.2575 - val_acc: 0.8734\n",
      "Epoch 16/20\n",
      "17392/17392 [==============================] - 13s 762us/step - loss: 0.3414 - acc: 0.8688 - val_loss: 0.1975 - val_acc: 0.8755\n",
      "Epoch 17/20\n",
      "17392/17392 [==============================] - 13s 765us/step - loss: 0.2068 - acc: 0.8761 - val_loss: 0.1941 - val_acc: 0.8756\n",
      "Epoch 18/20\n",
      "17392/17392 [==============================] - 13s 764us/step - loss: 0.2554 - acc: 0.8630 - val_loss: 0.1967 - val_acc: 0.8756\n",
      "Epoch 19/20\n",
      "17392/17392 [==============================] - 14s 777us/step - loss: 0.1906 - acc: 0.8789 - val_loss: 0.1915 - val_acc: 0.8757\n",
      "Epoch 20/20\n",
      "17392/17392 [==============================] - 13s 762us/step - loss: 0.2262 - acc: 0.8725 - val_loss: 0.2015 - val_acc: 0.8750\n"
     ]
    }
   ],
   "source": [
    "# fitting model\n",
    "history = model.fit(train_data, train_labels,\n",
    "          batch_size=batch_size,\n",
    "          epochs=epochs,\n",
    "          verbose=1,\n",
    "          validation_data=(test_data, test_labels),\n",
    "          )\n",
    "         "
   ]
  },
  {
   "cell_type": "code",
   "execution_count": 21,
   "metadata": {},
   "outputs": [],
   "source": [
    "# saving the model\n",
    "os.chdir('/home/sachin_sharma/Desktop')\n",
    "model.save('exp2_c1.h5')"
   ]
  },
  {
   "cell_type": "code",
   "execution_count": 22,
   "metadata": {},
   "outputs": [
    {
     "name": "stdout",
     "output_type": "stream",
     "text": [
      "Test loss: 0.20147273086831255\n",
      "Test accuracy: 0.8750431183166609\n"
     ]
    }
   ],
   "source": [
    "# scores\n",
    "score = model.evaluate(test_data, test_labels, verbose=0)\n",
    "print('Test loss:', score[0])\n",
    "print('Test accuracy:', score[1])"
   ]
  },
  {
   "cell_type": "code",
   "execution_count": 23,
   "metadata": {},
   "outputs": [
    {
     "name": "stdout",
     "output_type": "stream",
     "text": [
      "Confusion Matrix\n",
      "             Else  Industrial  Residential\n",
      "Else         8559           0            0\n",
      "Industrial      8        1587            2\n",
      "Residential     4        1435            1\n"
     ]
    }
   ],
   "source": [
    "# Confusion Matrix and Classification report\n",
    "Y_pred = model.predict(test_data)\n",
    "y_pred = np.argmax(Y_pred, axis=1) # predictions\n",
    "print('Confusion Matrix')\n",
    "cm = confusion_matrix(test_labels.argmax(axis=1), y_pred)\n",
    "#print(cm)\n",
    "\n",
    "def cm2df(cm, labels):\n",
    "    df = pd.DataFrame()\n",
    "    # rows\n",
    "    for i, row_label in enumerate(labels):\n",
    "        rowdata={}\n",
    "        # columns\n",
    "        for j, col_label in enumerate(labels): \n",
    "            rowdata[col_label]=cm[i,j]\n",
    "        df = df.append(pd.DataFrame.from_dict({row_label:rowdata}, orient='index'))\n",
    "    return df[labels]\n",
    "\n",
    "df = cm2df(cm, [\"Else\", \"Industrial\", \"Residential\"])\n",
    "print(df)"
   ]
  },
  {
   "cell_type": "code",
   "execution_count": 24,
   "metadata": {},
   "outputs": [
    {
     "name": "stdout",
     "output_type": "stream",
     "text": [
      "Classification Report\n",
      "              precision    recall  f1-score   support\n",
      "\n",
      "        Else       1.00      1.00      1.00      8559\n",
      "  Industrial       0.53      0.99      0.69      1597\n",
      " Residential       0.33      0.00      0.00      1440\n",
      "\n",
      "   micro avg       0.88      0.88      0.88     11596\n",
      "   macro avg       0.62      0.66      0.56     11596\n",
      "weighted avg       0.85      0.88      0.83     11596\n",
      "\n"
     ]
    }
   ],
   "source": [
    "# Classification Report\n",
    "print('Classification Report')\n",
    "target_names = ['Else','Industrial','Residential']\n",
    "classificn_report = classification_report(test_labels.argmax(axis=1), y_pred, target_names=target_names)\n",
    "print(classificn_report)\n"
   ]
  },
  {
   "cell_type": "code",
   "execution_count": 26,
   "metadata": {},
   "outputs": [
    {
     "name": "stdout",
     "output_type": "stream",
     "text": [
      "dict_keys(['val_loss', 'val_acc', 'loss', 'acc'])\n"
     ]
    },
    {
     "data": {
      "image/png": "[encoded data removed]",
      "text/plain": [
       "<Figure size 432x288 with 1 Axes>"
      ]
     },
     "metadata": {
      "needs_background": "light"
     },
     "output_type": "display_data"
    },
    {
     "data": {
      "image/png": "[encoded data removed]",
      "text/plain": [
       "<Figure size 432x288 with 1 Axes>"
      ]
     },
     "metadata": {
      "needs_background": "light"
     },
     "output_type": "display_data"
    }
   ],
   "source": [
    "# Plotting the Loss and Classification Accuracy\n",
    "model.metrics_names\n",
    "print(history.history.keys())\n",
    "#  \"Accuracy\"\n",
    "plt.plot(history.history['acc'])\n",
    "plt.plot(history.history['val_acc'])\n",
    "plt.title('Model Accuracy')\n",
    "plt.ylabel('Accuracy')\n",
    "plt.xlabel('Epoch')\n",
    "plt.legend(['train', 'test'], loc='upper left')\n",
    "plt.show()\n",
    "plt.savefig('classifcn.png')\n",
    "\n",
    "# \"Loss\"\n",
    "plt.plot(history.history['loss'])\n",
    "plt.plot(history.history['val_loss'])\n",
    "plt.title('Model loss')\n",
    "plt.ylabel('Loss')\n",
    "plt.xlabel('Epoch')\n",
    "plt.legend(['train', 'test'], loc='upper left')\n",
    "plt.show()"
   ]
  }
 ],
 "metadata": {
  "kernelspec": {
   "display_name": "tf",
   "language": "python",
   "name": "tf"
  }
 },
 "nbformat": 4,
 "nbformat_minor": 2
}
