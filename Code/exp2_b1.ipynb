{
 "cells": [
  {
   "cell_type": "code",
   "execution_count": 1,
   "metadata": {},
   "outputs": [
    {
     "name": "stderr",
     "output_type": "stream",
     "text": [
      "Using TensorFlow backend.\n"
     ]
    }
   ],
   "source": [
    "# Importing the Keras libraries and packages\n",
    "from keras.models import Sequential \n",
    "from keras.layers import Convolution2D\n",
    "from keras.layers import MaxPooling2D\n",
    "from keras.layers import Flatten\n",
    "from keras.layers import Dense \n",
    "import matplotlib.pyplot as plt\n",
    "from PIL import Image\n",
    "import numpy as np\n",
    "from sklearn.metrics import classification_report, confusion_matrix\n",
    "import pandas as pd\n",
    "import os"
   ]
  },
  {
   "cell_type": "code",
   "execution_count": 2,
   "metadata": {},
   "outputs": [
    {
     "name": "stderr",
     "output_type": "stream",
     "text": [
      "/home/sachin_sharma/.conda/envs/tf18/lib/python3.6/site-packages/ipykernel_launcher.py:5: UserWarning: Update your `Conv2D` call to the Keras 2 API: `Conv2D(64, (3, 3), input_shape=(64, 64, 3..., activation=\"relu\")`\n",
      "  \"\"\"\n",
      "/home/sachin_sharma/.conda/envs/tf18/lib/python3.6/site-packages/ipykernel_launcher.py:10: UserWarning: Update your `Conv2D` call to the Keras 2 API: `Conv2D(64, (3, 3), activation=\"relu\")`\n",
      "  # Remove the CWD from sys.path while we load stuff.\n"
     ]
    }
   ],
   "source": [
    "# Initialize CNN\n",
    "model = Sequential()\n",
    "\n",
    "# building model\n",
    "model.add(Convolution2D(64, 3, 3, input_shape = (64, 64, 3), activation = 'relu'))\n",
    "# pooling\n",
    "model.add(MaxPooling2D(pool_size = (2,2)))\n",
    "\n",
    "# adding a second convol layer\n",
    "model.add(Convolution2D(64, 3, 3, activation='relu'))\n",
    "model.add(MaxPooling2D(pool_size=(2,2)))\n",
    "\n",
    "# Flattening\n",
    "model.add(Flatten())\n",
    "\n",
    "# Full connection\n",
    "model.add(Dense(units=128, activation='relu'))\n",
    "# output layer\n",
    "model.add(Dense(units=3, activation='softmax'))\n",
    "\n",
    "# compile\n",
    "model.compile(optimizer = 'adam', loss='categorical_crossentropy', metrics=['accuracy'])"
   ]
  },
  {
   "cell_type": "code",
   "execution_count": 3,
   "metadata": {},
   "outputs": [],
   "source": [
    "# Fitting the CNN to the images(Image Augmentation, Image Preprocessing)\n",
    "from keras.preprocessing.image import ImageDataGenerator\n",
    "train_datagen = ImageDataGenerator(  \n",
    "        rescale=1./255,\n",
    "        shear_range=0.2,             \n",
    "        zoom_range=0.2,              \n",
    "        horizontal_flip=True)\n"
   ]
  },
  {
   "cell_type": "code",
   "execution_count": 4,
   "metadata": {},
   "outputs": [],
   "source": [
    "# normalizing\n",
    "test_datagen = ImageDataGenerator(rescale=1./255)"
   ]
  },
  {
   "cell_type": "code",
   "execution_count": 5,
   "metadata": {},
   "outputs": [
    {
     "name": "stdout",
     "output_type": "stream",
     "text": [
      "Found 22528 images belonging to 3 classes.\n",
      "Found 6460 images belonging to 3 classes.\n"
     ]
    }
   ],
   "source": [
    "# This section will create Training set( Training_Set:TestSet ratio 80:20)\n",
    "# path to data\n",
    "os.chdir('/home/sachin_sharma/Desktop/exp_2_jpg')\n",
    "training_set = train_datagen.flow_from_directory(\n",
    "        'TrainingSet', \n",
    "        target_size=(64, 64),   \n",
    "        batch_size=32,          \n",
    "        class_mode='categorical') \n",
    "\n",
    "# This section will create the Test set\n",
    "test_set = test_datagen.flow_from_directory( \n",
    "        'TestSet',\n",
    "        target_size=(64, 64),\n",
    "        batch_size=32,\n",
    "        class_mode='categorical', \n",
    "        shuffle=False)"
   ]
  },
  {
   "cell_type": "code",
   "execution_count": 6,
   "metadata": {},
   "outputs": [
    {
     "name": "stdout",
     "output_type": "stream",
     "text": [
      "Epoch 1/25\n",
      "704/704 [==============================] - 20s 29ms/step - loss: 0.3569 - acc: 0.8447 - val_loss: 0.2757 - val_acc: 0.8639\n",
      "Epoch 2/25\n",
      "704/704 [==============================] - 19s 27ms/step - loss: 0.2426 - acc: 0.8873 - val_loss: 0.1977 - val_acc: 0.8933\n",
      "Epoch 3/25\n",
      "704/704 [==============================] - 19s 27ms/step - loss: 0.2004 - acc: 0.9038 - val_loss: 0.1785 - val_acc: 0.9037\n",
      "Epoch 4/25\n",
      "704/704 [==============================] - 19s 28ms/step - loss: 0.1805 - acc: 0.9150 - val_loss: 0.1885 - val_acc: 0.8969\n",
      "Epoch 5/25\n",
      "704/704 [==============================] - 19s 27ms/step - loss: 0.1589 - acc: 0.9206 - val_loss: 0.1672 - val_acc: 0.9124\n",
      "Epoch 6/25\n",
      "704/704 [==============================] - 19s 27ms/step - loss: 0.1489 - acc: 0.9259 - val_loss: 0.1668 - val_acc: 0.9070\n",
      "Epoch 7/25\n",
      "704/704 [==============================] - 19s 27ms/step - loss: 0.1473 - acc: 0.9258 - val_loss: 0.1485 - val_acc: 0.9115\n",
      "Epoch 8/25\n",
      "704/704 [==============================] - 19s 27ms/step - loss: 0.1438 - acc: 0.9284 - val_loss: 0.1823 - val_acc: 0.8992\n",
      "Epoch 9/25\n",
      "704/704 [==============================] - 19s 27ms/step - loss: 0.1364 - acc: 0.9313 - val_loss: 0.1616 - val_acc: 0.9079\n",
      "Epoch 10/25\n",
      "704/704 [==============================] - 19s 27ms/step - loss: 0.1321 - acc: 0.9322 - val_loss: 0.1945 - val_acc: 0.8964\n",
      "Epoch 11/25\n",
      "704/704 [==============================] - 19s 27ms/step - loss: 0.1291 - acc: 0.9322 - val_loss: 0.1844 - val_acc: 0.8997\n",
      "Epoch 12/25\n",
      "704/704 [==============================] - 19s 28ms/step - loss: 0.1264 - acc: 0.9341 - val_loss: 0.2088 - val_acc: 0.8924\n",
      "Epoch 13/25\n",
      "704/704 [==============================] - 19s 27ms/step - loss: 0.1188 - acc: 0.9381 - val_loss: 0.1665 - val_acc: 0.9074\n",
      "Epoch 14/25\n",
      "704/704 [==============================] - 19s 27ms/step - loss: 0.1226 - acc: 0.9371 - val_loss: 0.1836 - val_acc: 0.9045\n",
      "Epoch 15/25\n",
      "704/704 [==============================] - 20s 28ms/step - loss: 0.1190 - acc: 0.9377 - val_loss: 0.2077 - val_acc: 0.8994\n",
      "Epoch 16/25\n",
      "704/704 [==============================] - 20s 29ms/step - loss: 0.1158 - acc: 0.9393 - val_loss: 0.1818 - val_acc: 0.9048\n",
      "Epoch 17/25\n",
      "704/704 [==============================] - 20s 29ms/step - loss: 0.1140 - acc: 0.9393 - val_loss: 0.1787 - val_acc: 0.9068\n",
      "Epoch 18/25\n",
      "704/704 [==============================] - 20s 29ms/step - loss: 0.1147 - acc: 0.9395 - val_loss: 0.1492 - val_acc: 0.9186\n",
      "Epoch 19/25\n",
      "704/704 [==============================] - 20s 29ms/step - loss: 0.1057 - acc: 0.9434 - val_loss: 0.2429 - val_acc: 0.8884\n",
      "Epoch 20/25\n",
      "704/704 [==============================] - 20s 29ms/step - loss: 0.1073 - acc: 0.9420 - val_loss: 0.1800 - val_acc: 0.9087\n",
      "Epoch 21/25\n",
      "704/704 [==============================] - 20s 29ms/step - loss: 0.1044 - acc: 0.9434 - val_loss: 0.1625 - val_acc: 0.9122\n",
      "Epoch 22/25\n",
      "704/704 [==============================] - 20s 29ms/step - loss: 0.1017 - acc: 0.9447 - val_loss: 0.1876 - val_acc: 0.9048\n",
      "Epoch 23/25\n",
      "704/704 [==============================] - 20s 29ms/step - loss: 0.1010 - acc: 0.9439 - val_loss: 0.1607 - val_acc: 0.9128\n",
      "Epoch 24/25\n",
      "704/704 [==============================] - 20s 28ms/step - loss: 0.0967 - acc: 0.9460 - val_loss: 0.1989 - val_acc: 0.9029\n",
      "Epoch 25/25\n",
      "704/704 [==============================] - 19s 27ms/step - loss: 0.0963 - acc: 0.9458 - val_loss: 0.1631 - val_acc: 0.9153\n"
     ]
    }
   ],
   "source": [
    "history = model.fit_generator(training_set, \n",
    "                        steps_per_epoch=(training_set.samples/32),\n",
    "                        epochs=25,\n",
    "                        validation_data=test_set, \n",
    "                        validation_steps=(test_set.samples/32)) "
   ]
  },
  {
   "cell_type": "code",
   "execution_count": 7,
   "metadata": {},
   "outputs": [
    {
     "data": {
      "text/plain": [
       "{'Else': 0, 'Industrial': 1, 'Residential': 2}"
      ]
     },
     "execution_count": 7,
     "metadata": {},
     "output_type": "execute_result"
    }
   ],
   "source": [
    "# Visualizing the mapping between labels\n",
    "training_set.class_indices"
   ]
  },
  {
   "cell_type": "code",
   "execution_count": 9,
   "metadata": {},
   "outputs": [
    {
     "name": "stdout",
     "output_type": "stream",
     "text": [
      "Confusion Matrix\n",
      "             Else  Industrial  Residential\n",
      "Else         4727          30           43\n",
      "Industrial     10         706           44\n",
      "Residential    11         409          480\n"
     ]
    }
   ],
   "source": [
    "# Confusion Matrix and Classification report\n",
    "Y_pred = model.predict_generator(test_set, test_set.samples//32 +1 )\n",
    "y_pred = np.argmax(Y_pred, axis=1)\n",
    "print('Confusion Matrix')\n",
    "cm = confusion_matrix(test_set.classes, y_pred)\n",
    "#visulaizing\n",
    "def cm2df(cm, labels):\n",
    "    df = pd.DataFrame()\n",
    "    # rows\n",
    "    for i, row_label in enumerate(labels):\n",
    "        rowdata={}\n",
    "        # columns\n",
    "        for j, col_label in enumerate(labels): \n",
    "            rowdata[col_label]=cm[i,j]\n",
    "        df = df.append(pd.DataFrame.from_dict({row_label:rowdata}, orient='index'))\n",
    "    return df[labels]\n",
    "\n",
    "#calling\n",
    "df = cm2df(cm, [\"Else\", \"Industrial\", \"Residential\"])\n",
    "print(df)"
   ]
  },
  {
   "cell_type": "code",
   "execution_count": 13,
   "metadata": {},
   "outputs": [
    {
     "name": "stdout",
     "output_type": "stream",
     "text": [
      "Classification Report\n",
      "              precision    recall  f1-score   support\n",
      "\n",
      "        Else       1.00      0.98      0.99      4800\n",
      "  Industrial       0.62      0.93      0.74       760\n",
      " Residential       0.85      0.53      0.65       900\n",
      "\n",
      "   micro avg       0.92      0.92      0.92      6460\n",
      "   macro avg       0.82      0.82      0.80      6460\n",
      "weighted avg       0.93      0.92      0.91      6460\n",
      "\n"
     ]
    }
   ],
   "source": [
    "# Classification Report\n",
    "print('Classification Report')\n",
    "target_names = ['Else','Industrial','Residential']\n",
    "classificn_report = classification_report(test_set.classes, y_pred, target_names=target_names)\n",
    "print(classificn_report)\n",
    "\n"
   ]
  },
  {
   "cell_type": "code",
   "execution_count": 14,
   "metadata": {},
   "outputs": [
    {
     "name": "stdout",
     "output_type": "stream",
     "text": [
      "dict_keys(['val_loss', 'val_acc', 'loss', 'acc'])\n"
     ]
    },
    {
     "data": {
      "image/png": "[encoded data removed]",
      "text/plain": [
       "<Figure size 432x288 with 1 Axes>"
      ]
     },
     "metadata": {
      "needs_background": "light"
     },
     "output_type": "display_data"
    },
    {
     "data": {
      "image/png": "[encoded data removed]",
      "text/plain": [
       "<Figure size 432x288 with 1 Axes>"
      ]
     },
     "metadata": {
      "needs_background": "light"
     },
     "output_type": "display_data"
    }
   ],
   "source": [
    "# Plotting the Loss and Classification Accuracy\n",
    "model.metrics_names\n",
    "print(history.history.keys())\n",
    "#  \"Accuracy\"\n",
    "plt.plot(history.history['acc'])\n",
    "plt.plot(history.history['val_acc'])\n",
    "plt.title('Model Accuracy')\n",
    "plt.ylabel('Accuracy')\n",
    "plt.xlabel('Epoch')\n",
    "plt.legend(['train', 'test'], loc='upper left')\n",
    "plt.show()\n",
    "\n",
    "# \"Loss\"\n",
    "plt.plot(history.history['loss'])\n",
    "plt.plot(history.history['val_loss'])\n",
    "plt.title('Model loss')\n",
    "plt.ylabel('Loss')\n",
    "plt.xlabel('Epoch')\n",
    "plt.legend(['train', 'test'], loc='upper left')\n",
    "plt.show()"
   ]
  }
 ],
 "metadata": {
  "kernelspec": {
   "display_name": "tf",
   "language": "python",
   "name": "tf"
  },
  "language_info": {
   "codemirror_mode": {
    "name": "ipython",
    "version": 3
   },
   "file_extension": ".py",
   "mimetype": "text/x-python",
   "name": "python",
   "nbconvert_exporter": "python",
   "pygments_lexer": "ipython3",
   "version": "3.6.8"
  }
 },
 "nbformat": 4,
 "nbformat_minor": 2
}
