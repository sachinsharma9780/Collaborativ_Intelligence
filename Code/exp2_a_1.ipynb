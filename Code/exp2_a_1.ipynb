{
 "cells": [
  {
   "cell_type": "code",
   "execution_count": 6,
   "metadata": {},
   "outputs": [],
   "source": [
    "#Importing necessary libraries \n",
    "import keras\n",
    "import numpy as np\n",
    "import pandas as pd\n",
    "from keras.applications import vgg16, inception_v3, resnet50, mobilenet\n",
    "from keras import models\n",
    "from keras import layers\n",
    "from keras import optimizers\n",
    "import cv2\n",
    "from sklearn.metrics import classification_report, confusion_matrix\n",
    "import matplotlib.pyplot as plt\n",
    "import os"
   ]
  },
  {
   "cell_type": "code",
   "execution_count": 2,
   "metadata": {},
   "outputs": [
    {
     "name": "stderr",
     "output_type": "stream",
     "text": [
      "/home/sachin_sharma/.conda/envs/tf18/lib/python3.6/site-packages/keras_applications/resnet50.py:265: UserWarning: The output shape of `ResNet50(include_top=False)` has been changed since Keras 2.2.0.\n",
      "  warnings.warn('The output shape of `ResNet50(include_top=False)` '\n"
     ]
    }
   ],
   "source": [
    "#Load the ResNet50 model\n",
    "resnet_model = resnet50.ResNet50(weights='imagenet', include_top=False, input_shape=(64, 64, 3))"
   ]
  },
  {
   "cell_type": "code",
   "execution_count": 3,
   "metadata": {},
   "outputs": [
    {
     "name": "stdout",
     "output_type": "stream",
     "text": [
      "<keras.engine.input_layer.InputLayer object at 0x7f1ad94a9eb8> False\n",
      "<keras.layers.convolutional.ZeroPadding2D object at 0x7f1ad94c6828> True\n",
      "<keras.layers.convolutional.Conv2D object at 0x7f1ad94c6518> True\n",
      "<keras.layers.normalization.BatchNormalization object at 0x7f1ad94c6d30> True\n",
      "<keras.layers.core.Activation object at 0x7f1ad94c6b70> True\n",
      "<keras.layers.convolutional.ZeroPadding2D object at 0x7f1ad8c2db00> True\n",
      "<keras.layers.pooling.MaxPooling2D object at 0x7f1ad83cd978> True\n",
      "<keras.layers.convolutional.Conv2D object at 0x7f1ad8c43160> True\n",
      "<keras.layers.normalization.BatchNormalization object at 0x7f1ad82e16d8> True\n",
      "<keras.layers.core.Activation object at 0x7f1ad82e19e8> True\n",
      "<keras.layers.convolutional.Conv2D object at 0x7f1ad8308ef0> True\n",
      "<keras.layers.normalization.BatchNormalization object at 0x7f1ad82cf908> True\n",
      "<keras.layers.core.Activation object at 0x7f1ad8266400> True\n",
      "<keras.layers.convolutional.Conv2D object at 0x7f1ad839d5c0> True\n",
      "<keras.layers.convolutional.Conv2D object at 0x7f1ad8166320> True\n",
      "<keras.layers.normalization.BatchNormalization object at 0x7f1ad81ce908> True\n",
      "<keras.layers.normalization.BatchNormalization object at 0x7f1ad80bffd0> True\n",
      "<keras.layers.merge.Add object at 0x7f1ad805d978> True\n",
      "<keras.layers.core.Activation object at 0x7f1ad07d7b38> True\n",
      "<keras.layers.convolutional.Conv2D object at 0x7f1ad07acc88> True\n",
      "<keras.layers.normalization.BatchNormalization object at 0x7f1ad0749978> True\n",
      "<keras.layers.core.Activation object at 0x7f1ad070fb38> True\n",
      "<keras.layers.convolutional.Conv2D object at 0x7f1ad06f54e0> True\n",
      "<keras.layers.normalization.BatchNormalization object at 0x7f1ad06b3e80> True\n",
      "<keras.layers.core.Activation object at 0x7f1ad06536a0> True\n",
      "<keras.layers.convolutional.Conv2D object at 0x7f1ad05f6ba8> True\n",
      "<keras.layers.normalization.BatchNormalization object at 0x7f1ad0551550> True\n",
      "<keras.layers.merge.Add object at 0x7f1ad0551a20> True\n",
      "<keras.layers.core.Activation object at 0x7f1ad049f470> True\n",
      "<keras.layers.convolutional.Conv2D object at 0x7f1ad0448b38> True\n",
      "<keras.layers.normalization.BatchNormalization object at 0x7f1ad0460828> True\n",
      "<keras.layers.core.Activation object at 0x7f1ad04299e8> True\n",
      "<keras.layers.convolutional.Conv2D object at 0x7f1ad0386c18> True\n",
      "<keras.layers.normalization.BatchNormalization object at 0x7f1ad03625c0> True\n",
      "<keras.layers.core.Activation object at 0x7f1ad0362a90> True\n",
      "<keras.layers.convolutional.Conv2D object at 0x7f1ad0283a58> True\n",
      "<keras.layers.normalization.BatchNormalization object at 0x7f1ad0254cc0> True\n",
      "<keras.layers.merge.Add object at 0x7f1ad0272978> True\n",
      "<keras.layers.core.Activation object at 0x7f1ad0184c18> True\n",
      "<keras.layers.convolutional.Conv2D object at 0x7f1ad0184d30> True\n",
      "<keras.layers.normalization.BatchNormalization object at 0x7f1ad016ee48> True\n",
      "<keras.layers.core.Activation object at 0x7f1ad00e6470> True\n",
      "<keras.layers.convolutional.Conv2D object at 0x7f1ad0093ac8> True\n",
      "<keras.layers.normalization.BatchNormalization object at 0x7f1ad0064d30> True\n",
      "<keras.layers.core.Activation object at 0x7f1ab87c2748> True\n",
      "<keras.layers.convolutional.Conv2D object at 0x7f1ab8767a58> True\n",
      "<keras.layers.convolutional.Conv2D object at 0x7f1ab86c3c88> True\n",
      "<keras.layers.normalization.BatchNormalization object at 0x7f1ab86c3400> True\n",
      "<keras.layers.normalization.BatchNormalization object at 0x7f1ab85d64e0> True\n",
      "<keras.layers.merge.Add object at 0x7f1ab86162e8> True\n",
      "<keras.layers.core.Activation object at 0x7f1ab8553dd8> True\n",
      "<keras.layers.convolutional.Conv2D object at 0x7f1ab84c6710> True\n",
      "<keras.layers.normalization.BatchNormalization object at 0x7f1ab84e12b0> True\n",
      "<keras.layers.core.Activation object at 0x7f1ab84a76a0> True\n",
      "<keras.layers.convolutional.Conv2D object at 0x7f1ab8474978> True\n",
      "<keras.layers.normalization.BatchNormalization object at 0x7f1ab83d1908> True\n",
      "<keras.layers.core.Activation object at 0x7f1ab83ea320> True\n",
      "<keras.layers.convolutional.Conv2D object at 0x7f1ab8304668> True\n",
      "<keras.layers.normalization.BatchNormalization object at 0x7f1ab82e51d0> True\n",
      "<keras.layers.merge.Add object at 0x7f1ab82e5828> True\n",
      "<keras.layers.core.Activation object at 0x7f1ab8273dd8> True\n",
      "<keras.layers.convolutional.Conv2D object at 0x7f1ab8273e10> True\n",
      "<keras.layers.normalization.BatchNormalization object at 0x7f1ab81e2e10> True\n",
      "<keras.layers.core.Activation object at 0x7f1ab81424a8> True\n",
      "<keras.layers.convolutional.Conv2D object at 0x7f1ab81156d8> True\n",
      "<keras.layers.normalization.BatchNormalization object at 0x7f1ab80f61d0> True\n",
      "<keras.layers.core.Activation object at 0x7f1ab80f6898> True\n",
      "<keras.layers.convolutional.Conv2D object at 0x7f1aa07da518> True\n",
      "<keras.layers.normalization.BatchNormalization object at 0x7f1aa07b6668> True\n",
      "<keras.layers.merge.Add object at 0x7f1aa07b6c18> True\n",
      "<keras.layers.core.Activation object at 0x7f1aa06dbbe0> True\n",
      "<keras.layers.convolutional.Conv2D object at 0x7f1aa06aae48> True\n",
      "<keras.layers.normalization.BatchNormalization object at 0x7f1aa0648a20> True\n",
      "<keras.layers.core.Activation object at 0x7f1aa0613be0> True\n",
      "<keras.layers.convolutional.Conv2D object at 0x7f1aa05ebf60> True\n",
      "<keras.layers.normalization.BatchNormalization object at 0x7f1aa057b828> True\n",
      "<keras.layers.core.Activation object at 0x7f1aa0547be0> True\n",
      "<keras.layers.convolutional.Conv2D object at 0x7f1aa04fb518> True\n",
      "<keras.layers.normalization.BatchNormalization object at 0x7f1aa04bbeb8> True\n",
      "<keras.layers.merge.Add object at 0x7f1aa045a6d8> True\n",
      "<keras.layers.core.Activation object at 0x7f1aa03e9c18> True\n",
      "<keras.layers.convolutional.Conv2D object at 0x7f1aa03e9f28> True\n",
      "<keras.layers.normalization.BatchNormalization object at 0x7f1aa0359630> True\n",
      "<keras.layers.core.Activation object at 0x7f1aa02c9358> True\n",
      "<keras.layers.convolutional.Conv2D object at 0x7f1aa028a588> True\n",
      "<keras.layers.normalization.BatchNormalization object at 0x7f1aa024df60> True\n",
      "<keras.layers.core.Activation object at 0x7f1aa026c748> True\n",
      "<keras.layers.convolutional.Conv2D object at 0x7f1aa018fc50> True\n",
      "<keras.layers.convolutional.Conv2D object at 0x7f1aa016ad30> True\n",
      "<keras.layers.normalization.BatchNormalization object at 0x7f1aa016a5f8> True\n",
      "<keras.layers.normalization.BatchNormalization object at 0x7f1aa007c6d8> True\n",
      "<keras.layers.merge.Add object at 0x7f1aa005efd0> True\n",
      "<keras.layers.core.Activation object at 0x7f1a7574ee48> True\n",
      "<keras.layers.convolutional.Conv2D object at 0x7f1a75727ef0> True\n",
      "<keras.layers.normalization.BatchNormalization object at 0x7f1a756c35f8> True\n",
      "<keras.layers.core.Activation object at 0x7f1a7568fe80> True\n",
      "<keras.layers.convolutional.Conv2D object at 0x7f1a756759b0> True\n",
      "<keras.layers.normalization.BatchNormalization object at 0x7f1a755d0358> True\n",
      "<keras.layers.core.Activation object at 0x7f1a755d0b70> True\n",
      "<keras.layers.convolutional.Conv2D object at 0x7f1a7550c550> True\n",
      "<keras.layers.normalization.BatchNormalization object at 0x7f1a754cda20> True\n",
      "<keras.layers.merge.Add object at 0x7f1a754e66d8> True\n",
      "<keras.layers.core.Activation object at 0x7f1a754789b0> True\n",
      "<keras.layers.convolutional.Conv2D object at 0x7f1a75478ac8> True\n",
      "<keras.layers.normalization.BatchNormalization object at 0x7f1a753e71d0> True\n",
      "<keras.layers.core.Activation object at 0x7f1a753572e8> True\n",
      "<keras.layers.convolutional.Conv2D object at 0x7f1a75318518> True\n",
      "<keras.layers.normalization.BatchNormalization object at 0x7f1a752d9eb8> True\n",
      "<keras.layers.core.Activation object at 0x7f1a752f76d8> True\n",
      "<keras.layers.convolutional.Conv2D object at 0x7f1a7521fbe0> True\n",
      "<keras.layers.normalization.BatchNormalization object at 0x7f1a751f7588> True\n",
      "<keras.layers.merge.Add object at 0x7f1a751f7a58> True\n",
      "<keras.layers.core.Activation object at 0x7f1a750c84a8> True\n",
      "<keras.layers.convolutional.Conv2D object at 0x7f1a750f3b70> True\n",
      "<keras.layers.normalization.BatchNormalization object at 0x7f1a7508a860> True\n",
      "<keras.layers.core.Activation object at 0x7f1a7501d518> True\n",
      "<keras.layers.convolutional.Conv2D object at 0x7f1a74fc6518> True\n",
      "<keras.layers.normalization.BatchNormalization object at 0x7f1a74f869e8> True\n",
      "<keras.layers.core.Activation object at 0x7f1a74fa06a0> True\n",
      "<keras.layers.convolutional.Conv2D object at 0x7f1a74ec0748> True\n",
      "<keras.layers.normalization.BatchNormalization object at 0x7f1a74e9e048> True\n",
      "<keras.layers.merge.Add object at 0x7f1a74e9e908> True\n",
      "<keras.layers.core.Activation object at 0x7f1a74e2bdd8> True\n",
      "<keras.layers.convolutional.Conv2D object at 0x7f1a74e2beb8> True\n",
      "<keras.layers.normalization.BatchNormalization object at 0x7f1a74db4278> True\n",
      "<keras.layers.core.Activation object at 0x7f1a74d79978> True\n",
      "<keras.layers.convolutional.Conv2D object at 0x7f1a74cd8ba8> True\n",
      "<keras.layers.normalization.BatchNormalization object at 0x7f1a74cb2550> True\n",
      "<keras.layers.core.Activation object at 0x7f1a74cb2a20> True\n",
      "<keras.layers.convolutional.Conv2D object at 0x7f1a74bd2e80> True\n",
      "<keras.layers.normalization.BatchNormalization object at 0x7f1a74ba8c18> True\n",
      "<keras.layers.merge.Add object at 0x7f1a74b43630> True\n",
      "<keras.layers.core.Activation object at 0x7f1a74ad4ba8> True\n",
      "<keras.layers.convolutional.Conv2D object at 0x7f1a74ad4cc0> True\n",
      "<keras.layers.normalization.BatchNormalization object at 0x7f1a74a40358> True\n",
      "<keras.layers.core.Activation object at 0x7f1a74a254e0> True\n",
      "<keras.layers.convolutional.Conv2D object at 0x7f1a749f9710> True\n",
      "<keras.layers.normalization.BatchNormalization object at 0x7f1a749582e8> True\n",
      "<keras.layers.core.Activation object at 0x7f1a749588d0> True\n",
      "<keras.layers.convolutional.Conv2D object at 0x7f1a748f8f28> True\n",
      "<keras.layers.normalization.BatchNormalization object at 0x7f1a74853668> True\n",
      "<keras.layers.merge.Add object at 0x7f1a74853c18> True\n",
      "<keras.layers.core.Activation object at 0x7f1a747fae48> True\n",
      "<keras.layers.convolutional.Conv2D object at 0x7f1a74749e48> True\n",
      "<keras.layers.normalization.BatchNormalization object at 0x7f1a74768160> True\n",
      "<keras.layers.core.Activation object at 0x7f1a746e1320> True\n",
      "<keras.layers.convolutional.Conv2D object at 0x7f1a746a2978> True\n",
      "<keras.layers.normalization.BatchNormalization object at 0x7f1a74666c18> True\n",
      "<keras.layers.core.Activation object at 0x7f1a745fc8d0> True\n",
      "<keras.layers.convolutional.Conv2D object at 0x7f1a745a1940> True\n",
      "<keras.layers.convolutional.Conv2D object at 0x7f1a744fcb00> True\n",
      "<keras.layers.normalization.BatchNormalization object at 0x7f1a744fc208> True\n",
      "<keras.layers.normalization.BatchNormalization object at 0x7f1a744143c8> True\n",
      "<keras.layers.merge.Add object at 0x7f1a74476e48> True\n",
      "<keras.layers.core.Activation object at 0x7f1a7435a320> True\n",
      "<keras.layers.convolutional.Conv2D object at 0x7f1a742fea20> True\n",
      "<keras.layers.normalization.BatchNormalization object at 0x7f1a74318710> True\n",
      "<keras.layers.core.Activation object at 0x7f1a742e2cc0> True\n",
      "<keras.layers.convolutional.Conv2D object at 0x7f1af18e9fd0> True\n",
      "<keras.layers.normalization.BatchNormalization object at 0x7f1a7420afd0> True\n",
      "<keras.layers.core.Activation object at 0x7f1a742281d0> True\n",
      "<keras.layers.convolutional.Conv2D object at 0x7f1a74141c88> True\n",
      "<keras.layers.normalization.BatchNormalization object at 0x7f1a7411e5f8> True\n",
      "<keras.layers.merge.Add object at 0x7f1a7411ed30> True\n",
      "<keras.layers.core.Activation object at 0x7f1a7406b550> True\n",
      "<keras.layers.convolutional.Conv2D object at 0x7f17bf288be0> True\n",
      "<keras.layers.normalization.BatchNormalization object at 0x7f17bf2a6438> True\n",
      "<keras.layers.core.Activation object at 0x7f17bf26fe10> True\n",
      "<keras.layers.convolutional.Conv2D object at 0x7f17bf1df5c0> True\n",
      "<keras.layers.normalization.BatchNormalization object at 0x7f17bf1a3ac8> True\n",
      "<keras.layers.core.Activation object at 0x7f17bf13c320> True\n",
      "<keras.layers.convolutional.Conv2D object at 0x7f17bf0d97f0> True\n",
      "<keras.layers.normalization.BatchNormalization object at 0x7f17bf0380b8> True\n",
      "<keras.layers.merge.Add object at 0x7f17bf0389b0> True\n",
      "<keras.layers.core.Activation object at 0x7f17befc5eb8> True\n"
     ]
    }
   ],
   "source": [
    "# Checking the trainable status of the individual layers\n",
    "for layer in resnet_model.layers:\n",
    "    print(layer, layer.trainable)"
   ]
  },
  {
   "cell_type": "code",
   "execution_count": 9,
   "metadata": {},
   "outputs": [
    {
     "name": "stdout",
     "output_type": "stream",
     "text": [
      "_________________________________________________________________\n",
      "Layer (type)                 Output Shape              Param #   \n",
      "=================================================================\n",
      "resnet50 (Model)             (None, 2, 2, 2048)        23587712  \n",
      "_________________________________________________________________\n",
      "flatten_2 (Flatten)          (None, 8192)              0         \n",
      "_________________________________________________________________\n",
      "dense_3 (Dense)              (None, 1024)              8389632   \n",
      "_________________________________________________________________\n",
      "dropout_2 (Dropout)          (None, 1024)              0         \n",
      "_________________________________________________________________\n",
      "dense_4 (Dense)              (None, 3)                 3075      \n",
      "=================================================================\n",
      "Total params: 31,980,419\n",
      "Trainable params: 31,927,299\n",
      "Non-trainable params: 53,120\n",
      "_________________________________________________________________\n"
     ]
    }
   ],
   "source": [
    "# Adding classifier on top of Convolutional base\n",
    "# create the model\n",
    "model = models.Sequential()\n",
    "\n",
    "# Add the resnet50 convolutional model\n",
    "model.add(resnet_model)\n",
    "\n",
    "# Adding top Layers\n",
    "model.add(layers.Flatten())\n",
    "model.add(layers.Dense(1024, activation='relu'))\n",
    "model.add(layers.Dropout(0.5))\n",
    "model.add(layers.Dense(3, activation='softmax'))\n",
    "\n",
    "# Showing summary of model\n",
    "model.summary()\n",
    "\n",
    "# Fitting the CNN to the images(Image Augmentation, Image Preprocessing)\n",
    "from keras.preprocessing.image import ImageDataGenerator\n",
    "train_datagen = ImageDataGenerator(  \n",
    "        rescale=1./255,\n",
    "        shear_range=0.2,             \n",
    "        zoom_range=0.2,              \n",
    "        horizontal_flip=True)\n",
    "\n",
    "\n",
    "# Normalizing the test set\n",
    "test_datagen = ImageDataGenerator(rescale=1./255)"
   ]
  },
  {
   "cell_type": "code",
   "execution_count": 11,
   "metadata": {},
   "outputs": [
    {
     "name": "stdout",
     "output_type": "stream",
     "text": [
      "Found 22528 images belonging to 3 classes.\n",
      "Found 6460 images belonging to 3 classes.\n"
     ]
    }
   ],
   "source": [
    "# This will create 80:20 split of training and test set \n",
    "# path to data\n",
    "os.chdir('/home/sachin_sharma/Desktop/exp_2_jpg')\n",
    "training_set = train_datagen.flow_from_directory(\n",
    "        'TrainingSet',\n",
    "         target_size=(64,64),\n",
    "         batch_size=32,\n",
    "         class_mode='categorical')\n",
    "\n",
    "# This will create the Test set\n",
    "test_set = test_datagen.flow_from_directory(\n",
    "        'TestSet',\n",
    "        target_size=(64,64),\n",
    "        batch_size=32,\n",
    "        class_mode='categorical', \n",
    "        shuffle=False)\n",
    "\n",
    "# Compile the model\n",
    "model.compile(loss='categorical_crossentropy',\n",
    "              optimizer=optimizers.RMSprop(lr=1e-4),\n",
    "              metrics=['acc'])"
   ]
  },
  {
   "cell_type": "code",
   "execution_count": 12,
   "metadata": {},
   "outputs": [
    {
     "name": "stdout",
     "output_type": "stream",
     "text": [
      "Epoch 1/10\n",
      "704/704 [==============================] - 58s 82ms/step - loss: 0.1847 - acc: 0.9212 - val_loss: 0.1916 - val_acc: 0.9158\n",
      "Epoch 2/10\n",
      "704/704 [==============================] - 44s 62ms/step - loss: 0.1175 - acc: 0.9402 - val_loss: 0.1912 - val_acc: 0.9155\n",
      "Epoch 3/10\n",
      "704/704 [==============================] - 43s 61ms/step - loss: 0.1129 - acc: 0.9435 - val_loss: 0.1464 - val_acc: 0.9274\n",
      "Epoch 4/10\n",
      "704/704 [==============================] - 44s 63ms/step - loss: 0.1086 - acc: 0.9463 - val_loss: 0.2455 - val_acc: 0.9118\n",
      "Epoch 5/10\n",
      "704/704 [==============================] - 45s 64ms/step - loss: 0.1082 - acc: 0.9466 - val_loss: 0.1730 - val_acc: 0.9187\n",
      "Epoch 6/10\n",
      "704/704 [==============================] - 45s 64ms/step - loss: 0.1039 - acc: 0.9471 - val_loss: 0.1585 - val_acc: 0.9195\n",
      "Epoch 7/10\n",
      "704/704 [==============================] - 44s 62ms/step - loss: 0.1006 - acc: 0.9483 - val_loss: 0.2541 - val_acc: 0.9161\n",
      "Epoch 8/10\n",
      "704/704 [==============================] - 44s 62ms/step - loss: 0.1102 - acc: 0.9486 - val_loss: 0.2108 - val_acc: 0.9192\n",
      "Epoch 9/10\n",
      "704/704 [==============================] - 44s 62ms/step - loss: 0.1124 - acc: 0.9493 - val_loss: 0.1523 - val_acc: 0.9269\n",
      "Epoch 10/10\n",
      "704/704 [==============================] - 44s 62ms/step - loss: 0.1003 - acc: 0.9506 - val_loss: 0.3187 - val_acc: 0.9080\n"
     ]
    }
   ],
   "source": [
    "# Train the model\n",
    "history = model.fit_generator(\n",
    "          training_set, \n",
    "          steps_per_epoch=(training_set.samples/32),\n",
    "          epochs=10,\n",
    "          validation_data=test_set,\n",
    "          validation_steps=(test_set.samples/32))"
   ]
  },
  {
   "cell_type": "code",
   "execution_count": 13,
   "metadata": {},
   "outputs": [
    {
     "data": {
      "text/plain": [
       "{'Else': 0, 'Industrial': 1, 'Residential': 2}"
      ]
     },
     "execution_count": 13,
     "metadata": {},
     "output_type": "execute_result"
    }
   ],
   "source": [
    "# Visualizing the mapping between labels\n",
    "training_set.class_indices"
   ]
  },
  {
   "cell_type": "code",
   "execution_count": 15,
   "metadata": {},
   "outputs": [],
   "source": [
    "# getting predictions\n",
    "Y_pred = model.predict_generator(test_set, test_set.samples//32 +1 )\n",
    "y_pred = np.argmax(Y_pred, axis=1)\n"
   ]
  },
  {
   "cell_type": "code",
   "execution_count": 25,
   "metadata": {},
   "outputs": [
    {
     "name": "stdout",
     "output_type": "stream",
     "text": [
      "Confusion Matrix: \n",
      "             Else  Industrial  Residential\n",
      "Else         4653          15          132\n",
      "Industrial      0         728           32\n",
      "Residential     0         415          485\n"
     ]
    }
   ],
   "source": [
    "# Confusion Matrix \n",
    "print('Confusion Matrix: ')\n",
    "cm = confusion_matrix(test_set.classes, y_pred)\n",
    "#print(cm)\n",
    "\n",
    "def cm2df(cm, labels):\n",
    "    df = pd.DataFrame()\n",
    "    # rows\n",
    "    for i, row_label in enumerate(labels):\n",
    "        rowdata={}\n",
    "        # columns\n",
    "        for j, col_label in enumerate(labels): \n",
    "            rowdata[col_label]=cm[i,j]\n",
    "        df = df.append(pd.DataFrame.from_dict({row_label:rowdata}, orient='index'))\n",
    "    return df[labels]\n",
    "\n",
    "df = cm2df(cm, [\"Else\", \"Industrial\", \"Residential\"])\n",
    "print(df)"
   ]
  },
  {
   "cell_type": "code",
   "execution_count": 22,
   "metadata": {},
   "outputs": [
    {
     "name": "stdout",
     "output_type": "stream",
     "text": [
      "Classification Report\n",
      "              precision    recall  f1-score   support\n",
      "\n",
      "        Else       1.00      0.97      0.98      4800\n",
      "  Industrial       0.63      0.96      0.76       760\n",
      " Residential       0.75      0.54      0.63       900\n",
      "\n",
      "   micro avg       0.91      0.91      0.91      6460\n",
      "   macro avg       0.79      0.82      0.79      6460\n",
      "weighted avg       0.92      0.91      0.91      6460\n",
      "\n"
     ]
    }
   ],
   "source": [
    "# Classification report\n",
    "print('Classification Report')\n",
    "target_names = ['Else', 'Industrial', 'Residential']\n",
    "classifcn_report = classification_report(test_set.classes, y_pred, target_names=target_names)\n",
    "print(classifcn_report)"
   ]
  },
  {
   "cell_type": "code",
   "execution_count": 23,
   "metadata": {},
   "outputs": [
    {
     "name": "stdout",
     "output_type": "stream",
     "text": [
      "dict_keys(['val_loss', 'val_acc', 'loss', 'acc'])\n"
     ]
    },
    {
     "data": {
      "image/png": "[encoded data removed]",
      "text/plain": [
       "<Figure size 432x288 with 1 Axes>"
      ]
     },
     "metadata": {
      "needs_background": "light"
     },
     "output_type": "display_data"
    },
    {
     "data": {
      "image/png": "[encoded data removed]",
      "text/plain": [
       "<Figure size 432x288 with 1 Axes>"
      ]
     },
     "metadata": {
      "needs_background": "light"
     },
     "output_type": "display_data"
    }
   ],
   "source": [
    "# Plotting the Loss and Classification Accuracy\n",
    "model.metrics_names\n",
    "print(history.history.keys())\n",
    "#  \"Accuracy\"\n",
    "plt.plot(history.history['acc'])\n",
    "plt.plot(history.history['val_acc'])\n",
    "plt.title('Model Accuracy')\n",
    "plt.ylabel('Accuracy')\n",
    "plt.xlabel('Epoch')\n",
    "plt.legend(['train', 'test'], loc='upper left')\n",
    "plt.show()\n",
    "\n",
    "# \"Loss\"\n",
    "plt.plot(history.history['loss'])\n",
    "plt.plot(history.history['val_loss'])\n",
    "plt.title('Model loss')\n",
    "plt.ylabel('Loss')\n",
    "plt.xlabel('Epoch')\n",
    "plt.legend(['train', 'test'], loc='upper left')\n",
    "plt.show()\n"
   ]
  }
 ],
 "metadata": {
  "kernelspec": {
   "display_name": "tf",
   "language": "python",
   "name": "tf"
  },
  "language_info": {
   "codemirror_mode": {
    "name": "ipython",
    "version": 3
   },
   "file_extension": ".py",
   "mimetype": "text/x-python",
   "name": "python",
   "nbconvert_exporter": "python",
   "pygments_lexer": "ipython3",
   "version": "3.6.8"
  }
 },
 "nbformat": 4,
 "nbformat_minor": 2
}
