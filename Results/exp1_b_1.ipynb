{
 "cells": [
  {
   "cell_type": "code",
   "execution_count": 1,
   "metadata": {},
   "outputs": [
    {
     "name": "stderr",
     "output_type": "stream",
     "text": [
      "Using TensorFlow backend.\n"
     ]
    }
   ],
   "source": [
    "# Importing the Keras libraries and packages\n",
    "from keras.models import Sequential \n",
    "from keras.layers import Convolution2D\n",
    "from keras.layers import MaxPooling2D\n",
    "from keras.layers import Flatten\n",
    "from keras.layers import Dense \n",
    "import matplotlib.pyplot as plt\n",
    "from PIL import Image\n",
    "import numpy as np\n",
    "from sklearn.metrics import classification_report, confusion_matrix\n",
    "import pandas as pd\n",
    "import os"
   ]
  },
  {
   "cell_type": "code",
   "execution_count": 2,
   "metadata": {},
   "outputs": [],
   "source": [
    "# Initialize CNN\n",
    "model = Sequential()"
   ]
  },
  {
   "cell_type": "code",
   "execution_count": 3,
   "metadata": {},
   "outputs": [
    {
     "name": "stderr",
     "output_type": "stream",
     "text": [
      "/home/sachin_sharma/.conda/envs/tf18/lib/python3.6/site-packages/ipykernel_launcher.py:2: UserWarning: Update your `Conv2D` call to the Keras 2 API: `Conv2D(64, (3, 3), input_shape=(64, 64, 3..., activation=\"relu\")`\n",
      "  \n",
      "/home/sachin_sharma/.conda/envs/tf18/lib/python3.6/site-packages/ipykernel_launcher.py:7: UserWarning: Update your `Conv2D` call to the Keras 2 API: `Conv2D(64, (3, 3), activation=\"relu\")`\n",
      "  import sys\n"
     ]
    }
   ],
   "source": [
    "# building model\n",
    "model.add(Convolution2D(64, 3, 3, input_shape = (64, 64, 3), activation = 'relu'))\n",
    "# pooling\n",
    "model.add(MaxPooling2D(pool_size = (2,2)))\n",
    "\n",
    "# adding a second convol layer\n",
    "model.add(Convolution2D(64, 3, 3, activation='relu'))\n",
    "model.add(MaxPooling2D(pool_size=(2,2)))\n",
    "\n",
    "# Flattening\n",
    "model.add(Flatten())\n",
    "\n",
    "# Full connection\n",
    "model.add(Dense(units=128, activation='relu'))\n",
    "# output layer\n",
    "model.add(Dense(units=9, activation='softmax'))"
   ]
  },
  {
   "cell_type": "code",
   "execution_count": 4,
   "metadata": {},
   "outputs": [],
   "source": [
    "# compile\n",
    "model.compile(optimizer = 'adam', loss='categorical_crossentropy', metrics=['accuracy'])"
   ]
  },
  {
   "cell_type": "code",
   "execution_count": 5,
   "metadata": {},
   "outputs": [],
   "source": [
    "# Fitting the CNN to the images(Image Augmentation, Image Preprocessing)\n",
    "from keras.preprocessing.image import ImageDataGenerator\n",
    "train_datagen = ImageDataGenerator(  \n",
    "        rescale=1./255,\n",
    "        shear_range=0.2,             \n",
    "        zoom_range=0.2,              \n",
    "        horizontal_flip=True)"
   ]
  },
  {
   "cell_type": "code",
   "execution_count": 6,
   "metadata": {},
   "outputs": [],
   "source": [
    "# normalizing\n",
    "test_datagen = ImageDataGenerator(rescale=1./255)\n"
   ]
  },
  {
   "cell_type": "code",
   "execution_count": 7,
   "metadata": {},
   "outputs": [],
   "source": [
    "# path to your experimental data\n",
    "os.chdir('/home/sachin_sharma/Desktop/jpg_data')"
   ]
  },
  {
   "cell_type": "code",
   "execution_count": 8,
   "metadata": {},
   "outputs": [
    {
     "name": "stdout",
     "output_type": "stream",
     "text": [
      "Found 20140 images belonging to 9 classes.\n"
     ]
    }
   ],
   "source": [
    "# This section will create Training set( Training_Set:TestSet ratio 80:20)\n",
    "training_set = train_datagen.flow_from_directory(\n",
    "        'TrainingSet', \n",
    "        target_size=(64, 64),   \n",
    "        batch_size=32,          \n",
    "        class_mode='categorical') "
   ]
  },
  {
   "cell_type": "code",
   "execution_count": 9,
   "metadata": {},
   "outputs": [
    {
     "name": "stdout",
     "output_type": "stream",
     "text": [
      "Found 5660 images belonging to 9 classes.\n"
     ]
    }
   ],
   "source": [
    "# This section will create the Test set\n",
    "test_set = test_datagen.flow_from_directory( \n",
    "        'TestSet',\n",
    "        target_size=(64, 64),\n",
    "        batch_size=32,\n",
    "        class_mode='categorical', \n",
    "        shuffle=False)"
   ]
  },
  {
   "cell_type": "code",
   "execution_count": 10,
   "metadata": {},
   "outputs": [
    {
     "name": "stdout",
     "output_type": "stream",
     "text": [
      "Epoch 1/25\n",
      "630/629 [==============================] - 18s 29ms/step - loss: 1.2368 - acc: 0.5229 - val_loss: 0.9386 - val_acc: 0.6633\n",
      "Epoch 2/25\n",
      "630/629 [==============================] - 17s 28ms/step - loss: 0.8319 - acc: 0.6907 - val_loss: 0.6876 - val_acc: 0.7521\n",
      "Epoch 3/25\n",
      "630/629 [==============================] - 17s 28ms/step - loss: 0.7053 - acc: 0.7398 - val_loss: 0.7396 - val_acc: 0.7205\n",
      "Epoch 4/25\n",
      "630/629 [==============================] - 17s 27ms/step - loss: 0.6591 - acc: 0.7566 - val_loss: 0.6283 - val_acc: 0.7678\n",
      "Epoch 5/25\n",
      "630/629 [==============================] - 17s 28ms/step - loss: 0.6093 - acc: 0.7733 - val_loss: 0.6198 - val_acc: 0.7687\n",
      "Epoch 6/25\n",
      "630/629 [==============================] - 17s 27ms/step - loss: 0.5880 - acc: 0.7809 - val_loss: 0.7611 - val_acc: 0.7193\n",
      "Epoch 7/25\n",
      "630/629 [==============================] - 17s 27ms/step - loss: 0.5406 - acc: 0.8015 - val_loss: 0.6026 - val_acc: 0.7836\n",
      "Epoch 8/25\n",
      "630/629 [==============================] - 17s 27ms/step - loss: 0.5140 - acc: 0.8108 - val_loss: 0.5892 - val_acc: 0.7816\n",
      "Epoch 9/25\n",
      "630/629 [==============================] - 17s 28ms/step - loss: 0.4781 - acc: 0.8267 - val_loss: 0.6391 - val_acc: 0.7754\n",
      "Epoch 10/25\n",
      "630/629 [==============================] - 17s 27ms/step - loss: 0.4566 - acc: 0.8350 - val_loss: 0.5569 - val_acc: 0.7968\n",
      "Epoch 11/25\n",
      "630/629 [==============================] - 17s 28ms/step - loss: 0.4325 - acc: 0.8447 - val_loss: 0.5139 - val_acc: 0.8092\n",
      "Epoch 12/25\n",
      "630/629 [==============================] - 17s 27ms/step - loss: 0.4142 - acc: 0.8517 - val_loss: 0.4916 - val_acc: 0.8226\n",
      "Epoch 13/25\n",
      "630/629 [==============================] - 17s 27ms/step - loss: 0.3961 - acc: 0.8550 - val_loss: 0.4379 - val_acc: 0.8459\n",
      "Epoch 14/25\n",
      "630/629 [==============================] - 17s 28ms/step - loss: 0.3729 - acc: 0.8628 - val_loss: 0.4891 - val_acc: 0.8242\n",
      "Epoch 15/25\n",
      "630/629 [==============================] - 17s 27ms/step - loss: 0.3557 - acc: 0.8703 - val_loss: 0.4431 - val_acc: 0.8443\n",
      "Epoch 16/25\n",
      "630/629 [==============================] - 17s 27ms/step - loss: 0.3455 - acc: 0.8756 - val_loss: 0.4981 - val_acc: 0.8246\n",
      "Epoch 17/25\n",
      "630/629 [==============================] - 17s 27ms/step - loss: 0.3367 - acc: 0.8793 - val_loss: 0.4182 - val_acc: 0.8558\n",
      "Epoch 18/25\n",
      "630/629 [==============================] - 17s 27ms/step - loss: 0.3246 - acc: 0.8830 - val_loss: 0.4564 - val_acc: 0.8413\n",
      "Epoch 19/25\n",
      "630/629 [==============================] - 17s 27ms/step - loss: 0.3140 - acc: 0.8873 - val_loss: 0.3997 - val_acc: 0.8627\n",
      "Epoch 20/25\n",
      "630/629 [==============================] - 17s 27ms/step - loss: 0.2988 - acc: 0.8923 - val_loss: 0.5134 - val_acc: 0.8309\n",
      "Epoch 21/25\n",
      "630/629 [==============================] - 17s 27ms/step - loss: 0.2771 - acc: 0.9011 - val_loss: 0.4108 - val_acc: 0.8670\n",
      "Epoch 22/25\n",
      "630/629 [==============================] - 17s 27ms/step - loss: 0.2754 - acc: 0.8994 - val_loss: 0.4102 - val_acc: 0.8594\n",
      "Epoch 23/25\n",
      "630/629 [==============================] - 17s 27ms/step - loss: 0.2596 - acc: 0.9062 - val_loss: 0.5955 - val_acc: 0.8102\n",
      "Epoch 24/25\n",
      "630/629 [==============================] - 17s 27ms/step - loss: 0.2519 - acc: 0.9092 - val_loss: 0.4982 - val_acc: 0.8452\n",
      "Epoch 25/25\n",
      "630/629 [==============================] - 17s 27ms/step - loss: 0.2429 - acc: 0.9136 - val_loss: 0.4323 - val_acc: 0.8622\n"
     ]
    }
   ],
   "source": [
    "history = model.fit_generator(training_set, \n",
    "                        steps_per_epoch=(training_set.samples/32),\n",
    "                        epochs=25,\n",
    "                        validation_data=test_set, \n",
    "                        validation_steps=(test_set.samples/32)) "
   ]
  },
  {
   "cell_type": "code",
   "execution_count": 11,
   "metadata": {},
   "outputs": [],
   "source": [
    "# saving the model\n",
    "model.save('exp1_b_1.h5')"
   ]
  },
  {
   "cell_type": "code",
   "execution_count": 12,
   "metadata": {},
   "outputs": [
    {
     "data": {
      "text/plain": [
       "{'AnnualCrop': 0,\n",
       " 'Buildup': 1,\n",
       " 'Forest': 2,\n",
       " 'HerbaceousVegetation': 3,\n",
       " 'Highway': 4,\n",
       " 'Pasture': 5,\n",
       " 'PermanentCrop': 6,\n",
       " 'River': 7,\n",
       " 'SeaLake': 8}"
      ]
     },
     "execution_count": 12,
     "metadata": {},
     "output_type": "execute_result"
    }
   ],
   "source": [
    "# Visualizing the mapping between labels\n",
    "training_set.class_indices"
   ]
  },
  {
   "cell_type": "code",
   "execution_count": 14,
   "metadata": {},
   "outputs": [
    {
     "name": "stdout",
     "output_type": "stream",
     "text": [
      "Confusion Matrix\n",
      "                      AnnualCrop  Buildup  Forest  HerbaceousVegetation  \\\n",
      "AnnualCrop                   497        0       3                    23   \n",
      "Buildup                        0      857       0                     0   \n",
      "Forest                         0        0     564                     1   \n",
      "HerbaceousVegetation           0       17       4                   531   \n",
      "Highway                        9       52       0                    27   \n",
      "Pasture                       11        0       5                    15   \n",
      "PermanentCrop                 16        8       0                    89   \n",
      "River                         16       16       1                     4   \n",
      "SeaLake                        4        0       7                     1   \n",
      "\n",
      "                      Highway  Pasture  PermanentCrop  River  SeaLake  \n",
      "AnnualCrop                 11       12             26     23        5  \n",
      "Buildup                     1        0              2      0        0  \n",
      "Forest                      1       22              1      9        2  \n",
      "HerbaceousVegetation        9        9             21      8        1  \n",
      "Highway                   425        8             35     43        1  \n",
      "Pasture                    26      483             46     12        2  \n",
      "PermanentCrop              19        1            457     10        0  \n",
      "River                      39       22             14    485        3  \n",
      "SeaLake                     0        4              0      3      581  \n"
     ]
    }
   ],
   "source": [
    "# Confusion Matrix\n",
    "Y_pred = model.predict_generator(test_set, test_set.samples//32 +1 )\n",
    "y_pred = np.argmax(Y_pred, axis=1)\n",
    "print('Confusion Matrix')\n",
    "#cm = confusion_matrix(test_set.classes, y_pred)\n",
    "#visulaizing\n",
    "def cm2df(cm, labels):\n",
    "    df = pd.DataFrame()\n",
    "    # rows\n",
    "    for i, row_label in enumerate(labels):\n",
    "        rowdata={}\n",
    "        # columns\n",
    "        for j, col_label in enumerate(labels): \n",
    "            rowdata[col_label]=cm[i,j]\n",
    "        df = df.append(pd.DataFrame.from_dict({row_label:rowdata}, orient='index'))\n",
    "    return df[labels]\n",
    "\n",
    "#calling\n",
    "df = cm2df(cm, [\"AnnualCrop\", \"Buildup\", \"Forest\", \"HerbaceousVegetation\", \"Highway\", \"Pasture\", \"PermanentCrop\", \"River\", \"SeaLake\"])\n",
    "print(df)"
   ]
  },
  {
   "cell_type": "code",
   "execution_count": 16,
   "metadata": {},
   "outputs": [
    {
     "name": "stdout",
     "output_type": "stream",
     "text": [
      "Classification Report\n",
      "                      precision    recall  f1-score   support\n",
      "\n",
      "          AnnualCrop       0.90      0.83      0.86       600\n",
      "             Buildup       0.90      1.00      0.95       860\n",
      "              Forest       0.97      0.94      0.95       600\n",
      "HerbaceousVegetation       0.77      0.89      0.82       600\n",
      "             Highway       0.80      0.71      0.75       600\n",
      "             Pasture       0.86      0.81      0.83       600\n",
      "       PermanentCrop       0.76      0.76      0.76       600\n",
      "               River       0.82      0.81      0.81       600\n",
      "             SeaLake       0.98      0.97      0.97       600\n",
      "\n",
      "           micro avg       0.86      0.86      0.86      5660\n",
      "           macro avg       0.86      0.86      0.86      5660\n",
      "        weighted avg       0.86      0.86      0.86      5660\n",
      "\n"
     ]
    }
   ],
   "source": [
    "# Classification report\n",
    "print('Classification Report')\n",
    "target_names = ['AnnualCrop','Buildup','Forest', 'HerbaceousVegetation', 'Highway', 'Pasture', 'PermanentCrop', 'River', 'SeaLake']\n",
    "classificn_report = classification_report(test_set.classes, y_pred, target_names=target_names)\n",
    "print(classificn_report)\n"
   ]
  },
  {
   "cell_type": "code",
   "execution_count": 17,
   "metadata": {},
   "outputs": [
    {
     "name": "stdout",
     "output_type": "stream",
     "text": [
      "dict_keys(['val_loss', 'val_acc', 'loss', 'acc'])\n"
     ]
    },
    {
     "data": {
      "image/png": "[encoded data removed]",
      "text/plain": [
       "<Figure size 432x288 with 1 Axes>"
      ]
     },
     "metadata": {
      "needs_background": "light"
     },
     "output_type": "display_data"
    },
    {
     "data": {
      "image/png": "[encoded data removed]",
      "text/plain": [
       "<Figure size 432x288 with 1 Axes>"
      ]
     },
     "metadata": {
      "needs_background": "light"
     },
     "output_type": "display_data"
    }
   ],
   "source": [
    "# Plotting the Loss and Classification Accuracy\n",
    "model.metrics_names\n",
    "print(history.history.keys())\n",
    "#  \"Accuracy\"\n",
    "plt.plot(history.history['acc'])\n",
    "plt.plot(history.history['val_acc'])\n",
    "plt.title('Model Accuracy')\n",
    "plt.ylabel('Accuracy')\n",
    "plt.xlabel('Epoch')\n",
    "plt.legend(['train', 'test'], loc='upper left')\n",
    "plt.show()\n",
    "\n",
    "# \"Loss\"\n",
    "plt.plot(history.history['loss'])\n",
    "plt.plot(history.history['val_loss'])\n",
    "plt.title('Model loss')\n",
    "plt.ylabel('Loss')\n",
    "plt.xlabel('Epoch')\n",
    "plt.legend(['train', 'test'], loc='upper left')\n",
    "plt.show()"
   ]
  },
  {
   "cell_type": "code",
   "execution_count": null,
   "metadata": {},
   "outputs": [],
   "source": []
  }
 ],
 "metadata": {
  "kernelspec": {
   "display_name": "tf",
   "language": "python",
   "name": "tf"
  },
  "language_info": {
   "codemirror_mode": {
    "name": "ipython",
    "version": 3
   },
   "file_extension": ".py",
   "mimetype": "text/x-python",
   "name": "python",
   "nbconvert_exporter": "python",
   "pygments_lexer": "ipython3",
   "version": "3.6.6"
  }
 },
 "nbformat": 4,
 "nbformat_minor": 2
}
