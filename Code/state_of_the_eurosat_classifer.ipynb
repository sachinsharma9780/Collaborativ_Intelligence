{
 "cells": [
  {
   "cell_type": "code",
   "execution_count": 39,
   "metadata": {},
   "outputs": [],
   "source": [
    "#Importing necessary libraries \n",
    "import keras\n",
    "import numpy as np\n",
    "import pandas as pd\n",
    "from keras.applications import vgg16, inception_v3, resnet50, mobilenet\n",
    "from keras import models\n",
    "from keras import layers\n",
    "from keras import optimizers\n",
    "import cv2\n",
    "from sklearn.metrics import classification_report, confusion_matrix\n",
    "import matplotlib.pyplot as plt\n",
    "import os\n",
    "from matplotlib import pyplot as plt\n",
    "import numpy as np\n",
    "from PIL import Image"
   ]
  },
  {
   "cell_type": "code",
   "execution_count": 6,
   "metadata": {},
   "outputs": [],
   "source": [
    "# Load the ResNet50 model\n",
    "# Performing Fine Tuning\n",
    "resnet_model = resnet50.ResNet50(weights='imagenet', include_top=False, input_shape=(64, 64, 3))"
   ]
  },
  {
   "cell_type": "code",
   "execution_count": 7,
   "metadata": {},
   "outputs": [
    {
     "name": "stdout",
     "output_type": "stream",
     "text": [
      "<keras.engine.input_layer.InputLayer object at 0x7f0270882a90> False\n",
      "<keras.layers.convolutional.ZeroPadding2D object at 0x7f02708686a0> True\n",
      "<keras.layers.convolutional.Conv2D object at 0x7f0270868400> True\n",
      "<keras.layers.normalization.BatchNormalization object at 0x7f02708647f0> True\n",
      "<keras.layers.core.Activation object at 0x7f0270868358> True\n",
      "<keras.layers.convolutional.ZeroPadding2D object at 0x7f0270f60cf8> True\n",
      "<keras.layers.pooling.MaxPooling2D object at 0x7f0270a09908> True\n",
      "<keras.layers.convolutional.Conv2D object at 0x7f02708614a8> True\n",
      "<keras.layers.normalization.BatchNormalization object at 0x7f02707a39b0> True\n",
      "<keras.layers.core.Activation object at 0x7f02707a3c88> True\n",
      "<keras.layers.convolutional.Conv2D object at 0x7f02707b0e80> True\n",
      "<keras.layers.normalization.BatchNormalization object at 0x7f0270705b70> True\n",
      "<keras.layers.core.Activation object at 0x7f027071b668> True\n",
      "<keras.layers.convolutional.Conv2D object at 0x7f02706bd860> True\n",
      "<keras.layers.convolutional.Conv2D object at 0x7f027061a7b8> True\n",
      "<keras.layers.normalization.BatchNormalization object at 0x7f027061a080> True\n",
      "<keras.layers.normalization.BatchNormalization object at 0x7f0270514908> True\n",
      "<keras.layers.merge.Add object at 0x7f02705147b8> True\n",
      "<keras.layers.core.Activation object at 0x7f02704a3c88> True\n",
      "<keras.layers.convolutional.Conv2D object at 0x7f02704a3da0> True\n",
      "<keras.layers.normalization.BatchNormalization object at 0x7f0270413a90> True\n",
      "<keras.layers.core.Activation object at 0x7f0270387e80> True\n",
      "<keras.layers.convolutional.Conv2D object at 0x7f0270340a20> True\n",
      "<keras.layers.normalization.BatchNormalization object at 0x7f027031a320> True\n",
      "<keras.layers.core.Activation object at 0x7f027031a978> True\n",
      "<keras.layers.convolutional.Conv2D object at 0x7f027024bcf8> True\n",
      "<keras.layers.normalization.BatchNormalization object at 0x7f027022a3c8> True\n",
      "<keras.layers.merge.Add object at 0x7f02701c3940> True\n",
      "<keras.layers.core.Activation object at 0x7f02701ba7f0> True\n",
      "<keras.layers.convolutional.Conv2D object at 0x7f0270106ef0> True\n",
      "<keras.layers.normalization.BatchNormalization object at 0x7f02701245f8> True\n",
      "<keras.layers.core.Activation object at 0x7f02700ebe80> True\n",
      "<keras.layers.convolutional.Conv2D object at 0x7f0270042f60> True\n",
      "<keras.layers.normalization.BatchNormalization object at 0x7f02708ea320> True\n",
      "<keras.layers.core.Activation object at 0x7f02708ea160> True\n",
      "<keras.layers.convolutional.Conv2D object at 0x7f02708b4ba8> True\n",
      "<keras.layers.normalization.BatchNormalization object at 0x7f027b391208> True\n",
      "<keras.layers.merge.Add object at 0x7f027b391ba8> True\n",
      "<keras.layers.core.Activation object at 0x7f02708e06d8> True\n",
      "<keras.layers.convolutional.Conv2D object at 0x7f027092e5f8> True\n",
      "<keras.layers.normalization.BatchNormalization object at 0x7f0270923978> True\n",
      "<keras.layers.core.Activation object at 0x7f027090d2e8> True\n",
      "<keras.layers.convolutional.Conv2D object at 0x7f0270963240> True\n",
      "<keras.layers.normalization.BatchNormalization object at 0x7f027094f320> True\n",
      "<keras.layers.core.Activation object at 0x7f0270944898> True\n",
      "<keras.layers.convolutional.Conv2D object at 0x7f0270986160> True\n",
      "<keras.layers.convolutional.Conv2D object at 0x7f02709d0940> True\n",
      "<keras.layers.normalization.BatchNormalization object at 0x7f02709f1160> True\n",
      "<keras.layers.normalization.BatchNormalization object at 0x7f0270a13400> True\n",
      "<keras.layers.merge.Add object at 0x7f0270a09668> True\n",
      "<keras.layers.core.Activation object at 0x7f0270a5f550> True\n",
      "<keras.layers.convolutional.Conv2D object at 0x7f0270a5f470> True\n",
      "<keras.layers.normalization.BatchNormalization object at 0x7f0270ab4a58> True\n",
      "<keras.layers.core.Activation object at 0x7f0270a94978> True\n",
      "<keras.layers.convolutional.Conv2D object at 0x7f0270aebb00> True\n",
      "<keras.layers.normalization.BatchNormalization object at 0x7f0270acb940> True\n",
      "<keras.layers.core.Activation object at 0x7f0270acb4a8> True\n",
      "<keras.layers.convolutional.Conv2D object at 0x7f0270b0d5c0> True\n",
      "<keras.layers.normalization.BatchNormalization object at 0x7f0270b6dfd0> True\n",
      "<keras.layers.merge.Add object at 0x7f0270b6d400> True\n",
      "<keras.layers.core.Activation object at 0x7f0270bba0b8> True\n",
      "<keras.layers.convolutional.Conv2D object at 0x7f0270bba748> True\n",
      "<keras.layers.normalization.BatchNormalization object at 0x7f0270b902b0> True\n",
      "<keras.layers.core.Activation object at 0x7f0270bf1cf8> True\n",
      "<keras.layers.convolutional.Conv2D object at 0x7f0270bdce48> True\n",
      "<keras.layers.normalization.BatchNormalization object at 0x7f0270c32ac8> True\n",
      "<keras.layers.core.Activation object at 0x7f0270c32048> True\n",
      "<keras.layers.convolutional.Conv2D object at 0x7f0270c78630> True\n",
      "<keras.layers.normalization.BatchNormalization object at 0x7f0270c5bb38> True\n",
      "<keras.layers.merge.Add object at 0x7f0270c5b400> True\n",
      "<keras.layers.core.Activation object at 0x7f0270cac400> True\n",
      "<keras.layers.convolutional.Conv2D object at 0x7f0270c85a90> True\n",
      "<keras.layers.normalization.BatchNormalization object at 0x7f0270cfda20> True\n",
      "<keras.layers.core.Activation object at 0x7f0270ce85f8> True\n",
      "<keras.layers.convolutional.Conv2D object at 0x7f0270cca278> True\n",
      "<keras.layers.normalization.BatchNormalization object at 0x7f0270d2f518> True\n",
      "<keras.layers.core.Activation object at 0x7f0270d25278> True\n",
      "<keras.layers.convolutional.Conv2D object at 0x7f0270d75748> True\n",
      "<keras.layers.normalization.BatchNormalization object at 0x7f0270d569b0> True\n",
      "<keras.layers.merge.Add object at 0x7f0270d4e898> True\n",
      "<keras.layers.core.Activation object at 0x7f0270d89e80> True\n",
      "<keras.layers.convolutional.Conv2D object at 0x7f0270df6400> True\n",
      "<keras.layers.normalization.BatchNormalization object at 0x7f0270dffc50> True\n",
      "<keras.layers.core.Activation object at 0x7f0270de4198> True\n",
      "<keras.layers.convolutional.Conv2D object at 0x7f0270e3c208> True\n",
      "<keras.layers.normalization.BatchNormalization object at 0x7f0270e1fef0> True\n",
      "<keras.layers.core.Activation object at 0x7f0270e1f748> True\n",
      "<keras.layers.convolutional.Conv2D object at 0x7f0270e656d8> True\n",
      "<keras.layers.convolutional.Conv2D object at 0x7f0270e4b668> True\n",
      "<keras.layers.normalization.BatchNormalization object at 0x7f0270e4bdd8> True\n",
      "<keras.layers.normalization.BatchNormalization object at 0x7f0270efc438> True\n",
      "<keras.layers.merge.Add object at 0x7f0270ef4be0> True\n",
      "<keras.layers.core.Activation object at 0x7f0270ecbd68> True\n",
      "<keras.layers.convolutional.Conv2D object at 0x7f0270ecb978> True\n",
      "<keras.layers.normalization.BatchNormalization object at 0x7f0270f1c7f0> True\n",
      "<keras.layers.core.Activation object at 0x7f0270f7edd8> True\n",
      "<keras.layers.convolutional.Conv2D object at 0x7f0270f60780> True\n",
      "<keras.layers.normalization.BatchNormalization object at 0x7f0270f45438> True\n",
      "<keras.layers.core.Activation object at 0x7f0270fbc978> True\n",
      "<keras.layers.convolutional.Conv2D object at 0x7f0270f8a748> True\n",
      "<keras.layers.normalization.BatchNormalization object at 0x7f0270ff0390> True\n",
      "<keras.layers.merge.Add object at 0x7f0270fe6898> True\n",
      "<keras.layers.core.Activation object at 0x7f0271021cf8> True\n",
      "<keras.layers.convolutional.Conv2D object at 0x7f0271018390> True\n",
      "<keras.layers.normalization.BatchNormalization object at 0x7f027100e0b8> True\n",
      "<keras.layers.core.Activation object at 0x7f0271071b38> True\n",
      "<keras.layers.convolutional.Conv2D object at 0x7f0271054828> True\n",
      "<keras.layers.normalization.BatchNormalization object at 0x7f02710aca90> True\n",
      "<keras.layers.core.Activation object at 0x7f02710ac3c8> True\n",
      "<keras.layers.convolutional.Conv2D object at 0x7f02710fd780> True\n",
      "<keras.layers.normalization.BatchNormalization object at 0x7f02710e1978> True\n",
      "<keras.layers.merge.Add object at 0x7f02710e1518> True\n",
      "<keras.layers.core.Activation object at 0x7f027112f518> True\n",
      "<keras.layers.convolutional.Conv2D object at 0x7f027112f400> True\n",
      "<keras.layers.normalization.BatchNormalization object at 0x7f0271109048> True\n",
      "<keras.layers.core.Activation object at 0x7f027116c7f0> True\n",
      "<keras.layers.convolutional.Conv2D object at 0x7f02711445c0> True\n",
      "<keras.layers.normalization.BatchNormalization object at 0x7f02711b2128> True\n",
      "<keras.layers.core.Activation object at 0x7f02711a9438> True\n",
      "<keras.layers.convolutional.Conv2D object at 0x7f02711ee080> True\n",
      "<keras.layers.normalization.BatchNormalization object at 0x7f02711dca58> True\n",
      "<keras.layers.merge.Add object at 0x7f02711d2860> True\n",
      "<keras.layers.core.Activation object at 0x7f02712206a0> True\n",
      "<keras.layers.convolutional.Conv2D object at 0x7f0271220a90> True\n",
      "<keras.layers.normalization.BatchNormalization object at 0x7f027127ad30> True\n",
      "<keras.layers.core.Activation object at 0x7f02712579b0> True\n",
      "<keras.layers.convolutional.Conv2D object at 0x7f0271240748> True\n",
      "<keras.layers.normalization.BatchNormalization object at 0x7f02712a4898> True\n",
      "<keras.layers.core.Activation object at 0x7f027129ad30> True\n",
      "<keras.layers.convolutional.Conv2D object at 0x7f02712eb400> True\n",
      "<keras.layers.normalization.BatchNormalization object at 0x7f02712cd7f0> True\n",
      "<keras.layers.merge.Add object at 0x7f02712c49e8> True\n",
      "<keras.layers.core.Activation object at 0x7f027131ce80> True\n",
      "<keras.layers.convolutional.Conv2D object at 0x7f02713767f0> True\n",
      "<keras.layers.normalization.BatchNormalization object at 0x7f027136d710> True\n",
      "<keras.layers.core.Activation object at 0x7f027135b1d0> True\n",
      "<keras.layers.convolutional.Conv2D object at 0x7f02713b5be0> True\n",
      "<keras.layers.normalization.BatchNormalization object at 0x7f0271398f28> True\n",
      "<keras.layers.core.Activation object at 0x7f02713986d8> True\n",
      "<keras.layers.convolutional.Conv2D object at 0x7f02713dcef0> True\n",
      "<keras.layers.normalization.BatchNormalization object at 0x7f027143fbe0> True\n",
      "<keras.layers.merge.Add object at 0x7f027143f4e0> True\n",
      "<keras.layers.core.Activation object at 0x7f027140e9e8> True\n",
      "<keras.layers.convolutional.Conv2D object at 0x7f027140e8d0> True\n",
      "<keras.layers.normalization.BatchNormalization object at 0x7f0271468a90> True\n",
      "<keras.layers.core.Activation object at 0x7f027ba28fd0> True\n",
      "<keras.layers.convolutional.Conv2D object at 0x7f027b9c9828> True\n",
      "<keras.layers.normalization.BatchNormalization object at 0x7f027b9d8e80> True\n",
      "<keras.layers.core.Activation object at 0x7f027b9e5828> True\n",
      "<keras.layers.convolutional.Conv2D object at 0x7f027b9ad9e8> True\n",
      "<keras.layers.convolutional.Conv2D object at 0x7f027b957e10> True\n",
      "<keras.layers.normalization.BatchNormalization object at 0x7f027b94eb00> True\n",
      "<keras.layers.normalization.BatchNormalization object at 0x7f027b92a390> True\n",
      "<keras.layers.merge.Add object at 0x7f027b934908> True\n",
      "<keras.layers.core.Activation object at 0x7f027b8e9828> True\n",
      "<keras.layers.convolutional.Conv2D object at 0x7f027b8e9940> True\n",
      "<keras.layers.normalization.BatchNormalization object at 0x7f027b8931d0> True\n",
      "<keras.layers.core.Activation object at 0x7f027b8b42e8> True\n",
      "<keras.layers.convolutional.Conv2D object at 0x7f027b8474e0> True\n",
      "<keras.layers.normalization.BatchNormalization object at 0x7f027b804128> True\n",
      "<keras.layers.core.Activation object at 0x7f027b804da0> True\n",
      "<keras.layers.convolutional.Conv2D object at 0x7f027b83a898> True\n",
      "<keras.layers.normalization.BatchNormalization object at 0x7f027b7dada0> True\n",
      "<keras.layers.merge.Add object at 0x7f027b7e48d0> True\n",
      "<keras.layers.core.Activation object at 0x7f027b799358> True\n",
      "<keras.layers.convolutional.Conv2D object at 0x7f027b799438> True\n",
      "<keras.layers.normalization.BatchNormalization object at 0x7f027b74f400> True\n",
      "<keras.layers.core.Activation object at 0x7f027b76aef0> True\n",
      "<keras.layers.convolutional.Conv2D object at 0x7f027b70dc18> True\n",
      "<keras.layers.normalization.BatchNormalization object at 0x7f027b72ccc0> True\n",
      "<keras.layers.core.Activation object at 0x7f027b736128> True\n",
      "<keras.layers.convolutional.Conv2D object at 0x7f027b6f5710> True\n",
      "<keras.layers.normalization.BatchNormalization object at 0x7f027b694e80> True\n",
      "<keras.layers.merge.Add object at 0x7f027b69d390> True\n",
      "<keras.layers.core.Activation object at 0x7f027b6495f8> True\n"
     ]
    }
   ],
   "source": [
    "# checking the trainable status of the individual layers\n",
    "for layer in resnet_model.layers:\n",
    "    print(layer, layer.trainable)"
   ]
  },
  {
   "cell_type": "code",
   "execution_count": 9,
   "metadata": {},
   "outputs": [],
   "source": [
    "# Adding classifier on top pf Convolution model\n",
    "# create model \n",
    "model = models.Sequential()"
   ]
  },
  {
   "cell_type": "code",
   "execution_count": 10,
   "metadata": {},
   "outputs": [],
   "source": [
    "# Add the resnet50 convolutional model\n",
    "model.add(resnet_model)\n",
    "\n",
    "# Adding new Layers\n",
    "model.add(layers.Flatten())\n",
    "model.add(layers.Dense(1024, activation='relu'))\n",
    "model.add(layers.Dropout(0.5))\n",
    "model.add(layers.Dense(10, activation='softmax'))"
   ]
  },
  {
   "cell_type": "code",
   "execution_count": 11,
   "metadata": {},
   "outputs": [
    {
     "name": "stdout",
     "output_type": "stream",
     "text": [
      "_________________________________________________________________\n",
      "Layer (type)                 Output Shape              Param #   \n",
      "=================================================================\n",
      "resnet50 (Model)             (None, 2, 2, 2048)        23587712  \n",
      "_________________________________________________________________\n",
      "flatten_1 (Flatten)          (None, 8192)              0         \n",
      "_________________________________________________________________\n",
      "dense_1 (Dense)              (None, 1024)              8389632   \n",
      "_________________________________________________________________\n",
      "dropout_1 (Dropout)          (None, 1024)              0         \n",
      "_________________________________________________________________\n",
      "dense_2 (Dense)              (None, 10)                10250     \n",
      "=================================================================\n",
      "Total params: 31,987,594\n",
      "Trainable params: 31,934,474\n",
      "Non-trainable params: 53,120\n",
      "_________________________________________________________________\n"
     ]
    }
   ],
   "source": [
    "# summary of model\n",
    "model.summary()"
   ]
  },
  {
   "cell_type": "code",
   "execution_count": 23,
   "metadata": {},
   "outputs": [],
   "source": [
    "# Fitting the CNN to the images(Image Augmentation, Image Preprocessing)\n",
    "from keras.preprocessing.image import ImageDataGenerator\n",
    "train_datagen = ImageDataGenerator( \n",
    "        featurewise_center=True,\n",
    "        featurewise_std_normalization=True,\n",
    "        rotation_range=20,\n",
    "        width_shift_range=0.2,\n",
    "        height_shift_range=0.2,\n",
    "        rescale=1./255,\n",
    "        shear_range=0.2,             \n",
    "        zoom_range=0.2,              \n",
    "        horizontal_flip=True)"
   ]
  },
  {
   "cell_type": "code",
   "execution_count": 24,
   "metadata": {},
   "outputs": [],
   "source": [
    "#Normalizing the test set\n",
    "test_datagen = ImageDataGenerator(rescale=1./255)"
   ]
  },
  {
   "cell_type": "code",
   "execution_count": 25,
   "metadata": {},
   "outputs": [],
   "source": [
    "# setting the path to EuroSat Dataset\n",
    "os.chdir('/home/sachin_sharma/Desktop/eurosat_dataset')"
   ]
  },
  {
   "cell_type": "code",
   "execution_count": 26,
   "metadata": {},
   "outputs": [
    {
     "name": "stdout",
     "output_type": "stream",
     "text": [
      "Found 21000 images belonging to 10 classes.\n"
     ]
    }
   ],
   "source": [
    "# loading training data(80%)\n",
    "training_set = train_datagen.flow_from_directory(\n",
    "        'TrainingSet',\n",
    "         target_size=(64,64),\n",
    "         batch_size=32,\n",
    "         class_mode='categorical')"
   ]
  },
  {
   "cell_type": "code",
   "execution_count": 27,
   "metadata": {},
   "outputs": [
    {
     "name": "stdout",
     "output_type": "stream",
     "text": [
      "Found 6000 images belonging to 10 classes.\n"
     ]
    }
   ],
   "source": [
    "# loading test data(20%)\n",
    "# This will create the Test set\n",
    "test_set = test_datagen.flow_from_directory(\n",
    "        'TestSet',\n",
    "        target_size=(64,64),\n",
    "        batch_size=32,\n",
    "        class_mode='categorical', \n",
    "        shuffle=False)"
   ]
  },
  {
   "cell_type": "code",
   "execution_count": 36,
   "metadata": {},
   "outputs": [
    {
     "name": "stdout",
     "output_type": "stream",
     "text": [
      "Training Data:  (32, 64, 64, 3)\n",
      "Test Data:  (32, 64, 64, 3)\n"
     ]
    }
   ],
   "source": [
    "# lets dettermine dataset characteristics\n",
    "print('Training Data: ',training_set[0][0].shape)\n",
    "print('Test Data: ',test_set[0][0].shape)"
   ]
  },
  {
   "cell_type": "code",
   "execution_count": 38,
   "metadata": {},
   "outputs": [
    {
     "name": "stdout",
     "output_type": "stream",
     "text": [
      "Shape of single image: (64, 64, 3)\n"
     ]
    }
   ],
   "source": [
    "# now shape of single image\n",
    "print('Shape of single image:', training_set[0][0][0].shape)"
   ]
  },
  {
   "cell_type": "code",
   "execution_count": null,
   "metadata": {},
   "outputs": [],
   "source": []
  }
 ],
 "metadata": {
  "kernelspec": {
   "display_name": "tf",
   "language": "python",
   "name": "tf"
  },
  "language_info": {
   "codemirror_mode": {
    "name": "ipython",
    "version": 3
   },
   "file_extension": ".py",
   "mimetype": "text/x-python",
   "name": "python",
   "nbconvert_exporter": "python",
   "pygments_lexer": "ipython3",
   "version": "3.6.6"
  }
 },
 "nbformat": 4,
 "nbformat_minor": 2
}
