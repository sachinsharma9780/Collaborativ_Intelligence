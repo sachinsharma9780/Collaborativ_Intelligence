{
 "cells": [
  {
   "cell_type": "code",
   "execution_count": 1,
   "metadata": {},
   "outputs": [
    {
     "name": "stderr",
     "output_type": "stream",
     "text": [
      "Using TensorFlow backend.\n"
     ]
    }
   ],
   "source": [
    "#Importing necessary libraries \n",
    "import keras\n",
    "import numpy as np\n",
    "import pandas as pd\n",
    "from keras.applications import vgg16, inception_v3, resnet50, mobilenet\n",
    "from keras import models\n",
    "from keras import layers\n",
    "from keras import optimizers\n",
    "import cv2\n",
    "from sklearn.metrics import classification_report, confusion_matrix\n",
    "import matplotlib.pyplot as plt\n",
    "import os"
   ]
  },
  {
   "cell_type": "code",
   "execution_count": 2,
   "metadata": {},
   "outputs": [
    {
     "name": "stderr",
     "output_type": "stream",
     "text": [
      "/home/sachin_sharma/.conda/envs/tf18/lib/python3.6/site-packages/keras_applications/resnet50.py:265: UserWarning: The output shape of `ResNet50(include_top=False)` has been changed since Keras 2.2.0.\n",
      "  warnings.warn('The output shape of `ResNet50(include_top=False)` '\n"
     ]
    }
   ],
   "source": [
    "#Load the ResNet50 model\n",
    "resnet_model = resnet50.ResNet50(weights='imagenet', include_top=False, input_shape=(64, 64, 3))"
   ]
  },
  {
   "cell_type": "code",
   "execution_count": 4,
   "metadata": {},
   "outputs": [
    {
     "name": "stdout",
     "output_type": "stream",
     "text": [
      "<keras.engine.input_layer.InputLayer object at 0x7fa0b4ce4f60> False\n",
      "<keras.layers.convolutional.ZeroPadding2D object at 0x7fa0b4d04898> True\n",
      "<keras.layers.convolutional.Conv2D object at 0x7fa0b4d04588> True\n",
      "<keras.layers.normalization.BatchNormalization object at 0x7fa0b4d04da0> True\n",
      "<keras.layers.core.Activation object at 0x7fa0b4d04be0> True\n",
      "<keras.layers.convolutional.ZeroPadding2D object at 0x7fa0b4c6ab38> True\n",
      "<keras.layers.pooling.MaxPooling2D object at 0x7fa0b4c6a320> True\n",
      "<keras.layers.convolutional.Conv2D object at 0x7fa0b4394a58> True\n",
      "<keras.layers.normalization.BatchNormalization object at 0x7fa0b42bd668> True\n",
      "<keras.layers.core.Activation object at 0x7fa0b42bdf98> True\n",
      "<keras.layers.convolutional.Conv2D object at 0x7fa0b42dbe80> True\n",
      "<keras.layers.normalization.BatchNormalization object at 0x7fa0b42aa898> True\n",
      "<keras.layers.core.Activation object at 0x7fa0b4244470> True\n",
      "<keras.layers.convolutional.Conv2D object at 0x7fa0b43dadd8> True\n",
      "<keras.layers.convolutional.Conv2D object at 0x7fa0b4159400> True\n",
      "<keras.layers.normalization.BatchNormalization object at 0x7fa0b4141908> True\n",
      "<keras.layers.normalization.BatchNormalization object at 0x7fa0b4044fd0> True\n",
      "<keras.layers.merge.Add object at 0x7fa0b4068940> True\n",
      "<keras.layers.core.Activation object at 0x7fa0ac775550> True\n",
      "<keras.layers.convolutional.Conv2D object at 0x7fa0ac71cc18> True\n",
      "<keras.layers.normalization.BatchNormalization object at 0x7fa0ac6bd908> True\n",
      "<keras.layers.core.Activation object at 0x7fa0ac688ac8> True\n",
      "<keras.layers.convolutional.Conv2D object at 0x7fa0ac672470> True\n",
      "<keras.layers.normalization.BatchNormalization object at 0x7fa0ac638ef0> True\n",
      "<keras.layers.core.Activation object at 0x7fa0ac5d9828> True\n",
      "<keras.layers.convolutional.Conv2D object at 0x7fa0ac50ab38> True\n",
      "<keras.layers.normalization.BatchNormalization object at 0x7fa0ac4ee4e0> True\n",
      "<keras.layers.merge.Add object at 0x7fa0ac4eedd8> True\n",
      "<keras.layers.core.Activation object at 0x7fa0ac3cd400> True\n",
      "<keras.layers.convolutional.Conv2D object at 0x7fa0ac37bac8> True\n",
      "<keras.layers.normalization.BatchNormalization object at 0x7fa0ac395668> True\n",
      "<keras.layers.core.Activation object at 0x7fa0ac360978> True\n",
      "<keras.layers.convolutional.Conv2D object at 0x7fa0ac2c7ba8> True\n",
      "<keras.layers.normalization.BatchNormalization object at 0x7fa0ac2aa550> True\n",
      "<keras.layers.core.Activation object at 0x7fa0ac2aaa20> True\n",
      "<keras.layers.convolutional.Conv2D object at 0x7fa0ac1d6e80> True\n",
      "<keras.layers.normalization.BatchNormalization object at 0x7fa0ac13bc18> True\n",
      "<keras.layers.merge.Add object at 0x7fa0ac154630> True\n",
      "<keras.layers.core.Activation object at 0x7fa0ac0efba8> True\n",
      "<keras.layers.convolutional.Conv2D object at 0x7fa0ac0efcc0> True\n",
      "<keras.layers.normalization.BatchNormalization object at 0x7fa0ac067d30> True\n",
      "<keras.layers.core.Activation object at 0x7fa0a47a03c8> True\n",
      "<keras.layers.convolutional.Conv2D object at 0x7fa0a4750a58> True\n",
      "<keras.layers.normalization.BatchNormalization object at 0x7fa0a4733c88> True\n",
      "<keras.layers.core.Activation object at 0x7fa0a46cb6a0> True\n",
      "<keras.layers.convolutional.Conv2D object at 0x7fa0a45fa9e8> True\n",
      "<keras.layers.convolutional.Conv2D object at 0x7fa0a45d9c18> True\n",
      "<keras.layers.normalization.BatchNormalization object at 0x7fa0a45d9390> True\n",
      "<keras.layers.normalization.BatchNormalization object at 0x7fa0a4487470> True\n",
      "<keras.layers.merge.Add object at 0x7fa0a44eeef0> True\n",
      "<keras.layers.core.Activation object at 0x7fa0a44128d0> True\n",
      "<keras.layers.convolutional.Conv2D object at 0x7fa0a4412f28> True\n",
      "<keras.layers.normalization.BatchNormalization object at 0x7fa0a43a82b0> True\n",
      "<keras.layers.core.Activation object at 0x7fa0a4374588> True\n",
      "<keras.layers.convolutional.Conv2D object at 0x7fa0a42c7908> True\n",
      "<keras.layers.normalization.BatchNormalization object at 0x7fa0a42ad898> True\n",
      "<keras.layers.core.Activation object at 0x7fa0a424a2b0> True\n",
      "<keras.layers.convolutional.Conv2D object at 0x7fa0a41ef5f8> True\n",
      "<keras.layers.normalization.BatchNormalization object at 0x7fa0a4159198> True\n",
      "<keras.layers.merge.Add object at 0x7fa0a41597b8> True\n",
      "<keras.layers.core.Activation object at 0x7fa0a40f3d68> True\n",
      "<keras.layers.convolutional.Conv2D object at 0x7fa0a40f3da0> True\n",
      "<keras.layers.normalization.BatchNormalization object at 0x7fa0a406b710> True\n",
      "<keras.layers.core.Activation object at 0x7fa080799438> True\n",
      "<keras.layers.convolutional.Conv2D object at 0x7fa08076d668> True\n",
      "<keras.layers.normalization.BatchNormalization object at 0x7fa0806d6208> True\n",
      "<keras.layers.core.Activation object at 0x7fa0806d6a20> True\n",
      "<keras.layers.convolutional.Conv2D object at 0x7fa080604d30> True\n",
      "<keras.layers.normalization.BatchNormalization object at 0x7fa0805ea6d8> True\n",
      "<keras.layers.merge.Add object at 0x7fa0805ea780> True\n",
      "<keras.layers.core.Activation object at 0x7fa080519b70> True\n",
      "<keras.layers.convolutional.Conv2D object at 0x7fa0804f0cc0> True\n",
      "<keras.layers.normalization.BatchNormalization object at 0x7fa0804939b0> True\n",
      "<keras.layers.core.Activation object at 0x7fa080462b70> True\n",
      "<keras.layers.convolutional.Conv2D object at 0x7fa0803be518> True\n",
      "<keras.layers.normalization.BatchNormalization object at 0x7fa0803a4668> True\n",
      "<keras.layers.core.Activation object at 0x7fa0803a4c18> True\n",
      "<keras.layers.convolutional.Conv2D object at 0x7fa0802e54a8> True\n",
      "<keras.layers.normalization.BatchNormalization object at 0x7fa0802aaef0> True\n",
      "<keras.layers.merge.Add object at 0x7fa08024b668> True\n",
      "<keras.layers.core.Activation object at 0x7fa0801eaba8> True\n",
      "<keras.layers.convolutional.Conv2D object at 0x7fa0801eaeb8> True\n",
      "<keras.layers.normalization.BatchNormalization object at 0x7fa080163fd0> True\n",
      "<keras.layers.core.Activation object at 0x7fa0800da5c0> True\n",
      "<keras.layers.convolutional.Conv2D object at 0x7fa08009f518> True\n",
      "<keras.layers.normalization.BatchNormalization object at 0x7fa080064f28> True\n",
      "<keras.layers.core.Activation object at 0x7fa0647c65f8> True\n",
      "<keras.layers.convolutional.Conv2D object at 0x7fa06477abe0> True\n",
      "<keras.layers.convolutional.Conv2D object at 0x7fa0646dea58> True\n",
      "<keras.layers.normalization.BatchNormalization object at 0x7fa0646de588> True\n",
      "<keras.layers.normalization.BatchNormalization object at 0x7fa064582668> True\n",
      "<keras.layers.merge.Add object at 0x7fa0645e8f60> True\n",
      "<keras.layers.core.Activation object at 0x7fa064522ba8> True\n",
      "<keras.layers.convolutional.Conv2D object at 0x7fa064481eb8> True\n",
      "<keras.layers.normalization.BatchNormalization object at 0x7fa0644a49e8> True\n",
      "<keras.layers.core.Activation object at 0x7fa064424da0> True\n",
      "<keras.layers.convolutional.Conv2D object at 0x7fa0643e2940> True\n",
      "<keras.layers.normalization.BatchNormalization object at 0x7fa064345208> True\n",
      "<keras.layers.core.Activation object at 0x7fa064345b00> True\n",
      "<keras.layers.convolutional.Conv2D object at 0x7fa0642e45c0> True\n",
      "<keras.layers.normalization.BatchNormalization object at 0x7fa0642539b0> True\n",
      "<keras.layers.merge.Add object at 0x7fa064274668> True\n",
      "<keras.layers.core.Activation object at 0x7fa06418d940> True\n",
      "<keras.layers.convolutional.Conv2D object at 0x7fa06418da58> True\n",
      "<keras.layers.normalization.BatchNormalization object at 0x7fa064105ac8> True\n",
      "<keras.layers.core.Activation object at 0x7fa064081550> True\n",
      "<keras.layers.convolutional.Conv2D object at 0x7fa0640464a8> True\n",
      "<keras.layers.normalization.BatchNormalization object at 0x7fa0547ccef0> True\n",
      "<keras.layers.core.Activation object at 0x7fa0547ed668> True\n",
      "<keras.layers.convolutional.Conv2D object at 0x7fa054722b70> True\n",
      "<keras.layers.normalization.BatchNormalization object at 0x7fa054686518> True\n",
      "<keras.layers.merge.Add object at 0x7fa0546869e8> True\n",
      "<keras.layers.core.Activation object at 0x7fa0545e4470> True\n",
      "<keras.layers.convolutional.Conv2D object at 0x7fa05458eb00> True\n",
      "<keras.layers.normalization.BatchNormalization object at 0x7fa0545a97f0> True\n",
      "<keras.layers.core.Activation object at 0x7fa054579f60> True\n",
      "<keras.layers.convolutional.Conv2D object at 0x7fa0544f46d8> True\n",
      "<keras.layers.normalization.BatchNormalization object at 0x7fa0544ba978> True\n",
      "<keras.layers.core.Activation object at 0x7fa05445b630> True\n",
      "<keras.layers.convolutional.Conv2D object at 0x7fa0543816d8> True\n",
      "<keras.layers.normalization.BatchNormalization object at 0x7fa05436a1d0> True\n",
      "<keras.layers.merge.Add object at 0x7fa05436a898> True\n",
      "<keras.layers.core.Activation object at 0x7fa054283cf8> True\n",
      "<keras.layers.convolutional.Conv2D object at 0x7fa054283e10> True\n",
      "<keras.layers.normalization.BatchNormalization object at 0x7fa0541dc0f0> True\n",
      "<keras.layers.core.Activation object at 0x7fa0541dc748> True\n",
      "<keras.layers.convolutional.Conv2D object at 0x7fa054145b38> True\n",
      "<keras.layers.normalization.BatchNormalization object at 0x7fa0541284e0> True\n",
      "<keras.layers.core.Activation object at 0x7fa054128dd8> True\n",
      "<keras.layers.convolutional.Conv2D object at 0x7fa05406a940> True\n",
      "<keras.layers.normalization.BatchNormalization object at 0x7f9d9b44fba8> True\n",
      "<keras.layers.merge.Add object at 0x7f9d9b3ed5c0> True\n",
      "<keras.layers.core.Activation object at 0x7f9d9b389b38> True\n",
      "<keras.layers.convolutional.Conv2D object at 0x7f9d9b389c50> True\n",
      "<keras.layers.normalization.BatchNormalization object at 0x7f9d9b2ffcc0> True\n",
      "<keras.layers.core.Activation object at 0x7f9d9b26a748> True\n",
      "<keras.layers.convolutional.Conv2D object at 0x7f9d9b2436a0> True\n",
      "<keras.layers.normalization.BatchNormalization object at 0x7f9d9b1ac208> True\n",
      "<keras.layers.core.Activation object at 0x7f9d9b1ac860> True\n",
      "<keras.layers.convolutional.Conv2D object at 0x7f9d9b156e48> True\n",
      "<keras.layers.normalization.BatchNormalization object at 0x7f9d9b0bf630> True\n",
      "<keras.layers.merge.Add object at 0x7f9d9b0bfbe0> True\n",
      "<keras.layers.core.Activation object at 0x7f9d9afeeba8> True\n",
      "<keras.layers.convolutional.Conv2D object at 0x7f9d9afc3eb8> True\n",
      "<keras.layers.normalization.BatchNormalization object at 0x7f9d9af679e8> True\n",
      "<keras.layers.core.Activation object at 0x7f9d9aee7da0> True\n",
      "<keras.layers.convolutional.Conv2D object at 0x7f9d9aeac908> True\n",
      "<keras.layers.normalization.BatchNormalization object at 0x7f9d9ae77b70> True\n",
      "<keras.layers.core.Activation object at 0x7f9d9ae92588> True\n",
      "<keras.layers.convolutional.Conv2D object at 0x7f9d9adc08d0> True\n",
      "<keras.layers.convolutional.Conv2D object at 0x7f9d9ad25a90> True\n",
      "<keras.layers.normalization.BatchNormalization object at 0x7f9d9ad25198> True\n",
      "<keras.layers.normalization.BatchNormalization object at 0x7f9d9ac54358> True\n",
      "<keras.layers.merge.Add object at 0x7f9d9ac3bdd8> True\n",
      "<keras.layers.core.Activation object at 0x7f9d9ab290b8> True\n",
      "<keras.layers.convolutional.Conv2D object at 0x7f9d9ab519b0> True\n",
      "<keras.layers.normalization.BatchNormalization object at 0x7f9d9aaed6a0> True\n",
      "<keras.layers.core.Activation object at 0x7f9d9aabfc50> True\n",
      "<keras.layers.convolutional.Conv2D object at 0x7fa0cbedefd0> True\n",
      "<keras.layers.normalization.BatchNormalization object at 0x7f9d9a9f0f60> True\n",
      "<keras.layers.core.Activation object at 0x7f9d9aa12898> True\n",
      "<keras.layers.convolutional.Conv2D object at 0x7f9d9a938c18> True\n",
      "<keras.layers.normalization.BatchNormalization object at 0x7f9d9a89d588> True\n",
      "<keras.layers.merge.Add object at 0x7f9d9a89d630> True\n",
      "<keras.layers.core.Activation object at 0x7f9d9a7f94e0> True\n",
      "<keras.layers.convolutional.Conv2D object at 0x7f9d9a7a0be0> True\n",
      "<keras.layers.normalization.BatchNormalization object at 0x7f9d9a7c21d0> True\n",
      "<keras.layers.core.Activation object at 0x7f9d9a78fe10> True\n",
      "<keras.layers.convolutional.Conv2D object at 0x7f9d9a70a550> True\n",
      "<keras.layers.normalization.BatchNormalization object at 0x7f9d9a6d1a20> True\n",
      "<keras.layers.core.Activation object at 0x7f9d9a66b6d8> True\n",
      "<keras.layers.convolutional.Conv2D object at 0x7f9d9a618780> True\n",
      "<keras.layers.normalization.BatchNormalization object at 0x7f9d9a581048> True\n",
      "<keras.layers.merge.Add object at 0x7f9d9a581940> True\n",
      "<keras.layers.core.Activation object at 0x7f9d9a515e10> True\n"
     ]
    }
   ],
   "source": [
    "# Checking the trainable status of the individual layers\n",
    "for layer in resnet_model.layers:\n",
    "    print(layer, layer.trainable)"
   ]
  },
  {
   "cell_type": "code",
   "execution_count": 5,
   "metadata": {},
   "outputs": [],
   "source": [
    "# Adding classifier on top of Convolutional base\n",
    "# create the model\n",
    "model = models.Sequential()"
   ]
  },
  {
   "cell_type": "code",
   "execution_count": 6,
   "metadata": {},
   "outputs": [],
   "source": [
    "# Add the resnet50 convolutional model\n",
    "model.add(resnet_model)\n",
    "\n",
    "# Adding new Layers\n",
    "model.add(layers.Flatten())\n",
    "model.add(layers.Dense(1024, activation='relu'))\n",
    "model.add(layers.Dropout(0.5))\n",
    "model.add(layers.Dense(9, activation='softmax'))\n"
   ]
  },
  {
   "cell_type": "code",
   "execution_count": 7,
   "metadata": {},
   "outputs": [
    {
     "name": "stdout",
     "output_type": "stream",
     "text": [
      "_________________________________________________________________\n",
      "Layer (type)                 Output Shape              Param #   \n",
      "=================================================================\n",
      "resnet50 (Model)             (None, 2, 2, 2048)        23587712  \n",
      "_________________________________________________________________\n",
      "flatten_1 (Flatten)          (None, 8192)              0         \n",
      "_________________________________________________________________\n",
      "dense_1 (Dense)              (None, 1024)              8389632   \n",
      "_________________________________________________________________\n",
      "dropout_1 (Dropout)          (None, 1024)              0         \n",
      "_________________________________________________________________\n",
      "dense_2 (Dense)              (None, 9)                 9225      \n",
      "=================================================================\n",
      "Total params: 31,986,569\n",
      "Trainable params: 31,933,449\n",
      "Non-trainable params: 53,120\n",
      "_________________________________________________________________\n"
     ]
    }
   ],
   "source": [
    "# Showing summary of model\n",
    "model.summary()\n"
   ]
  },
  {
   "cell_type": "code",
   "execution_count": 8,
   "metadata": {},
   "outputs": [],
   "source": [
    "# Fitting the CNN to the images(Image Augmentation, Image Preprocessing)\n",
    "from keras.preprocessing.image import ImageDataGenerator\n",
    "train_datagen = ImageDataGenerator(  \n",
    "        rescale=1./255,\n",
    "        shear_range=0.2,             \n",
    "        zoom_range=0.2,              \n",
    "        horizontal_flip=True)\n"
   ]
  },
  {
   "cell_type": "code",
   "execution_count": 9,
   "metadata": {},
   "outputs": [],
   "source": [
    "# Normalizing the test set\n",
    "test_datagen = ImageDataGenerator(rescale=1./255)"
   ]
  },
  {
   "cell_type": "code",
   "execution_count": 10,
   "metadata": {},
   "outputs": [],
   "source": [
    "# setting the path to training and test set\n",
    "os.chdir('/home/sachin_sharma/Desktop/jpg_data')"
   ]
  },
  {
   "cell_type": "code",
   "execution_count": 11,
   "metadata": {},
   "outputs": [
    {
     "name": "stdout",
     "output_type": "stream",
     "text": [
      "Found 20140 images belonging to 9 classes.\n"
     ]
    }
   ],
   "source": [
    "# This will create 80:20 split of training and test set \n",
    "training_set = train_datagen.flow_from_directory(\n",
    "        'TrainingSet',\n",
    "         target_size=(64,64),\n",
    "         batch_size=32,\n",
    "         class_mode='categorical')"
   ]
  },
  {
   "cell_type": "code",
   "execution_count": 12,
   "metadata": {},
   "outputs": [
    {
     "name": "stdout",
     "output_type": "stream",
     "text": [
      "Found 5660 images belonging to 9 classes.\n"
     ]
    }
   ],
   "source": [
    "# This will create the Test set\n",
    "test_set = test_datagen.flow_from_directory(\n",
    "        'TestSet',\n",
    "        target_size=(64,64),\n",
    "        batch_size=32,\n",
    "        class_mode='categorical', \n",
    "        shuffle=False)"
   ]
  },
  {
   "cell_type": "code",
   "execution_count": 13,
   "metadata": {},
   "outputs": [],
   "source": [
    "# Compile the model\n",
    "model.compile(loss='categorical_crossentropy',\n",
    "              optimizer=optimizers.RMSprop(lr=1e-4),\n",
    "              metrics=['acc'])\n"
   ]
  },
  {
   "cell_type": "code",
   "execution_count": 14,
   "metadata": {},
   "outputs": [
    {
     "name": "stdout",
     "output_type": "stream",
     "text": [
      "Epoch 1/15\n",
      "630/629 [==============================] - 46s 73ms/step - loss: 0.4657 - acc: 0.8705 - val_loss: 0.2416 - val_acc: 0.9465\n",
      "Epoch 2/15\n",
      "630/629 [==============================] - 40s 63ms/step - loss: 0.2731 - acc: 0.9319 - val_loss: 0.2602 - val_acc: 0.9535\n",
      "Epoch 3/15\n",
      "630/629 [==============================] - 40s 64ms/step - loss: 0.2199 - acc: 0.9429 - val_loss: 0.4624 - val_acc: 0.9021\n",
      "Epoch 4/15\n",
      "630/629 [==============================] - 40s 64ms/step - loss: 0.2189 - acc: 0.9492 - val_loss: 1.3513 - val_acc: 0.8394\n",
      "Epoch 5/15\n",
      "630/629 [==============================] - 40s 64ms/step - loss: 0.1673 - acc: 0.9576 - val_loss: 1.1552 - val_acc: 0.8769\n",
      "Epoch 6/15\n",
      "630/629 [==============================] - 40s 64ms/step - loss: 0.2015 - acc: 0.9593 - val_loss: 0.1912 - val_acc: 0.9604\n",
      "Epoch 7/15\n",
      "630/629 [==============================] - 41s 66ms/step - loss: 0.1738 - acc: 0.9617 - val_loss: 0.9895 - val_acc: 0.9004\n",
      "Epoch 8/15\n",
      "630/629 [==============================] - 41s 65ms/step - loss: 0.1550 - acc: 0.9670 - val_loss: 0.5679 - val_acc: 0.9403\n",
      "Epoch 9/15\n",
      "630/629 [==============================] - 41s 66ms/step - loss: 0.1868 - acc: 0.9658 - val_loss: 2.6314 - val_acc: 0.7551\n",
      "Epoch 10/15\n",
      "630/629 [==============================] - 41s 66ms/step - loss: 0.1531 - acc: 0.9671 - val_loss: 0.4475 - val_acc: 0.9436\n",
      "Epoch 11/15\n",
      "630/629 [==============================] - 41s 65ms/step - loss: 0.2032 - acc: 0.9646 - val_loss: 0.1417 - val_acc: 0.9708\n",
      "Epoch 12/15\n",
      "630/629 [==============================] - 41s 65ms/step - loss: 0.1292 - acc: 0.9709 - val_loss: 1.1904 - val_acc: 0.8952\n",
      "Epoch 13/15\n",
      "630/629 [==============================] - 41s 65ms/step - loss: 0.1620 - acc: 0.9692 - val_loss: 0.1239 - val_acc: 0.9717\n",
      "Epoch 14/15\n",
      "630/629 [==============================] - 42s 66ms/step - loss: 0.1204 - acc: 0.9727 - val_loss: 0.2830 - val_acc: 0.9436\n",
      "Epoch 15/15\n",
      "630/629 [==============================] - 40s 64ms/step - loss: 0.1263 - acc: 0.9744 - val_loss: 0.1580 - val_acc: 0.9655\n"
     ]
    }
   ],
   "source": [
    "# Train the model\n",
    "history = model.fit_generator(\n",
    "          training_set, \n",
    "          steps_per_epoch=(training_set.samples/32),\n",
    "          epochs=15,\n",
    "          validation_data=test_set,\n",
    "          validation_steps=(test_set.samples/32))"
   ]
  },
  {
   "cell_type": "code",
   "execution_count": 15,
   "metadata": {},
   "outputs": [],
   "source": [
    "# saving the model\n",
    "model.save('ci_a_1.h5')"
   ]
  },
  {
   "cell_type": "code",
   "execution_count": 16,
   "metadata": {},
   "outputs": [
    {
     "data": {
      "text/plain": [
       "{'AnnualCrop': 0,\n",
       " 'Buildup': 1,\n",
       " 'Forest': 2,\n",
       " 'HerbaceousVegetation': 3,\n",
       " 'Highway': 4,\n",
       " 'Pasture': 5,\n",
       " 'PermanentCrop': 6,\n",
       " 'River': 7,\n",
       " 'SeaLake': 8}"
      ]
     },
     "execution_count": 16,
     "metadata": {},
     "output_type": "execute_result"
    }
   ],
   "source": [
    "# Visualizing the mapping between labels\n",
    "training_set.class_indices\n"
   ]
  },
  {
   "cell_type": "code",
   "execution_count": 17,
   "metadata": {},
   "outputs": [
    {
     "name": "stdout",
     "output_type": "stream",
     "text": [
      "Confusion Matrix\n",
      "                      AnnualCrop  Buildup  Forest  HerbaceousVegetation  \\\n",
      "AnnualCrop                   577        0       4                     0   \n",
      "Buildup                        0      857       0                     1   \n",
      "Forest                         0        0     598                     0   \n",
      "HerbaceousVegetation           3        1      11                   532   \n",
      "Highway                        1        3       0                     0   \n",
      "Pasture                        2        0      14                     5   \n",
      "PermanentCrop                  7        1       3                    13   \n",
      "River                          0        0       0                     0   \n",
      "SeaLake                        3        0       3                     0   \n",
      "\n",
      "                      Highway  Pasture  PermanentCrop  River  SeaLake  \n",
      "AnnualCrop                  0        6              7      4        2  \n",
      "Buildup                     0        0              1      1        0  \n",
      "Forest                      0        0              0      2        0  \n",
      "HerbaceousVegetation        3       12             37      1        0  \n",
      "Highway                   578        0              5     13        0  \n",
      "Pasture                     0      561             10      6        2  \n",
      "PermanentCrop               1        0            573      2        0  \n",
      "River                       4        0              0    595        1  \n",
      "SeaLake                     0        0              0      0      594  \n"
     ]
    }
   ],
   "source": [
    "# Confusion Matrix and Classification report\n",
    "Y_pred = model.predict_generator(test_set, test_set.samples//32 +1 )\n",
    "y_pred = np.argmax(Y_pred, axis=1)\n",
    "print('Confusion Matrix')\n",
    "cm = confusion_matrix(test_set.classes, y_pred)\n",
    "#print(cm)\n",
    "\n",
    "def cm2df(cm, labels):\n",
    "    df = pd.DataFrame()\n",
    "    # rows\n",
    "    for i, row_label in enumerate(labels):\n",
    "        rowdata={}\n",
    "        # columns\n",
    "        for j, col_label in enumerate(labels): \n",
    "            rowdata[col_label]=cm[i,j]\n",
    "        df = df.append(pd.DataFrame.from_dict({row_label:rowdata}, orient='index'))\n",
    "    return df[labels]\n",
    "\n",
    "df = cm2df(cm, [\"AnnualCrop\", \"Buildup\", \"Forest\", \"HerbaceousVegetation\", \"Highway\", \"Pasture\", \"PermanentCrop\", \"River\", \"SeaLake\"])\n",
    "print(df)\n"
   ]
  },
  {
   "cell_type": "code",
   "execution_count": 18,
   "metadata": {},
   "outputs": [
    {
     "name": "stdout",
     "output_type": "stream",
     "text": [
      "Classification Report\n",
      "                      precision    recall  f1-score   support\n",
      "\n",
      "          AnnualCrop       0.97      0.96      0.97       600\n",
      "             Buildup       0.99      1.00      1.00       860\n",
      "              Forest       0.94      1.00      0.97       600\n",
      "HerbaceousVegetation       0.97      0.89      0.92       600\n",
      "             Highway       0.99      0.96      0.97       600\n",
      "             Pasture       0.97      0.94      0.95       600\n",
      "       PermanentCrop       0.91      0.95      0.93       600\n",
      "               River       0.95      0.99      0.97       600\n",
      "             SeaLake       0.99      0.99      0.99       600\n",
      "\n",
      "           micro avg       0.97      0.97      0.97      5660\n",
      "           macro avg       0.96      0.96      0.96      5660\n",
      "        weighted avg       0.97      0.97      0.97      5660\n",
      "\n"
     ]
    }
   ],
   "source": [
    "print('Classification Report')\n",
    "target_names = ['AnnualCrop','Buildup','Forest', 'HerbaceousVegetation', 'Highway', 'Pasture', 'PermanentCrop', 'River', 'SeaLake']\n",
    "classifcn_report = classification_report(test_set.classes, y_pred, target_names=target_names)\n",
    "print(classifcn_report)"
   ]
  },
  {
   "cell_type": "code",
   "execution_count": 19,
   "metadata": {},
   "outputs": [
    {
     "name": "stdout",
     "output_type": "stream",
     "text": [
      "dict_keys(['val_loss', 'val_acc', 'loss', 'acc'])\n"
     ]
    },
    {
     "data": {
      "image/png": "[encoded data removed]",
      "text/plain": [
       "<Figure size 432x288 with 1 Axes>"
      ]
     },
     "metadata": {
      "needs_background": "light"
     },
     "output_type": "display_data"
    }
   ],
   "source": [
    "# Plotting the Loss and Classification Accuracy\n",
    "model.metrics_names\n",
    "print(history.history.keys())\n",
    "#  \"Accuracy\"\n",
    "plt.plot(history.history['acc'])\n",
    "plt.plot(history.history['val_acc'])\n",
    "plt.title('Model Accuracy')\n",
    "plt.ylabel('Accuracy')\n",
    "plt.xlabel('Epoch')\n",
    "plt.legend(['train', 'test'], loc='upper left')\n",
    "plt.show()\n"
   ]
  },
  {
   "cell_type": "code",
   "execution_count": 20,
   "metadata": {},
   "outputs": [
    {
     "data": {
      "image/png": "[encoded data removed]",
      "text/plain": [
       "<Figure size 432x288 with 1 Axes>"
      ]
     },
     "metadata": {
      "needs_background": "light"
     },
     "output_type": "display_data"
    }
   ],
   "source": [
    "# \"Loss\"\n",
    "plt.plot(history.history['loss'])\n",
    "plt.plot(history.history['val_loss'])\n",
    "plt.title('Model loss')\n",
    "plt.ylabel('Loss')\n",
    "plt.xlabel('Epoch')\n",
    "plt.legend(['train', 'test'], loc='upper left')\n",
    "plt.show()"
   ]
  }
 ],
 "metadata": {
  "kernelspec": {
   "display_name": "tf",
   "language": "python",
   "name": "tf"
  },
  "language_info": {
   "codemirror_mode": {
    "name": "ipython",
    "version": 3
   },
   "file_extension": ".py",
   "mimetype": "text/x-python",
   "name": "python",
   "nbconvert_exporter": "python",
   "pygments_lexer": "ipython3",
   "version": "3.6.6"
  }
 },
 "nbformat": 4,
 "nbformat_minor": 2
}
