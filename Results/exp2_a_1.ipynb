{
 "cells": [
  {
   "cell_type": "code",
   "execution_count": 7,
   "metadata": {},
   "outputs": [],
   "source": [
    "#Importing necessary libraries \n",
    "import keras\n",
    "import numpy as np\n",
    "import pandas as pd\n",
    "from keras.applications import vgg16, inception_v3, resnet50, mobilenet\n",
    "from keras import models\n",
    "from keras import layers\n",
    "from keras import optimizers\n",
    "import cv2\n",
    "from sklearn.metrics import classification_report, confusion_matrix\n",
    "import matplotlib.pyplot as plt\n",
    "import os"
   ]
  },
  {
   "cell_type": "code",
   "execution_count": 8,
   "metadata": {},
   "outputs": [],
   "source": [
    "#Load the ResNet50 model\n",
    "resnet_model = resnet50.ResNet50(weights='imagenet', include_top=False, input_shape=(64, 64, 3))"
   ]
  },
  {
   "cell_type": "code",
   "execution_count": 9,
   "metadata": {},
   "outputs": [
    {
     "name": "stdout",
     "output_type": "stream",
     "text": [
      "<keras.engine.input_layer.InputLayer object at 0x7f4b36f3d400> False\n",
      "<keras.layers.convolutional.ZeroPadding2D object at 0x7f4b36f3d2b0> True\n",
      "<keras.layers.convolutional.Conv2D object at 0x7f4b3c617d30> True\n",
      "<keras.layers.normalization.BatchNormalization object at 0x7f4b0da8e6a0> True\n",
      "<keras.layers.core.Activation object at 0x7f4ae8c4e9b0> True\n",
      "<keras.layers.convolutional.ZeroPadding2D object at 0x7f4ae852d898> True\n",
      "<keras.layers.pooling.MaxPooling2D object at 0x7f4ae89f7eb8> True\n",
      "<keras.layers.convolutional.Conv2D object at 0x7f4b0daa0438> True\n",
      "<keras.layers.normalization.BatchNormalization object at 0x7f4b0d1787f0> True\n",
      "<keras.layers.core.Activation object at 0x7f4b0d1789b0> True\n",
      "<keras.layers.convolutional.Conv2D object at 0x7f4b0d11a588> True\n",
      "<keras.layers.normalization.BatchNormalization object at 0x7f4b0d0da9b0> True\n",
      "<keras.layers.core.Activation object at 0x7f4b0d0f7208> True\n",
      "<keras.layers.convolutional.Conv2D object at 0x7f4b0d0116a0> True\n",
      "<keras.layers.convolutional.Conv2D object at 0x7f4b0cff05f8> True\n",
      "<keras.layers.normalization.BatchNormalization object at 0x7f4b0cff0198> True\n",
      "<keras.layers.normalization.BatchNormalization object at 0x7f4b0ceec710> True\n",
      "<keras.layers.merge.Add object at 0x7f4b0ceecda0> True\n",
      "<keras.layers.core.Activation object at 0x7f4b0ce7aa90> True\n",
      "<keras.layers.convolutional.Conv2D object at 0x7f4b0ce7aba8> True\n",
      "<keras.layers.normalization.BatchNormalization object at 0x7f4b0cdf0898> True\n",
      "<keras.layers.core.Activation object at 0x7f4b0cdb6d30> True\n",
      "<keras.layers.convolutional.Conv2D object at 0x7f4b0cd16828> True\n",
      "<keras.layers.normalization.BatchNormalization object at 0x7f4b0ccf6048> True\n",
      "<keras.layers.core.Activation object at 0x7f4b0ccf6780> True\n",
      "<keras.layers.convolutional.Conv2D object at 0x7f4b0cc13f28> True\n",
      "<keras.layers.normalization.BatchNormalization object at 0x7f4b0cbee6d8> True\n",
      "<keras.layers.merge.Add object at 0x7f4b0cbeeb70> True\n",
      "<keras.layers.core.Activation object at 0x7f4b0cac0518> True\n",
      "<keras.layers.convolutional.Conv2D object at 0x7f4b0cb0bba8> True\n",
      "<keras.layers.normalization.BatchNormalization object at 0x7f4b0ca83198> True\n",
      "<keras.layers.core.Activation object at 0x7f4aebfcbc88> True\n",
      "<keras.layers.convolutional.Conv2D object at 0x7f4aebfa9c18> True\n",
      "<keras.layers.normalization.BatchNormalization object at 0x7f4aebf03518> True\n",
      "<keras.layers.core.Activation object at 0x7f4aebf039e8> True\n",
      "<keras.layers.convolutional.Conv2D object at 0x7f4aebeba908> True\n",
      "<keras.layers.normalization.BatchNormalization object at 0x7f4aebe7dac8> True\n",
      "<keras.layers.merge.Add object at 0x7f4aebe165c0> True\n",
      "<keras.layers.core.Activation object at 0x7f4aebdab9e8> True\n",
      "<keras.layers.convolutional.Conv2D object at 0x7f4aebdabb00> True\n",
      "<keras.layers.normalization.BatchNormalization object at 0x7f4aebd167f0> True\n",
      "<keras.layers.core.Activation object at 0x7f4aebce02e8> True\n",
      "<keras.layers.convolutional.Conv2D object at 0x7f4aebca64e0> True\n",
      "<keras.layers.normalization.BatchNormalization object at 0x7f4aebc2c400> True\n",
      "<keras.layers.core.Activation object at 0x7f4aebbc3470> True\n",
      "<keras.layers.convolutional.Conv2D object at 0x7f4aebb4a5f8> True\n",
      "<keras.layers.convolutional.Conv2D object at 0x7f4aebb2a550> True\n",
      "<keras.layers.normalization.BatchNormalization object at 0x7f4aebb0cf28> True\n",
      "<keras.layers.normalization.BatchNormalization object at 0x7f4aeba2b6a0> True\n",
      "<keras.layers.merge.Add object at 0x7f4aeba2bf60> True\n",
      "<keras.layers.core.Activation object at 0x7f4aeb9b9a20> True\n",
      "<keras.layers.convolutional.Conv2D object at 0x7f4aeb9b9b38> True\n",
      "<keras.layers.normalization.BatchNormalization object at 0x7f4aeb933828> True\n",
      "<keras.layers.core.Activation object at 0x7f4b0c1c9c50> True\n",
      "<keras.layers.convolutional.Conv2D object at 0x7f4ae8411128> True\n",
      "<keras.layers.normalization.BatchNormalization object at 0x7f4ae8471c18> True\n",
      "<keras.layers.core.Activation object at 0x7f4ae8471550> True\n",
      "<keras.layers.convolutional.Conv2D object at 0x7f4ae84b5710> True\n",
      "<keras.layers.normalization.BatchNormalization object at 0x7f4ae8493eb8> True\n",
      "<keras.layers.merge.Add object at 0x7f4ae84939e8> True\n",
      "<keras.layers.core.Activation object at 0x7f4ae84e04e0> True\n",
      "<keras.layers.convolutional.Conv2D object at 0x7f4ae84e03c8> True\n",
      "<keras.layers.normalization.BatchNormalization object at 0x7f4ae8536128> True\n",
      "<keras.layers.core.Activation object at 0x7f4ae8514828> True\n",
      "<keras.layers.convolutional.Conv2D object at 0x7f4ae85780f0> True\n",
      "<keras.layers.normalization.BatchNormalization object at 0x7f4ae85595c0> True\n",
      "<keras.layers.core.Activation object at 0x7f4ae854eba8> True\n",
      "<keras.layers.convolutional.Conv2D object at 0x7f4ae8599a90> True\n",
      "<keras.layers.normalization.BatchNormalization object at 0x7f4ae857a4e0> True\n",
      "<keras.layers.merge.Add object at 0x7f4ae85efac8> True\n",
      "<keras.layers.core.Activation object at 0x7f4ae85c6208> True\n",
      "<keras.layers.convolutional.Conv2D object at 0x7f4ae861c470> True\n",
      "<keras.layers.normalization.BatchNormalization object at 0x7f4ae8612dd8> True\n",
      "<keras.layers.core.Activation object at 0x7f4ae85fc128> True\n",
      "<keras.layers.convolutional.Conv2D object at 0x7f4ae8647ac8> True\n",
      "<keras.layers.normalization.BatchNormalization object at 0x7f4ae86b6eb8> True\n",
      "<keras.layers.core.Activation object at 0x7f4ae86b66a0> True\n",
      "<keras.layers.convolutional.Conv2D object at 0x7f4ae86f5ac8> True\n",
      "<keras.layers.normalization.BatchNormalization object at 0x7f4ae86d7ef0> True\n",
      "<keras.layers.merge.Add object at 0x7f4ae86d76d8> True\n",
      "<keras.layers.core.Activation object at 0x7f4ae87234e0> True\n",
      "<keras.layers.convolutional.Conv2D object at 0x7f4ae8723908> True\n",
      "<keras.layers.normalization.BatchNormalization object at 0x7f4ae8779ef0> True\n",
      "<keras.layers.core.Activation object at 0x7f4ae875ae48> True\n",
      "<keras.layers.convolutional.Conv2D object at 0x7f4ae873b208> True\n",
      "<keras.layers.normalization.BatchNormalization object at 0x7f4ae879cc50> True\n",
      "<keras.layers.core.Activation object at 0x7f4ae879c5c0> True\n",
      "<keras.layers.convolutional.Conv2D object at 0x7f4ae87e2748> True\n",
      "<keras.layers.convolutional.Conv2D object at 0x7f4ae87c72e8> True\n",
      "<keras.layers.normalization.BatchNormalization object at 0x7f4ae87c7ba8> True\n",
      "<keras.layers.normalization.BatchNormalization object at 0x7f4ae8870748> True\n",
      "<keras.layers.merge.Add object at 0x7f4ae884f748> True\n",
      "<keras.layers.core.Activation object at 0x7f4ae883db38> True\n",
      "<keras.layers.convolutional.Conv2D object at 0x7f4ae883dac8> True\n",
      "<keras.layers.normalization.BatchNormalization object at 0x7f4ae8899f28> True\n",
      "<keras.layers.core.Activation object at 0x7f4ae887a6a0> True\n",
      "<keras.layers.convolutional.Conv2D object at 0x7f4ae88d4ba8> True\n",
      "<keras.layers.normalization.BatchNormalization object at 0x7f4ae8938ef0> True\n",
      "<keras.layers.core.Activation object at 0x7f4ae89386d8> True\n",
      "<keras.layers.convolutional.Conv2D object at 0x7f4ae88ffdd8> True\n",
      "<keras.layers.normalization.BatchNormalization object at 0x7f4ae8961630> True\n",
      "<keras.layers.merge.Add object at 0x7f4ae8961c88> True\n",
      "<keras.layers.core.Activation object at 0x7f4ae89b2470> True\n",
      "<keras.layers.convolutional.Conv2D object at 0x7f4ae89b2828> True\n",
      "<keras.layers.normalization.BatchNormalization object at 0x7f4ae898c390> True\n",
      "<keras.layers.core.Activation object at 0x7f4ae89ee630> True\n",
      "<keras.layers.convolutional.Conv2D object at 0x7f4ae89d13c8> True\n",
      "<keras.layers.normalization.BatchNormalization object at 0x7f4ae8a36a58> True\n",
      "<keras.layers.core.Activation object at 0x7f4ae8a2bb00> True\n",
      "<keras.layers.convolutional.Conv2D object at 0x7f4ae89fa0f0> True\n",
      "<keras.layers.normalization.BatchNormalization object at 0x7f4ae8a5f5f8> True\n",
      "<keras.layers.merge.Add object at 0x7f4ae8a549e8> True\n",
      "<keras.layers.core.Activation object at 0x7f4ae8ab0240> True\n",
      "<keras.layers.convolutional.Conv2D object at 0x7f4ae8a892e8> True\n",
      "<keras.layers.normalization.BatchNormalization object at 0x7f4ae8a7f828> True\n",
      "<keras.layers.core.Activation object at 0x7f4ae8ae10f0> True\n",
      "<keras.layers.convolutional.Conv2D object at 0x7f4ae8ac5a58> True\n",
      "<keras.layers.normalization.BatchNormalization object at 0x7f4ae8b29eb8> True\n",
      "<keras.layers.core.Activation object at 0x7f4ae8b29358> True\n",
      "<keras.layers.convolutional.Conv2D object at 0x7f4ae8b6e940> True\n",
      "<keras.layers.normalization.BatchNormalization object at 0x7f4ae8b53d68> True\n",
      "<keras.layers.merge.Add object at 0x7f4ae8b532e8> True\n",
      "<keras.layers.core.Activation object at 0x7f4ae8ba0780> True\n",
      "<keras.layers.convolutional.Conv2D object at 0x7f4ae8ba0668> True\n",
      "<keras.layers.normalization.BatchNormalization object at 0x7f4ae8b7c240> True\n",
      "<keras.layers.core.Activation object at 0x7f4ae8bde588> True\n",
      "<keras.layers.convolutional.Conv2D object at 0x7f4ae8bc0470> True\n",
      "<keras.layers.normalization.BatchNormalization object at 0x7f4ae8c25438> True\n",
      "<keras.layers.core.Activation object at 0x7f4ae8c19470> True\n",
      "<keras.layers.convolutional.Conv2D object at 0x7f4ae8c6b780> True\n",
      "<keras.layers.normalization.BatchNormalization object at 0x7f4ae8c4eb70> True\n",
      "<keras.layers.merge.Add object at 0x7f4ae8c438d0> True\n",
      "<keras.layers.core.Activation object at 0x7f4ae8c82748> True\n",
      "<keras.layers.convolutional.Conv2D object at 0x7f4ae8cf7390> True\n",
      "<keras.layers.normalization.BatchNormalization object at 0x7f4ae8ced978> True\n",
      "<keras.layers.core.Activation object at 0x7f4ae8cd1d68> True\n",
      "<keras.layers.convolutional.Conv2D object at 0x7f4ae8d34898> True\n",
      "<keras.layers.normalization.BatchNormalization object at 0x7f4ae8d17a20> True\n",
      "<keras.layers.core.Activation object at 0x7f4ae8d17400> True\n",
      "<keras.layers.convolutional.Conv2D object at 0x7f4ae8d5f4a8> True\n",
      "<keras.layers.normalization.BatchNormalization object at 0x7f4ae8d41c50> True\n",
      "<keras.layers.merge.Add object at 0x7f4ae8d410f0> True\n",
      "<keras.layers.core.Activation object at 0x7f4ae8d91a90> True\n",
      "<keras.layers.convolutional.Conv2D object at 0x7f4ae8d91cc0> True\n",
      "<keras.layers.normalization.BatchNormalization object at 0x7f4ae8de1d30> True\n",
      "<keras.layers.core.Activation object at 0x7f4ae8dcf470> True\n",
      "<keras.layers.convolutional.Conv2D object at 0x7f4ae8e2a860> True\n",
      "<keras.layers.normalization.BatchNormalization object at 0x7f4ae8e15128> True\n",
      "<keras.layers.core.Activation object at 0x7f4ae8e0b978> True\n",
      "<keras.layers.convolutional.Conv2D object at 0x7f4ae8e530b8> True\n",
      "<keras.layers.convolutional.Conv2D object at 0x7f4ae8eb5908> True\n",
      "<keras.layers.normalization.BatchNormalization object at 0x7f4ae8e498d0> True\n",
      "<keras.layers.normalization.BatchNormalization object at 0x7f4ae8ee70b8> True\n",
      "<keras.layers.merge.Add object at 0x7f4ae8edc630> True\n",
      "<keras.layers.core.Activation object at 0x7f4ae8f38550> True\n",
      "<keras.layers.convolutional.Conv2D object at 0x7f4ae8f10748> True\n",
      "<keras.layers.normalization.BatchNormalization object at 0x7f4ae8f069e8> True\n",
      "<keras.layers.core.Activation object at 0x7f4ae8f74198> True\n",
      "<keras.layers.convolutional.Conv2D object at 0x7f4ae8f50358> True\n",
      "<keras.layers.normalization.BatchNormalization object at 0x7f4ae8faf7b8> True\n",
      "<keras.layers.core.Activation object at 0x7f4ae8fa7d68> True\n",
      "<keras.layers.convolutional.Conv2D object at 0x7f4b0c125d68> True\n",
      "<keras.layers.normalization.BatchNormalization object at 0x7f4ae8fe5780> True\n",
      "<keras.layers.merge.Add object at 0x7f4ae8fdbd68> True\n",
      "<keras.layers.core.Activation object at 0x7f4b0c077518> True\n",
      "<keras.layers.convolutional.Conv2D object at 0x7f4b0c0519b0> True\n",
      "<keras.layers.normalization.BatchNormalization object at 0x7f4b0c046fd0> True\n",
      "<keras.layers.core.Activation object at 0x7f4b0c0b5f98> True\n",
      "<keras.layers.convolutional.Conv2D object at 0x7f4b0c098780> True\n",
      "<keras.layers.normalization.BatchNormalization object at 0x7f4b0c085278> True\n",
      "<keras.layers.core.Activation object at 0x7f4b0c0fb7f0> True\n",
      "<keras.layers.convolutional.Conv2D object at 0x7f4b0c0cd940> True\n",
      "<keras.layers.normalization.BatchNormalization object at 0x7f4b0c12dcf8> True\n",
      "<keras.layers.merge.Add object at 0x7f4b0c11a908> True\n",
      "<keras.layers.core.Activation object at 0x7f4b0c14fef0> True\n"
     ]
    }
   ],
   "source": [
    "# Checking the trainable status of the individual layers\n",
    "for layer in resnet_model.layers:\n",
    "    print(layer, layer.trainable)"
   ]
  },
  {
   "cell_type": "code",
   "execution_count": 10,
   "metadata": {},
   "outputs": [
    {
     "name": "stdout",
     "output_type": "stream",
     "text": [
      "_________________________________________________________________\n",
      "Layer (type)                 Output Shape              Param #   \n",
      "=================================================================\n",
      "resnet50 (Model)             (None, 2, 2, 2048)        23587712  \n",
      "_________________________________________________________________\n",
      "flatten_2 (Flatten)          (None, 8192)              0         \n",
      "_________________________________________________________________\n",
      "dense_3 (Dense)              (None, 1024)              8389632   \n",
      "_________________________________________________________________\n",
      "dropout_2 (Dropout)          (None, 1024)              0         \n",
      "_________________________________________________________________\n",
      "dense_4 (Dense)              (None, 3)                 3075      \n",
      "=================================================================\n",
      "Total params: 31,980,419\n",
      "Trainable params: 31,927,299\n",
      "Non-trainable params: 53,120\n",
      "_________________________________________________________________\n"
     ]
    }
   ],
   "source": [
    "# Adding classifier on top of Convolutional base\n",
    "# create the model\n",
    "model = models.Sequential()\n",
    "\n",
    "# Add the resnet50 convolutional model\n",
    "model.add(resnet_model)\n",
    "\n",
    "# Adding top Layers\n",
    "model.add(layers.Flatten())\n",
    "model.add(layers.Dense(1024, activation='relu'))\n",
    "model.add(layers.Dropout(0.5))\n",
    "model.add(layers.Dense(3, activation='softmax'))\n",
    "\n",
    "# Showing summary of model\n",
    "model.summary()\n",
    "\n",
    "# Fitting the CNN to the images(Image Augmentation, Image Preprocessing)\n",
    "from keras.preprocessing.image import ImageDataGenerator\n",
    "train_datagen = ImageDataGenerator(  \n",
    "        rescale=1./255,\n",
    "        shear_range=0.2,             \n",
    "        zoom_range=0.2,              \n",
    "        horizontal_flip=True)\n",
    "\n",
    "\n",
    "# Normalizing the test set\n",
    "test_datagen = ImageDataGenerator(rescale=1./255)"
   ]
  },
  {
   "cell_type": "code",
   "execution_count": 11,
   "metadata": {},
   "outputs": [
    {
     "name": "stdout",
     "output_type": "stream",
     "text": [
      "Found 22528 images belonging to 3 classes.\n",
      "Found 6460 images belonging to 3 classes.\n"
     ]
    }
   ],
   "source": [
    "# This will create 80:20 split of training and test set \n",
    "# path to data\n",
    "os.chdir('/home/sachin_sharma/Desktop/exp_2_jpg')\n",
    "training_set = train_datagen.flow_from_directory(\n",
    "        'TrainingSet',\n",
    "         target_size=(64,64),\n",
    "         batch_size=32,\n",
    "         class_mode='categorical')\n",
    "\n",
    "# This will create the Test set\n",
    "test_set = test_datagen.flow_from_directory(\n",
    "        'TestSet',\n",
    "        target_size=(64,64),\n",
    "        batch_size=32,\n",
    "        class_mode='categorical', \n",
    "        shuffle=False)\n",
    "\n",
    "# Compile the model\n",
    "model.compile(loss='categorical_crossentropy',\n",
    "              optimizer=optimizers.RMSprop(lr=1e-4),\n",
    "              metrics=['acc'])"
   ]
  },
  {
   "cell_type": "code",
   "execution_count": 12,
   "metadata": {},
   "outputs": [
    {
     "name": "stdout",
     "output_type": "stream",
     "text": [
      "Epoch 1/15\n",
      "704/704 [==============================] - 179s 255ms/step - loss: 0.1866 - acc: 0.9197 - val_loss: 0.1385 - val_acc: 0.9262\n",
      "Epoch 2/15\n",
      "704/704 [==============================] - 44s 63ms/step - loss: 0.1242 - acc: 0.9397 - val_loss: 0.1231 - val_acc: 0.9277\n",
      "Epoch 3/15\n",
      "704/704 [==============================] - 45s 64ms/step - loss: 0.1160 - acc: 0.9425 - val_loss: 0.2282 - val_acc: 0.9189\n",
      "Epoch 4/15\n",
      "704/704 [==============================] - 45s 64ms/step - loss: 0.1092 - acc: 0.9442 - val_loss: 0.3108 - val_acc: 0.9065\n",
      "Epoch 5/15\n",
      "704/704 [==============================] - 45s 64ms/step - loss: 0.1141 - acc: 0.9459 - val_loss: 0.1489 - val_acc: 0.9238\n",
      "Epoch 6/15\n",
      "704/704 [==============================] - 45s 64ms/step - loss: 0.1062 - acc: 0.9482 - val_loss: 0.1771 - val_acc: 0.9229\n",
      "Epoch 7/15\n",
      "704/704 [==============================] - 45s 64ms/step - loss: 0.0998 - acc: 0.9490 - val_loss: 0.1359 - val_acc: 0.9289\n",
      "Epoch 8/15\n",
      "704/704 [==============================] - 45s 65ms/step - loss: 0.1027 - acc: 0.9507 - val_loss: 0.2503 - val_acc: 0.9121\n",
      "Epoch 9/15\n",
      "704/704 [==============================] - 45s 65ms/step - loss: 0.1021 - acc: 0.9506 - val_loss: 0.1729 - val_acc: 0.9232\n",
      "Epoch 10/15\n",
      "704/704 [==============================] - 45s 65ms/step - loss: 0.1084 - acc: 0.9502 - val_loss: 0.2128 - val_acc: 0.9164\n",
      "Epoch 11/15\n",
      "704/704 [==============================] - 45s 65ms/step - loss: 0.1030 - acc: 0.9519 - val_loss: 0.1493 - val_acc: 0.9272\n",
      "Epoch 12/15\n",
      "704/704 [==============================] - 46s 65ms/step - loss: 0.0980 - acc: 0.9511 - val_loss: 0.1617 - val_acc: 0.9246\n",
      "Epoch 13/15\n",
      "704/704 [==============================] - 46s 65ms/step - loss: 0.0991 - acc: 0.9508 - val_loss: 0.2720 - val_acc: 0.9152\n",
      "Epoch 14/15\n",
      "704/704 [==============================] - 45s 65ms/step - loss: 0.0991 - acc: 0.9521 - val_loss: 0.1440 - val_acc: 0.9254\n",
      "Epoch 15/15\n",
      "704/704 [==============================] - 45s 64ms/step - loss: 0.0898 - acc: 0.9530 - val_loss: 0.1606 - val_acc: 0.9271\n"
     ]
    }
   ],
   "source": [
    "# Train the model\n",
    "history = model.fit_generator(\n",
    "          training_set, \n",
    "          steps_per_epoch=(training_set.samples/32),\n",
    "          epochs=15,\n",
    "          validation_data=test_set,\n",
    "          validation_steps=(test_set.samples/32))"
   ]
  },
  {
   "cell_type": "code",
   "execution_count": 19,
   "metadata": {},
   "outputs": [],
   "source": [
    "# saving the model\n",
    "os.chdir('/home/sachin_sharma/Desktop')\n",
    "model.save('exp2_a1.h5')"
   ]
  },
  {
   "cell_type": "code",
   "execution_count": 13,
   "metadata": {},
   "outputs": [
    {
     "data": {
      "text/plain": [
       "{'Else': 0, 'Industrial': 1, 'Residential': 2}"
      ]
     },
     "execution_count": 13,
     "metadata": {},
     "output_type": "execute_result"
    }
   ],
   "source": [
    "# Visualizing the mapping between labels\n",
    "training_set.class_indices"
   ]
  },
  {
   "cell_type": "code",
   "execution_count": 14,
   "metadata": {},
   "outputs": [],
   "source": [
    "# getting predictions\n",
    "Y_pred = model.predict_generator(test_set, test_set.samples//32 +1 )\n",
    "y_pred = np.argmax(Y_pred, axis=1)\n"
   ]
  },
  {
   "cell_type": "code",
   "execution_count": 15,
   "metadata": {},
   "outputs": [
    {
     "name": "stdout",
     "output_type": "stream",
     "text": [
      "Confusion Matrix: \n",
      "             Else  Industrial  Residential\n",
      "Else         4765          31            4\n",
      "Industrial      0         754            6\n",
      "Residential     6         424          470\n"
     ]
    }
   ],
   "source": [
    "# Confusion Matrix \n",
    "print('Confusion Matrix: ')\n",
    "cm = confusion_matrix(test_set.classes, y_pred)\n",
    "#print(cm)\n",
    "\n",
    "def cm2df(cm, labels):\n",
    "    df = pd.DataFrame()\n",
    "    # rows\n",
    "    for i, row_label in enumerate(labels):\n",
    "        rowdata={}\n",
    "        # columns\n",
    "        for j, col_label in enumerate(labels): \n",
    "            rowdata[col_label]=cm[i,j]\n",
    "        df = df.append(pd.DataFrame.from_dict({row_label:rowdata}, orient='index'))\n",
    "    return df[labels]\n",
    "\n",
    "df = cm2df(cm, [\"Else\", \"Industrial\", \"Residential\"])\n",
    "print(df)"
   ]
  },
  {
   "cell_type": "code",
   "execution_count": 17,
   "metadata": {},
   "outputs": [
    {
     "name": "stdout",
     "output_type": "stream",
     "text": [
      "Classification Report\n",
      "              precision    recall  f1-score   support\n",
      "\n",
      "        Else       1.00      0.99      1.00      4800\n",
      "  Industrial       0.62      0.99      0.77       760\n",
      " Residential       0.98      0.52      0.68       900\n",
      "\n",
      "   micro avg       0.93      0.93      0.93      6460\n",
      "   macro avg       0.87      0.84      0.81      6460\n",
      "weighted avg       0.95      0.93      0.92      6460\n",
      "\n"
     ]
    }
   ],
   "source": [
    "# Classification report\n",
    "print('Classification Report')\n",
    "target_names = ['Else', 'Industrial', 'Residential']\n",
    "classifcn_report = classification_report(test_set.classes, y_pred, target_names=target_names)\n",
    "print(classifcn_report)"
   ]
  },
  {
   "cell_type": "code",
   "execution_count": 18,
   "metadata": {},
   "outputs": [
    {
     "name": "stdout",
     "output_type": "stream",
     "text": [
      "dict_keys(['val_loss', 'val_acc', 'loss', 'acc'])\n"
     ]
    },
    {
     "data": {
      "image/png": "[encoded data removed]",
      "text/plain": [
       "<Figure size 432x288 with 1 Axes>"
      ]
     },
     "metadata": {
      "needs_background": "light"
     },
     "output_type": "display_data"
    },
    {
     "data": {
      "image/png": "[encoded data removed]",
      "text/plain": [
       "<Figure size 432x288 with 1 Axes>"
      ]
     },
     "metadata": {
      "needs_background": "light"
     },
     "output_type": "display_data"
    }
   ],
   "source": [
    "# Plotting the Loss and Classification Accuracy\n",
    "model.metrics_names\n",
    "print(history.history.keys())\n",
    "#  \"Accuracy\"\n",
    "plt.plot(history.history['acc'])\n",
    "plt.plot(history.history['val_acc'])\n",
    "plt.title('Model Accuracy')\n",
    "plt.ylabel('Accuracy')\n",
    "plt.xlabel('Epoch')\n",
    "plt.legend(['train', 'test'], loc='upper left')\n",
    "plt.show()\n",
    "\n",
    "# \"Loss\"\n",
    "plt.plot(history.history['loss'])\n",
    "plt.plot(history.history['val_loss'])\n",
    "plt.title('Model loss')\n",
    "plt.ylabel('Loss')\n",
    "plt.xlabel('Epoch')\n",
    "plt.legend(['train', 'test'], loc='upper left')\n",
    "plt.show()\n"
   ]
  }
 ],
 "metadata": {
  "kernelspec": {
   "display_name": "tf",
   "language": "python",
   "name": "tf"
  },
  "language_info": {
   "codemirror_mode": {
    "name": "ipython",
    "version": 3
   },
   "file_extension": ".py",
   "mimetype": "text/x-python",
   "name": "python",
   "nbconvert_exporter": "python",
   "pygments_lexer": "ipython3",
   "version": "3.6.6"
  }
 },
 "nbformat": 4,
 "nbformat_minor": 2
}
